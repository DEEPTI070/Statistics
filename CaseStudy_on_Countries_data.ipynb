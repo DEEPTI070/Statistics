{
  "nbformat": 4,
  "nbformat_minor": 0,
  "metadata": {
    "colab": {
      "provenance": []
    },
    "kernelspec": {
      "name": "python3",
      "display_name": "Python 3"
    },
    "language_info": {
      "name": "python"
    }
  },
  "cells": [
    {
      "cell_type": "code",
      "execution_count": 83,
      "metadata": {
        "id": "2KHJY_n75qE-"
      },
      "outputs": [],
      "source": [
        "import numpy as np\n",
        "import pandas as pd\n",
        "import matplotlib.pyplot as plt\n",
        "import seaborn as sns\n",
        "import plotly.express as px\n",
        "import warnings\n",
        "warnings.filterwarnings('ignore')\n",
        "import statistics"
      ]
    },
    {
      "cell_type": "code",
      "source": [
        "df = pd.read_csv('/content/country_profile_variables.csv')\n",
        "df.head(10)"
      ],
      "metadata": {
        "colab": {
          "base_uri": "https://localhost:8080/",
          "height": 586
        },
        "id": "F4PFbcgK8gPU",
        "outputId": "f6c5dcb3-a8ee-459f-a9fa-b9105a934270"
      },
      "execution_count": 194,
      "outputs": [
        {
          "output_type": "execute_result",
          "data": {
            "text/plain": [
              "               country          Region Surface area (km2)  \\\n",
              "0          Afghanistan    SouthernAsia             652864   \n",
              "1              Albania  SouthernEurope              28748   \n",
              "2              Algeria  NorthernAfrica            2381741   \n",
              "3       American Samoa       Polynesia                199   \n",
              "4              Andorra  SouthernEurope                468   \n",
              "5               Angola    MiddleAfrica            1246700   \n",
              "6             Anguilla       Caribbean                 91   \n",
              "7  Antigua and Barbuda       Caribbean                442   \n",
              "8            Argentina    SouthAmerica            2780400   \n",
              "9              Armenia     WesternAsia              29743   \n",
              "\n",
              "   Population in thousands (2017)  Population density (per km2, 2017)  \\\n",
              "0                           35530                                54.4   \n",
              "1                            2930                               106.9   \n",
              "2                           41318                                17.3   \n",
              "3                              56                               278.2   \n",
              "4                              77                               163.8   \n",
              "5                           29784                                23.9   \n",
              "6                              15                               165.7   \n",
              "7                             102                               231.8   \n",
              "8                           44271                                16.2   \n",
              "9                            2930                               102.9   \n",
              "\n",
              "   Sex ratio (m per 100 f, 2017)  \\\n",
              "0                          106.3   \n",
              "1                          101.9   \n",
              "2                          102.0   \n",
              "3                          103.6   \n",
              "4                          102.3   \n",
              "5                           96.2   \n",
              "6                           97.6   \n",
              "7                           92.3   \n",
              "8                           95.9   \n",
              "9                           88.8   \n",
              "\n",
              "   GDP: Gross domestic product (million current US$)  \\\n",
              "0                                              20270   \n",
              "1                                              11541   \n",
              "2                                             164779   \n",
              "3                                                -99   \n",
              "4                                               2812   \n",
              "5                                             117955   \n",
              "6                                                320   \n",
              "7                                               1356   \n",
              "8                                             632343   \n",
              "9                                              10529   \n",
              "\n",
              "  GDP growth rate (annual %, const. 2005 prices)  \\\n",
              "0                                           -2.4   \n",
              "1                                            2.6   \n",
              "2                                            3.8   \n",
              "3                                            -99   \n",
              "4                                            0.8   \n",
              "5                                            3.0   \n",
              "6                                            2.9   \n",
              "7                                            4.1   \n",
              "8                                            2.4   \n",
              "9                                            3.0   \n",
              "\n",
              "   GDP per capita (current US$) Economy: Agriculture (% of GVA)  ...  \\\n",
              "0                         623.2                            23.3  ...   \n",
              "1                        3984.2                            22.4  ...   \n",
              "2                        4154.1                            12.2  ...   \n",
              "3                         -99.0                             -99  ...   \n",
              "4                       39896.4                             0.5  ...   \n",
              "5                        4714.1                             6.8  ...   \n",
              "6                       21879.6                             2.3  ...   \n",
              "7                       14764.5                             1.9  ...   \n",
              "8                       14564.5                             6.0  ...   \n",
              "9                        3489.1                            19.0  ...   \n",
              "\n",
              "   Mobile-cellular subscriptions (per 100 inhabitants).1  \\\n",
              "0                                                8.3       \n",
              "1                                               63.3       \n",
              "2                                               38.2       \n",
              "3                                                -99       \n",
              "4                                               96.9       \n",
              "5                                               12.4       \n",
              "6                                               76.0       \n",
              "7                                               65.2       \n",
              "8                                               69.4       \n",
              "9                                               58.2       \n",
              "\n",
              "   Individuals using the Internet (per 100 inhabitants)  \\\n",
              "0                                                 42      \n",
              "1                                                130      \n",
              "2                                                135      \n",
              "3                                                 92      \n",
              "4                                                 13      \n",
              "5                                                146      \n",
              "6                                                 52      \n",
              "7                                                 55      \n",
              "8                                                256      \n",
              "9                                                114      \n",
              "\n",
              "  Threatened species (number) Forested area (% of land area)  \\\n",
              "0                         2.1                        9.8/0.3   \n",
              "1                        28.2                        5.7/2.0   \n",
              "2                         0.8                      145.4/3.7   \n",
              "3                        87.9                            -99   \n",
              "4                        34.0                        0.5/6.4   \n",
              "5                        46.5                       34.8/1.4   \n",
              "6                        61.1                        0.1/9.8   \n",
              "7                        22.3                        0.5/5.8   \n",
              "8                        10.0                      204.0/4.7   \n",
              "9                        11.7                        5.5/1.8   \n",
              "\n",
              "  CO2 emission estimates (million tons/tons per capita)  \\\n",
              "0                                                 63      \n",
              "1                                                 84      \n",
              "2                                               5900      \n",
              "3                                                -99      \n",
              "4                                                  1      \n",
              "5                                               3902      \n",
              "6                                                  0      \n",
              "7                                                -99      \n",
              "8                                               3167      \n",
              "9                                                 48      \n",
              "\n",
              "  Energy production, primary (Petajoules)  \\\n",
              "0                                       5   \n",
              "1                                      36   \n",
              "2                                      55   \n",
              "3                                     -99   \n",
              "4                                     119   \n",
              "5                                      25   \n",
              "6                                     136   \n",
              "7                                      84   \n",
              "8                                      85   \n",
              "9                                      46   \n",
              "\n",
              "  Energy supply per capita (Gigajoules)  \\\n",
              "0                             78.2/47.0   \n",
              "1                             94.9/95.2   \n",
              "2                             84.3/81.8   \n",
              "3                           100.0/100.0   \n",
              "4                           100.0/100.0   \n",
              "5                             75.4/28.2   \n",
              "6                              94.6/...   \n",
              "7                             97.9/97.9   \n",
              "8                            99.0/100.0   \n",
              "9                           100.0/100.0   \n",
              "\n",
              "   Pop. using improved drinking water (urban/rural, %)  \\\n",
              "0                                          45.1/27.0     \n",
              "1                                          95.5/90.2     \n",
              "2                                          89.8/82.2     \n",
              "3                                          62.5/62.5     \n",
              "4                                        100.0/100.0     \n",
              "5                                          88.6/22.5     \n",
              "6                                           97.9/...     \n",
              "7                                          91.4/91.4     \n",
              "8                                          96.2/98.3     \n",
              "9                                          96.2/78.2     \n",
              "\n",
              "   Pop. using improved sanitation facilities (urban/rural, %)  \\\n",
              "0                                              21.43            \n",
              "1                                               2.96            \n",
              "2                                               0.05            \n",
              "3                                                -99            \n",
              "4                                                -99            \n",
              "5                                               0.42            \n",
              "6                                                -99            \n",
              "7                                               0.12            \n",
              "8                                               0.01            \n",
              "9                                               3.17            \n",
              "\n",
              "  Net Official Development Assist. received (% of GNI)  \n",
              "0                                                -99    \n",
              "1                                                -99    \n",
              "2                                                -99    \n",
              "3                                                -99    \n",
              "4                                                -99    \n",
              "5                                                -99    \n",
              "6                                                -99    \n",
              "7                                                -99    \n",
              "8                                                -99    \n",
              "9                                                -99    \n",
              "\n",
              "[10 rows x 50 columns]"
            ],
            "text/html": [
              "\n",
              "  <div id=\"df-fcc802be-1471-4616-9a37-db8024303d5c\" class=\"colab-df-container\">\n",
              "    <div>\n",
              "<style scoped>\n",
              "    .dataframe tbody tr th:only-of-type {\n",
              "        vertical-align: middle;\n",
              "    }\n",
              "\n",
              "    .dataframe tbody tr th {\n",
              "        vertical-align: top;\n",
              "    }\n",
              "\n",
              "    .dataframe thead th {\n",
              "        text-align: right;\n",
              "    }\n",
              "</style>\n",
              "<table border=\"1\" class=\"dataframe\">\n",
              "  <thead>\n",
              "    <tr style=\"text-align: right;\">\n",
              "      <th></th>\n",
              "      <th>country</th>\n",
              "      <th>Region</th>\n",
              "      <th>Surface area (km2)</th>\n",
              "      <th>Population in thousands (2017)</th>\n",
              "      <th>Population density (per km2, 2017)</th>\n",
              "      <th>Sex ratio (m per 100 f, 2017)</th>\n",
              "      <th>GDP: Gross domestic product (million current US$)</th>\n",
              "      <th>GDP growth rate (annual %, const. 2005 prices)</th>\n",
              "      <th>GDP per capita (current US$)</th>\n",
              "      <th>Economy: Agriculture (% of GVA)</th>\n",
              "      <th>...</th>\n",
              "      <th>Mobile-cellular subscriptions (per 100 inhabitants).1</th>\n",
              "      <th>Individuals using the Internet (per 100 inhabitants)</th>\n",
              "      <th>Threatened species (number)</th>\n",
              "      <th>Forested area (% of land area)</th>\n",
              "      <th>CO2 emission estimates (million tons/tons per capita)</th>\n",
              "      <th>Energy production, primary (Petajoules)</th>\n",
              "      <th>Energy supply per capita (Gigajoules)</th>\n",
              "      <th>Pop. using improved drinking water (urban/rural, %)</th>\n",
              "      <th>Pop. using improved sanitation facilities (urban/rural, %)</th>\n",
              "      <th>Net Official Development Assist. received (% of GNI)</th>\n",
              "    </tr>\n",
              "  </thead>\n",
              "  <tbody>\n",
              "    <tr>\n",
              "      <th>0</th>\n",
              "      <td>Afghanistan</td>\n",
              "      <td>SouthernAsia</td>\n",
              "      <td>652864</td>\n",
              "      <td>35530</td>\n",
              "      <td>54.4</td>\n",
              "      <td>106.3</td>\n",
              "      <td>20270</td>\n",
              "      <td>-2.4</td>\n",
              "      <td>623.2</td>\n",
              "      <td>23.3</td>\n",
              "      <td>...</td>\n",
              "      <td>8.3</td>\n",
              "      <td>42</td>\n",
              "      <td>2.1</td>\n",
              "      <td>9.8/0.3</td>\n",
              "      <td>63</td>\n",
              "      <td>5</td>\n",
              "      <td>78.2/47.0</td>\n",
              "      <td>45.1/27.0</td>\n",
              "      <td>21.43</td>\n",
              "      <td>-99</td>\n",
              "    </tr>\n",
              "    <tr>\n",
              "      <th>1</th>\n",
              "      <td>Albania</td>\n",
              "      <td>SouthernEurope</td>\n",
              "      <td>28748</td>\n",
              "      <td>2930</td>\n",
              "      <td>106.9</td>\n",
              "      <td>101.9</td>\n",
              "      <td>11541</td>\n",
              "      <td>2.6</td>\n",
              "      <td>3984.2</td>\n",
              "      <td>22.4</td>\n",
              "      <td>...</td>\n",
              "      <td>63.3</td>\n",
              "      <td>130</td>\n",
              "      <td>28.2</td>\n",
              "      <td>5.7/2.0</td>\n",
              "      <td>84</td>\n",
              "      <td>36</td>\n",
              "      <td>94.9/95.2</td>\n",
              "      <td>95.5/90.2</td>\n",
              "      <td>2.96</td>\n",
              "      <td>-99</td>\n",
              "    </tr>\n",
              "    <tr>\n",
              "      <th>2</th>\n",
              "      <td>Algeria</td>\n",
              "      <td>NorthernAfrica</td>\n",
              "      <td>2381741</td>\n",
              "      <td>41318</td>\n",
              "      <td>17.3</td>\n",
              "      <td>102.0</td>\n",
              "      <td>164779</td>\n",
              "      <td>3.8</td>\n",
              "      <td>4154.1</td>\n",
              "      <td>12.2</td>\n",
              "      <td>...</td>\n",
              "      <td>38.2</td>\n",
              "      <td>135</td>\n",
              "      <td>0.8</td>\n",
              "      <td>145.4/3.7</td>\n",
              "      <td>5900</td>\n",
              "      <td>55</td>\n",
              "      <td>84.3/81.8</td>\n",
              "      <td>89.8/82.2</td>\n",
              "      <td>0.05</td>\n",
              "      <td>-99</td>\n",
              "    </tr>\n",
              "    <tr>\n",
              "      <th>3</th>\n",
              "      <td>American Samoa</td>\n",
              "      <td>Polynesia</td>\n",
              "      <td>199</td>\n",
              "      <td>56</td>\n",
              "      <td>278.2</td>\n",
              "      <td>103.6</td>\n",
              "      <td>-99</td>\n",
              "      <td>-99</td>\n",
              "      <td>-99.0</td>\n",
              "      <td>-99</td>\n",
              "      <td>...</td>\n",
              "      <td>-99</td>\n",
              "      <td>92</td>\n",
              "      <td>87.9</td>\n",
              "      <td>-99</td>\n",
              "      <td>-99</td>\n",
              "      <td>-99</td>\n",
              "      <td>100.0/100.0</td>\n",
              "      <td>62.5/62.5</td>\n",
              "      <td>-99</td>\n",
              "      <td>-99</td>\n",
              "    </tr>\n",
              "    <tr>\n",
              "      <th>4</th>\n",
              "      <td>Andorra</td>\n",
              "      <td>SouthernEurope</td>\n",
              "      <td>468</td>\n",
              "      <td>77</td>\n",
              "      <td>163.8</td>\n",
              "      <td>102.3</td>\n",
              "      <td>2812</td>\n",
              "      <td>0.8</td>\n",
              "      <td>39896.4</td>\n",
              "      <td>0.5</td>\n",
              "      <td>...</td>\n",
              "      <td>96.9</td>\n",
              "      <td>13</td>\n",
              "      <td>34.0</td>\n",
              "      <td>0.5/6.4</td>\n",
              "      <td>1</td>\n",
              "      <td>119</td>\n",
              "      <td>100.0/100.0</td>\n",
              "      <td>100.0/100.0</td>\n",
              "      <td>-99</td>\n",
              "      <td>-99</td>\n",
              "    </tr>\n",
              "    <tr>\n",
              "      <th>5</th>\n",
              "      <td>Angola</td>\n",
              "      <td>MiddleAfrica</td>\n",
              "      <td>1246700</td>\n",
              "      <td>29784</td>\n",
              "      <td>23.9</td>\n",
              "      <td>96.2</td>\n",
              "      <td>117955</td>\n",
              "      <td>3.0</td>\n",
              "      <td>4714.1</td>\n",
              "      <td>6.8</td>\n",
              "      <td>...</td>\n",
              "      <td>12.4</td>\n",
              "      <td>146</td>\n",
              "      <td>46.5</td>\n",
              "      <td>34.8/1.4</td>\n",
              "      <td>3902</td>\n",
              "      <td>25</td>\n",
              "      <td>75.4/28.2</td>\n",
              "      <td>88.6/22.5</td>\n",
              "      <td>0.42</td>\n",
              "      <td>-99</td>\n",
              "    </tr>\n",
              "    <tr>\n",
              "      <th>6</th>\n",
              "      <td>Anguilla</td>\n",
              "      <td>Caribbean</td>\n",
              "      <td>91</td>\n",
              "      <td>15</td>\n",
              "      <td>165.7</td>\n",
              "      <td>97.6</td>\n",
              "      <td>320</td>\n",
              "      <td>2.9</td>\n",
              "      <td>21879.6</td>\n",
              "      <td>2.3</td>\n",
              "      <td>...</td>\n",
              "      <td>76.0</td>\n",
              "      <td>52</td>\n",
              "      <td>61.1</td>\n",
              "      <td>0.1/9.8</td>\n",
              "      <td>0</td>\n",
              "      <td>136</td>\n",
              "      <td>94.6/...</td>\n",
              "      <td>97.9/...</td>\n",
              "      <td>-99</td>\n",
              "      <td>-99</td>\n",
              "    </tr>\n",
              "    <tr>\n",
              "      <th>7</th>\n",
              "      <td>Antigua and Barbuda</td>\n",
              "      <td>Caribbean</td>\n",
              "      <td>442</td>\n",
              "      <td>102</td>\n",
              "      <td>231.8</td>\n",
              "      <td>92.3</td>\n",
              "      <td>1356</td>\n",
              "      <td>4.1</td>\n",
              "      <td>14764.5</td>\n",
              "      <td>1.9</td>\n",
              "      <td>...</td>\n",
              "      <td>65.2</td>\n",
              "      <td>55</td>\n",
              "      <td>22.3</td>\n",
              "      <td>0.5/5.8</td>\n",
              "      <td>-99</td>\n",
              "      <td>84</td>\n",
              "      <td>97.9/97.9</td>\n",
              "      <td>91.4/91.4</td>\n",
              "      <td>0.12</td>\n",
              "      <td>-99</td>\n",
              "    </tr>\n",
              "    <tr>\n",
              "      <th>8</th>\n",
              "      <td>Argentina</td>\n",
              "      <td>SouthAmerica</td>\n",
              "      <td>2780400</td>\n",
              "      <td>44271</td>\n",
              "      <td>16.2</td>\n",
              "      <td>95.9</td>\n",
              "      <td>632343</td>\n",
              "      <td>2.4</td>\n",
              "      <td>14564.5</td>\n",
              "      <td>6.0</td>\n",
              "      <td>...</td>\n",
              "      <td>69.4</td>\n",
              "      <td>256</td>\n",
              "      <td>10.0</td>\n",
              "      <td>204.0/4.7</td>\n",
              "      <td>3167</td>\n",
              "      <td>85</td>\n",
              "      <td>99.0/100.0</td>\n",
              "      <td>96.2/98.3</td>\n",
              "      <td>0.01</td>\n",
              "      <td>-99</td>\n",
              "    </tr>\n",
              "    <tr>\n",
              "      <th>9</th>\n",
              "      <td>Armenia</td>\n",
              "      <td>WesternAsia</td>\n",
              "      <td>29743</td>\n",
              "      <td>2930</td>\n",
              "      <td>102.9</td>\n",
              "      <td>88.8</td>\n",
              "      <td>10529</td>\n",
              "      <td>3.0</td>\n",
              "      <td>3489.1</td>\n",
              "      <td>19.0</td>\n",
              "      <td>...</td>\n",
              "      <td>58.2</td>\n",
              "      <td>114</td>\n",
              "      <td>11.7</td>\n",
              "      <td>5.5/1.8</td>\n",
              "      <td>48</td>\n",
              "      <td>46</td>\n",
              "      <td>100.0/100.0</td>\n",
              "      <td>96.2/78.2</td>\n",
              "      <td>3.17</td>\n",
              "      <td>-99</td>\n",
              "    </tr>\n",
              "  </tbody>\n",
              "</table>\n",
              "<p>10 rows × 50 columns</p>\n",
              "</div>\n",
              "    <div class=\"colab-df-buttons\">\n",
              "\n",
              "  <div class=\"colab-df-container\">\n",
              "    <button class=\"colab-df-convert\" onclick=\"convertToInteractive('df-fcc802be-1471-4616-9a37-db8024303d5c')\"\n",
              "            title=\"Convert this dataframe to an interactive table.\"\n",
              "            style=\"display:none;\">\n",
              "\n",
              "  <svg xmlns=\"http://www.w3.org/2000/svg\" height=\"24px\" viewBox=\"0 -960 960 960\">\n",
              "    <path d=\"M120-120v-720h720v720H120Zm60-500h600v-160H180v160Zm220 220h160v-160H400v160Zm0 220h160v-160H400v160ZM180-400h160v-160H180v160Zm440 0h160v-160H620v160ZM180-180h160v-160H180v160Zm440 0h160v-160H620v160Z\"/>\n",
              "  </svg>\n",
              "    </button>\n",
              "\n",
              "  <style>\n",
              "    .colab-df-container {\n",
              "      display:flex;\n",
              "      gap: 12px;\n",
              "    }\n",
              "\n",
              "    .colab-df-convert {\n",
              "      background-color: #E8F0FE;\n",
              "      border: none;\n",
              "      border-radius: 50%;\n",
              "      cursor: pointer;\n",
              "      display: none;\n",
              "      fill: #1967D2;\n",
              "      height: 32px;\n",
              "      padding: 0 0 0 0;\n",
              "      width: 32px;\n",
              "    }\n",
              "\n",
              "    .colab-df-convert:hover {\n",
              "      background-color: #E2EBFA;\n",
              "      box-shadow: 0px 1px 2px rgba(60, 64, 67, 0.3), 0px 1px 3px 1px rgba(60, 64, 67, 0.15);\n",
              "      fill: #174EA6;\n",
              "    }\n",
              "\n",
              "    .colab-df-buttons div {\n",
              "      margin-bottom: 4px;\n",
              "    }\n",
              "\n",
              "    [theme=dark] .colab-df-convert {\n",
              "      background-color: #3B4455;\n",
              "      fill: #D2E3FC;\n",
              "    }\n",
              "\n",
              "    [theme=dark] .colab-df-convert:hover {\n",
              "      background-color: #434B5C;\n",
              "      box-shadow: 0px 1px 3px 1px rgba(0, 0, 0, 0.15);\n",
              "      filter: drop-shadow(0px 1px 2px rgba(0, 0, 0, 0.3));\n",
              "      fill: #FFFFFF;\n",
              "    }\n",
              "  </style>\n",
              "\n",
              "    <script>\n",
              "      const buttonEl =\n",
              "        document.querySelector('#df-fcc802be-1471-4616-9a37-db8024303d5c button.colab-df-convert');\n",
              "      buttonEl.style.display =\n",
              "        google.colab.kernel.accessAllowed ? 'block' : 'none';\n",
              "\n",
              "      async function convertToInteractive(key) {\n",
              "        const element = document.querySelector('#df-fcc802be-1471-4616-9a37-db8024303d5c');\n",
              "        const dataTable =\n",
              "          await google.colab.kernel.invokeFunction('convertToInteractive',\n",
              "                                                    [key], {});\n",
              "        if (!dataTable) return;\n",
              "\n",
              "        const docLinkHtml = 'Like what you see? Visit the ' +\n",
              "          '<a target=\"_blank\" href=https://colab.research.google.com/notebooks/data_table.ipynb>data table notebook</a>'\n",
              "          + ' to learn more about interactive tables.';\n",
              "        element.innerHTML = '';\n",
              "        dataTable['output_type'] = 'display_data';\n",
              "        await google.colab.output.renderOutput(dataTable, element);\n",
              "        const docLink = document.createElement('div');\n",
              "        docLink.innerHTML = docLinkHtml;\n",
              "        element.appendChild(docLink);\n",
              "      }\n",
              "    </script>\n",
              "  </div>\n",
              "\n",
              "\n",
              "<div id=\"df-8f03bb7a-5e32-4267-9a47-e6269542f24a\">\n",
              "  <button class=\"colab-df-quickchart\" onclick=\"quickchart('df-8f03bb7a-5e32-4267-9a47-e6269542f24a')\"\n",
              "            title=\"Suggest charts\"\n",
              "            style=\"display:none;\">\n",
              "\n",
              "<svg xmlns=\"http://www.w3.org/2000/svg\" height=\"24px\"viewBox=\"0 0 24 24\"\n",
              "     width=\"24px\">\n",
              "    <g>\n",
              "        <path d=\"M19 3H5c-1.1 0-2 .9-2 2v14c0 1.1.9 2 2 2h14c1.1 0 2-.9 2-2V5c0-1.1-.9-2-2-2zM9 17H7v-7h2v7zm4 0h-2V7h2v10zm4 0h-2v-4h2v4z\"/>\n",
              "    </g>\n",
              "</svg>\n",
              "  </button>\n",
              "\n",
              "<style>\n",
              "  .colab-df-quickchart {\n",
              "      --bg-color: #E8F0FE;\n",
              "      --fill-color: #1967D2;\n",
              "      --hover-bg-color: #E2EBFA;\n",
              "      --hover-fill-color: #174EA6;\n",
              "      --disabled-fill-color: #AAA;\n",
              "      --disabled-bg-color: #DDD;\n",
              "  }\n",
              "\n",
              "  [theme=dark] .colab-df-quickchart {\n",
              "      --bg-color: #3B4455;\n",
              "      --fill-color: #D2E3FC;\n",
              "      --hover-bg-color: #434B5C;\n",
              "      --hover-fill-color: #FFFFFF;\n",
              "      --disabled-bg-color: #3B4455;\n",
              "      --disabled-fill-color: #666;\n",
              "  }\n",
              "\n",
              "  .colab-df-quickchart {\n",
              "    background-color: var(--bg-color);\n",
              "    border: none;\n",
              "    border-radius: 50%;\n",
              "    cursor: pointer;\n",
              "    display: none;\n",
              "    fill: var(--fill-color);\n",
              "    height: 32px;\n",
              "    padding: 0;\n",
              "    width: 32px;\n",
              "  }\n",
              "\n",
              "  .colab-df-quickchart:hover {\n",
              "    background-color: var(--hover-bg-color);\n",
              "    box-shadow: 0 1px 2px rgba(60, 64, 67, 0.3), 0 1px 3px 1px rgba(60, 64, 67, 0.15);\n",
              "    fill: var(--button-hover-fill-color);\n",
              "  }\n",
              "\n",
              "  .colab-df-quickchart-complete:disabled,\n",
              "  .colab-df-quickchart-complete:disabled:hover {\n",
              "    background-color: var(--disabled-bg-color);\n",
              "    fill: var(--disabled-fill-color);\n",
              "    box-shadow: none;\n",
              "  }\n",
              "\n",
              "  .colab-df-spinner {\n",
              "    border: 2px solid var(--fill-color);\n",
              "    border-color: transparent;\n",
              "    border-bottom-color: var(--fill-color);\n",
              "    animation:\n",
              "      spin 1s steps(1) infinite;\n",
              "  }\n",
              "\n",
              "  @keyframes spin {\n",
              "    0% {\n",
              "      border-color: transparent;\n",
              "      border-bottom-color: var(--fill-color);\n",
              "      border-left-color: var(--fill-color);\n",
              "    }\n",
              "    20% {\n",
              "      border-color: transparent;\n",
              "      border-left-color: var(--fill-color);\n",
              "      border-top-color: var(--fill-color);\n",
              "    }\n",
              "    30% {\n",
              "      border-color: transparent;\n",
              "      border-left-color: var(--fill-color);\n",
              "      border-top-color: var(--fill-color);\n",
              "      border-right-color: var(--fill-color);\n",
              "    }\n",
              "    40% {\n",
              "      border-color: transparent;\n",
              "      border-right-color: var(--fill-color);\n",
              "      border-top-color: var(--fill-color);\n",
              "    }\n",
              "    60% {\n",
              "      border-color: transparent;\n",
              "      border-right-color: var(--fill-color);\n",
              "    }\n",
              "    80% {\n",
              "      border-color: transparent;\n",
              "      border-right-color: var(--fill-color);\n",
              "      border-bottom-color: var(--fill-color);\n",
              "    }\n",
              "    90% {\n",
              "      border-color: transparent;\n",
              "      border-bottom-color: var(--fill-color);\n",
              "    }\n",
              "  }\n",
              "</style>\n",
              "\n",
              "  <script>\n",
              "    async function quickchart(key) {\n",
              "      const quickchartButtonEl =\n",
              "        document.querySelector('#' + key + ' button');\n",
              "      quickchartButtonEl.disabled = true;  // To prevent multiple clicks.\n",
              "      quickchartButtonEl.classList.add('colab-df-spinner');\n",
              "      try {\n",
              "        const charts = await google.colab.kernel.invokeFunction(\n",
              "            'suggestCharts', [key], {});\n",
              "      } catch (error) {\n",
              "        console.error('Error during call to suggestCharts:', error);\n",
              "      }\n",
              "      quickchartButtonEl.classList.remove('colab-df-spinner');\n",
              "      quickchartButtonEl.classList.add('colab-df-quickchart-complete');\n",
              "    }\n",
              "    (() => {\n",
              "      let quickchartButtonEl =\n",
              "        document.querySelector('#df-8f03bb7a-5e32-4267-9a47-e6269542f24a button');\n",
              "      quickchartButtonEl.style.display =\n",
              "        google.colab.kernel.accessAllowed ? 'block' : 'none';\n",
              "    })();\n",
              "  </script>\n",
              "</div>\n",
              "\n",
              "    </div>\n",
              "  </div>\n"
            ],
            "application/vnd.google.colaboratory.intrinsic+json": {
              "type": "dataframe",
              "variable_name": "df"
            }
          },
          "metadata": {},
          "execution_count": 194
        }
      ]
    },
    {
      "cell_type": "code",
      "source": [
        "df.info()"
      ],
      "metadata": {
        "colab": {
          "base_uri": "https://localhost:8080/"
        },
        "id": "OKPPd5Ty8p9a",
        "outputId": "2a22c7e7-86cf-48b3-b26f-1ed87301fbb3"
      },
      "execution_count": 85,
      "outputs": [
        {
          "output_type": "stream",
          "name": "stdout",
          "text": [
            "<class 'pandas.core.frame.DataFrame'>\n",
            "RangeIndex: 229 entries, 0 to 228\n",
            "Data columns (total 50 columns):\n",
            " #   Column                                                      Non-Null Count  Dtype  \n",
            "---  ------                                                      --------------  -----  \n",
            " 0   country                                                     229 non-null    object \n",
            " 1   Region                                                      229 non-null    object \n",
            " 2   Surface area (km2)                                          229 non-null    object \n",
            " 3   Population in thousands (2017)                              229 non-null    int64  \n",
            " 4   Population density (per km2, 2017)                          229 non-null    float64\n",
            " 5   Sex ratio (m per 100 f, 2017)                               229 non-null    float64\n",
            " 6   GDP: Gross domestic product (million current US$)           229 non-null    int64  \n",
            " 7   GDP growth rate (annual %, const. 2005 prices)              229 non-null    object \n",
            " 8   GDP per capita (current US$)                                229 non-null    float64\n",
            " 9   Economy: Agriculture (% of GVA)                             229 non-null    object \n",
            " 10  Economy: Industry (% of GVA)                                229 non-null    float64\n",
            " 11  Economy: Services and other activity (% of GVA)             229 non-null    float64\n",
            " 12  Employment: Agriculture (% of employed)                     229 non-null    object \n",
            " 13  Employment: Industry (% of employed)                        229 non-null    object \n",
            " 14  Employment: Services (% of employed)                        229 non-null    object \n",
            " 15  Unemployment (% of labour force)                            229 non-null    object \n",
            " 16  Labour force participation (female/male pop. %)             229 non-null    object \n",
            " 17  Agricultural production index (2004-2006=100)               229 non-null    int64  \n",
            " 18  Food production index (2004-2006=100)                       229 non-null    int64  \n",
            " 19  International trade: Exports (million US$)                  229 non-null    object \n",
            " 20  International trade: Imports (million US$)                  229 non-null    object \n",
            " 21  International trade: Balance (million US$)                  229 non-null    object \n",
            " 22  Balance of payments, current account (million US$)          229 non-null    object \n",
            " 23  Population growth rate (average annual %)                   229 non-null    object \n",
            " 24  Urban population (% of total population)                    229 non-null    float64\n",
            " 25  Urban population growth rate (average annual %)             229 non-null    object \n",
            " 26  Fertility rate, total (live births per woman)               229 non-null    object \n",
            " 27  Life expectancy at birth (females/males, years)             229 non-null    object \n",
            " 28  Population age distribution (0-14 / 60+ years, %)           229 non-null    object \n",
            " 29  International migrant stock (000/% of total pop.)           229 non-null    object \n",
            " 30  Refugees and others of concern to UNHCR (in thousands)      229 non-null    object \n",
            " 31  Infant mortality rate (per 1000 live births                 229 non-null    object \n",
            " 32  Health: Total expenditure (% of GDP)                        229 non-null    float64\n",
            " 33  Health: Physicians (per 1000 pop.)                          229 non-null    object \n",
            " 34  Education: Government expenditure (% of GDP)                229 non-null    object \n",
            " 35  Education: Primary gross enrol. ratio (f/m per 100 pop.)    229 non-null    object \n",
            " 36  Education: Secondary gross enrol. ratio (f/m per 100 pop.)  229 non-null    object \n",
            " 37  Education: Tertiary gross enrol. ratio (f/m per 100 pop.)   229 non-null    object \n",
            " 38  Seats held by women in national parliaments %               229 non-null    float64\n",
            " 39  Mobile-cellular subscriptions (per 100 inhabitants)         229 non-null    object \n",
            " 40  Mobile-cellular subscriptions (per 100 inhabitants).1       229 non-null    object \n",
            " 41  Individuals using the Internet (per 100 inhabitants)        229 non-null    int64  \n",
            " 42  Threatened species (number)                                 229 non-null    object \n",
            " 43  Forested area (% of land area)                              229 non-null    object \n",
            " 44  CO2 emission estimates (million tons/tons per capita)       229 non-null    int64  \n",
            " 45  Energy production, primary (Petajoules)                     229 non-null    int64  \n",
            " 46  Energy supply per capita (Gigajoules)                       229 non-null    object \n",
            " 47  Pop. using improved drinking water (urban/rural, %)         229 non-null    object \n",
            " 48  Pop. using improved sanitation facilities (urban/rural, %)  229 non-null    object \n",
            " 49  Net Official Development Assist. received (% of GNI)        229 non-null    int64  \n",
            "dtypes: float64(8), int64(8), object(34)\n",
            "memory usage: 89.6+ KB\n"
          ]
        }
      ]
    },
    {
      "cell_type": "code",
      "source": [
        "df.isnull().sum()"
      ],
      "metadata": {
        "colab": {
          "base_uri": "https://localhost:8080/",
          "height": 1000
        },
        "id": "FT5mK9X88xVB",
        "outputId": "0024bec8-be29-4ef6-d96d-b069887c4d4b"
      },
      "execution_count": 86,
      "outputs": [
        {
          "output_type": "execute_result",
          "data": {
            "text/plain": [
              "country                                                       0\n",
              "Region                                                        0\n",
              "Surface area (km2)                                            0\n",
              "Population in thousands (2017)                                0\n",
              "Population density (per km2, 2017)                            0\n",
              "Sex ratio (m per 100 f, 2017)                                 0\n",
              "GDP: Gross domestic product (million current US$)             0\n",
              "GDP growth rate (annual %, const. 2005 prices)                0\n",
              "GDP per capita (current US$)                                  0\n",
              "Economy: Agriculture (% of GVA)                               0\n",
              "Economy: Industry (% of GVA)                                  0\n",
              "Economy: Services and other activity (% of GVA)               0\n",
              "Employment: Agriculture (% of employed)                       0\n",
              "Employment: Industry (% of employed)                          0\n",
              "Employment: Services (% of employed)                          0\n",
              "Unemployment (% of labour force)                              0\n",
              "Labour force participation (female/male pop. %)               0\n",
              "Agricultural production index (2004-2006=100)                 0\n",
              "Food production index (2004-2006=100)                         0\n",
              "International trade: Exports (million US$)                    0\n",
              "International trade: Imports (million US$)                    0\n",
              "International trade: Balance (million US$)                    0\n",
              "Balance of payments, current account (million US$)            0\n",
              "Population growth rate (average annual %)                     0\n",
              "Urban population (% of total population)                      0\n",
              "Urban population growth rate (average annual %)               0\n",
              "Fertility rate, total (live births per woman)                 0\n",
              "Life expectancy at birth (females/males, years)               0\n",
              "Population age distribution (0-14 / 60+ years, %)             0\n",
              "International migrant stock (000/% of total pop.)             0\n",
              "Refugees and others of concern to UNHCR (in thousands)        0\n",
              "Infant mortality rate (per 1000 live births                   0\n",
              "Health: Total expenditure (% of GDP)                          0\n",
              "Health: Physicians (per 1000 pop.)                            0\n",
              "Education: Government expenditure (% of GDP)                  0\n",
              "Education: Primary gross enrol. ratio (f/m per 100 pop.)      0\n",
              "Education: Secondary gross enrol. ratio (f/m per 100 pop.)    0\n",
              "Education: Tertiary gross enrol. ratio (f/m per 100 pop.)     0\n",
              "Seats held by women in national parliaments %                 0\n",
              "Mobile-cellular subscriptions (per 100 inhabitants)           0\n",
              "Mobile-cellular subscriptions (per 100 inhabitants).1         0\n",
              "Individuals using the Internet (per 100 inhabitants)          0\n",
              "Threatened species (number)                                   0\n",
              "Forested area (% of land area)                                0\n",
              "CO2 emission estimates (million tons/tons per capita)         0\n",
              "Energy production, primary (Petajoules)                       0\n",
              "Energy supply per capita (Gigajoules)                         0\n",
              "Pop. using improved drinking water (urban/rural, %)           0\n",
              "Pop. using improved sanitation facilities (urban/rural, %)    0\n",
              "Net Official Development Assist. received (% of GNI)          0\n",
              "dtype: int64"
            ],
            "text/html": [
              "<div>\n",
              "<style scoped>\n",
              "    .dataframe tbody tr th:only-of-type {\n",
              "        vertical-align: middle;\n",
              "    }\n",
              "\n",
              "    .dataframe tbody tr th {\n",
              "        vertical-align: top;\n",
              "    }\n",
              "\n",
              "    .dataframe thead th {\n",
              "        text-align: right;\n",
              "    }\n",
              "</style>\n",
              "<table border=\"1\" class=\"dataframe\">\n",
              "  <thead>\n",
              "    <tr style=\"text-align: right;\">\n",
              "      <th></th>\n",
              "      <th>0</th>\n",
              "    </tr>\n",
              "  </thead>\n",
              "  <tbody>\n",
              "    <tr>\n",
              "      <th>country</th>\n",
              "      <td>0</td>\n",
              "    </tr>\n",
              "    <tr>\n",
              "      <th>Region</th>\n",
              "      <td>0</td>\n",
              "    </tr>\n",
              "    <tr>\n",
              "      <th>Surface area (km2)</th>\n",
              "      <td>0</td>\n",
              "    </tr>\n",
              "    <tr>\n",
              "      <th>Population in thousands (2017)</th>\n",
              "      <td>0</td>\n",
              "    </tr>\n",
              "    <tr>\n",
              "      <th>Population density (per km2, 2017)</th>\n",
              "      <td>0</td>\n",
              "    </tr>\n",
              "    <tr>\n",
              "      <th>Sex ratio (m per 100 f, 2017)</th>\n",
              "      <td>0</td>\n",
              "    </tr>\n",
              "    <tr>\n",
              "      <th>GDP: Gross domestic product (million current US$)</th>\n",
              "      <td>0</td>\n",
              "    </tr>\n",
              "    <tr>\n",
              "      <th>GDP growth rate (annual %, const. 2005 prices)</th>\n",
              "      <td>0</td>\n",
              "    </tr>\n",
              "    <tr>\n",
              "      <th>GDP per capita (current US$)</th>\n",
              "      <td>0</td>\n",
              "    </tr>\n",
              "    <tr>\n",
              "      <th>Economy: Agriculture (% of GVA)</th>\n",
              "      <td>0</td>\n",
              "    </tr>\n",
              "    <tr>\n",
              "      <th>Economy: Industry (% of GVA)</th>\n",
              "      <td>0</td>\n",
              "    </tr>\n",
              "    <tr>\n",
              "      <th>Economy: Services and other activity (% of GVA)</th>\n",
              "      <td>0</td>\n",
              "    </tr>\n",
              "    <tr>\n",
              "      <th>Employment: Agriculture (% of employed)</th>\n",
              "      <td>0</td>\n",
              "    </tr>\n",
              "    <tr>\n",
              "      <th>Employment: Industry (% of employed)</th>\n",
              "      <td>0</td>\n",
              "    </tr>\n",
              "    <tr>\n",
              "      <th>Employment: Services (% of employed)</th>\n",
              "      <td>0</td>\n",
              "    </tr>\n",
              "    <tr>\n",
              "      <th>Unemployment (% of labour force)</th>\n",
              "      <td>0</td>\n",
              "    </tr>\n",
              "    <tr>\n",
              "      <th>Labour force participation (female/male pop. %)</th>\n",
              "      <td>0</td>\n",
              "    </tr>\n",
              "    <tr>\n",
              "      <th>Agricultural production index (2004-2006=100)</th>\n",
              "      <td>0</td>\n",
              "    </tr>\n",
              "    <tr>\n",
              "      <th>Food production index (2004-2006=100)</th>\n",
              "      <td>0</td>\n",
              "    </tr>\n",
              "    <tr>\n",
              "      <th>International trade: Exports (million US$)</th>\n",
              "      <td>0</td>\n",
              "    </tr>\n",
              "    <tr>\n",
              "      <th>International trade: Imports (million US$)</th>\n",
              "      <td>0</td>\n",
              "    </tr>\n",
              "    <tr>\n",
              "      <th>International trade: Balance (million US$)</th>\n",
              "      <td>0</td>\n",
              "    </tr>\n",
              "    <tr>\n",
              "      <th>Balance of payments, current account (million US$)</th>\n",
              "      <td>0</td>\n",
              "    </tr>\n",
              "    <tr>\n",
              "      <th>Population growth rate (average annual %)</th>\n",
              "      <td>0</td>\n",
              "    </tr>\n",
              "    <tr>\n",
              "      <th>Urban population (% of total population)</th>\n",
              "      <td>0</td>\n",
              "    </tr>\n",
              "    <tr>\n",
              "      <th>Urban population growth rate (average annual %)</th>\n",
              "      <td>0</td>\n",
              "    </tr>\n",
              "    <tr>\n",
              "      <th>Fertility rate, total (live births per woman)</th>\n",
              "      <td>0</td>\n",
              "    </tr>\n",
              "    <tr>\n",
              "      <th>Life expectancy at birth (females/males, years)</th>\n",
              "      <td>0</td>\n",
              "    </tr>\n",
              "    <tr>\n",
              "      <th>Population age distribution (0-14 / 60+ years, %)</th>\n",
              "      <td>0</td>\n",
              "    </tr>\n",
              "    <tr>\n",
              "      <th>International migrant stock (000/% of total pop.)</th>\n",
              "      <td>0</td>\n",
              "    </tr>\n",
              "    <tr>\n",
              "      <th>Refugees and others of concern to UNHCR (in thousands)</th>\n",
              "      <td>0</td>\n",
              "    </tr>\n",
              "    <tr>\n",
              "      <th>Infant mortality rate (per 1000 live births</th>\n",
              "      <td>0</td>\n",
              "    </tr>\n",
              "    <tr>\n",
              "      <th>Health: Total expenditure (% of GDP)</th>\n",
              "      <td>0</td>\n",
              "    </tr>\n",
              "    <tr>\n",
              "      <th>Health: Physicians (per 1000 pop.)</th>\n",
              "      <td>0</td>\n",
              "    </tr>\n",
              "    <tr>\n",
              "      <th>Education: Government expenditure (% of GDP)</th>\n",
              "      <td>0</td>\n",
              "    </tr>\n",
              "    <tr>\n",
              "      <th>Education: Primary gross enrol. ratio (f/m per 100 pop.)</th>\n",
              "      <td>0</td>\n",
              "    </tr>\n",
              "    <tr>\n",
              "      <th>Education: Secondary gross enrol. ratio (f/m per 100 pop.)</th>\n",
              "      <td>0</td>\n",
              "    </tr>\n",
              "    <tr>\n",
              "      <th>Education: Tertiary gross enrol. ratio (f/m per 100 pop.)</th>\n",
              "      <td>0</td>\n",
              "    </tr>\n",
              "    <tr>\n",
              "      <th>Seats held by women in national parliaments %</th>\n",
              "      <td>0</td>\n",
              "    </tr>\n",
              "    <tr>\n",
              "      <th>Mobile-cellular subscriptions (per 100 inhabitants)</th>\n",
              "      <td>0</td>\n",
              "    </tr>\n",
              "    <tr>\n",
              "      <th>Mobile-cellular subscriptions (per 100 inhabitants).1</th>\n",
              "      <td>0</td>\n",
              "    </tr>\n",
              "    <tr>\n",
              "      <th>Individuals using the Internet (per 100 inhabitants)</th>\n",
              "      <td>0</td>\n",
              "    </tr>\n",
              "    <tr>\n",
              "      <th>Threatened species (number)</th>\n",
              "      <td>0</td>\n",
              "    </tr>\n",
              "    <tr>\n",
              "      <th>Forested area (% of land area)</th>\n",
              "      <td>0</td>\n",
              "    </tr>\n",
              "    <tr>\n",
              "      <th>CO2 emission estimates (million tons/tons per capita)</th>\n",
              "      <td>0</td>\n",
              "    </tr>\n",
              "    <tr>\n",
              "      <th>Energy production, primary (Petajoules)</th>\n",
              "      <td>0</td>\n",
              "    </tr>\n",
              "    <tr>\n",
              "      <th>Energy supply per capita (Gigajoules)</th>\n",
              "      <td>0</td>\n",
              "    </tr>\n",
              "    <tr>\n",
              "      <th>Pop. using improved drinking water (urban/rural, %)</th>\n",
              "      <td>0</td>\n",
              "    </tr>\n",
              "    <tr>\n",
              "      <th>Pop. using improved sanitation facilities (urban/rural, %)</th>\n",
              "      <td>0</td>\n",
              "    </tr>\n",
              "    <tr>\n",
              "      <th>Net Official Development Assist. received (% of GNI)</th>\n",
              "      <td>0</td>\n",
              "    </tr>\n",
              "  </tbody>\n",
              "</table>\n",
              "</div><br><label><b>dtype:</b> int64</label>"
            ]
          },
          "metadata": {},
          "execution_count": 86
        }
      ]
    },
    {
      "cell_type": "code",
      "source": [
        "df.duplicated().sum()"
      ],
      "metadata": {
        "colab": {
          "base_uri": "https://localhost:8080/"
        },
        "id": "peuGN2eN86s1",
        "outputId": "83309625-307c-4607-eb5c-262d9f53f14a"
      },
      "execution_count": 87,
      "outputs": [
        {
          "output_type": "execute_result",
          "data": {
            "text/plain": [
              "0"
            ]
          },
          "metadata": {},
          "execution_count": 87
        }
      ]
    },
    {
      "cell_type": "code",
      "source": [
        "df1 = df.apply(lambda x: x.unique())\n",
        "df1"
      ],
      "metadata": {
        "colab": {
          "base_uri": "https://localhost:8080/",
          "height": 1000
        },
        "id": "gNsHm42Pp_f3",
        "outputId": "67c43e77-3a2d-4db2-e373-931b93626b38"
      },
      "execution_count": 88,
      "outputs": [
        {
          "output_type": "execute_result",
          "data": {
            "text/plain": [
              "country                                                       [Afghanistan, Albania, Algeria, American Samoa...\n",
              "Region                                                        [SouthernAsia, SouthernEurope, NorthernAfrica,...\n",
              "Surface area (km2)                                            [652864, 28748, 2381741, 199, 468, 1246700, 91...\n",
              "Population in thousands (2017)                                [35530, 2930, 41318, 56, 77, 29784, 15, 102, 4...\n",
              "Population density (per km2, 2017)                            [54.4, 106.9, 17.3, 278.2, 163.8, 23.9, 165.7,...\n",
              "Sex ratio (m per 100 f, 2017)                                 [106.3, 101.9, 102.0, 103.6, 102.3, 96.2, 97.6...\n",
              "GDP: Gross domestic product (million current US$)             [20270, 11541, 164779, -99, 2812, 117955, 320,...\n",
              "GDP growth rate (annual %, const. 2005 prices)                [-2.4, 2.6, 3.8, -99, 0.8, 3.0, 2.9, 4.1, 2.4,...\n",
              "GDP per capita (current US$)                                  [623.2, 3984.2, 4154.1, -99.0, 39896.4, 4714.1...\n",
              "Economy: Agriculture (% of GVA)                               [23.3, 22.4, 12.2, -99, 0.5, 6.8, 2.3, 1.9, 6....\n",
              "Economy: Industry (% of GVA)                                  [23.3, 26.0, 37.3, -99.0, 10.8, 51.2, 15.7, 18...\n",
              "Economy: Services and other activity (% of GVA)               [53.3, 51.7, 50.5, -99.0, 88.6, 42.0, 82.0, 79...\n",
              "Employment: Agriculture (% of employed)                       [61.6, 41.4, 10.8, ..., -99, 4.2, 2.0, 35.0, 0...\n",
              "Employment: Industry (% of employed)                          [10.0, 18.3, 34.5, ..., -99, 37.6, 24.8, 15.7,...\n",
              "Employment: Services (% of employed)                          [28.5, 40.3, 54.7, ..., -99, 58.2, 73.1, 49.3,...\n",
              "Unemployment (% of labour force)                              [8.6, 15.8, 11.4, ..., -99, 6.6, 6.5, 16.6, 5....\n",
              "Labour force participation (female/male pop. %)               [19.3/83.6, 40.2/61.0, 17.0/70.7, .../..., -99...\n",
              "Agricultural production index (2004-2006=100)                 [125, 134, 160, 112, -99, 175, 88, 119, 135, 1...\n",
              "Food production index (2004-2006=100)                         [125, 134, 161, 112, -99, 176, 88, 119, 135, 1...\n",
              "International trade: Exports (million US$)                    [1458, 1962, 29992, -99, 100, 21011, 2, 61, 57...\n",
              "International trade: Imports (million US$)                    [3568, 4669, 47091, -99, 1355, 8790, 154, 491,...\n",
              "International trade: Balance (million US$)                    [-2110, -2707, -17099, -99, -1255, 12221, -153...\n",
              "Balance of payments, current account (million US$)            [-5121, -1222, -27229, -99, -10273, -48, -204,...\n",
              "Population growth rate (average annual %)                     [3.2, -0.1, 2.0, -~0.0, -1.6, 3.5, 1.2, 1.1, 1...\n",
              "Urban population (% of total population)                      [26.7, 57.4, 70.7, 87.2, 85.1, 44.1, 100.0, 23...\n",
              "Urban population growth rate (average annual %)               [4.0, 2.2, 2.8, -0.1, 0.1, 5.0, 1.2, -0.9, 1.0...\n",
              "Fertility rate, total (live births per woman)                 [5.3, 1.7, 3.0, 2.6, 1.2, 6.0, ..., 2.1, 2.3, ...\n",
              "Life expectancy at birth (females/males, years)               [63.5/61.0, 79.9/75.6, 76.5/74.1, 77.8/71.1, -...\n",
              "Population age distribution (0-14 / 60+ years, %)             [43.2/4.1, 17.4/19.0, 29.3/9.4, 33.3/9.0, 14.4...\n",
              "International migrant stock (000/% of total pop.)             [382.4/1.2, 57.6/2.0, 242.4/0.6, 23.2/41.8, 42...\n",
              "Refugees and others of concern to UNHCR (in thousands)        [1513.1, 8.8, 99.8, -99, 45.7, ~0.0, 5.0, 19.3...\n",
              "Infant mortality rate (per 1000 live births                   [68.6, 14.6, 27.7, 9.6, -99, 65.4, 9.1, 13.7, ...\n",
              "Health: Total expenditure (% of GDP)                          [8.2, 5.9, 7.2, -99.0, 8.1, 3.3, 5.5, 4.8, 4.5...\n",
              "Health: Physicians (per 1000 pop.)                            [0.3, 1.3, ..., -99, 3.7, 3.8, 2.8, 3.4, 5.2, ...\n",
              "Education: Government expenditure (% of GDP)                  [3.3, 3.5, ..., -99, 5.3, 2.8, 6.2, 5.2, 5.5, ...\n",
              "Education: Primary gross enrol. ratio (f/m per 100 pop.)      [91.1/131.6, 111.7/115.5, 112.7/119.5, -99, 10...\n",
              "Education: Secondary gross enrol. ratio (f/m per 100 pop.)    [39.7/70.7, 92.5/98.8, 101.7/98.1, -99, 22.7/3...\n",
              "Education: Tertiary gross enrol. ratio (f/m per 100 pop.)     [3.7/13.3, 68.1/48.7, 45.1/28.9, -99, 8.2/10.4...\n",
              "Seats held by women in national parliaments %                 [27.7, 22.9, 31.6, -99.0, 32.1, 38.2, 11.1, 38...\n",
              "Mobile-cellular subscriptions (per 100 inhabitants)           [61.6, 106.4, 113.0, ..., 88.1, 60.8, 177.9, 1...\n",
              "Mobile-cellular subscriptions (per 100 inhabitants).1         [8.3, 63.3, 38.2, -99, 96.9, 12.4, 76.0, 65.2,...\n",
              "Individuals using the Internet (per 100 inhabitants)          [42, 130, 135, 92, 13, 146, 52, 55, 256, 114, ...\n",
              "Threatened species (number)                                   [2.1, 28.2, 0.8, 87.9, 34.0, 46.5, 61.1, 22.3,...\n",
              "Forested area (% of land area)                                [9.8/0.3, 5.7/2.0, 145.4/3.7, -99, 0.5/6.4, 34...\n",
              "CO2 emission estimates (million tons/tons per capita)         [63, 84, 5900, -99, 1, 3902, 0, 3167, 48, 1528...\n",
              "Energy production, primary (Petajoules)                       [5, 36, 55, -99, 119, 25, 136, 84, 85, 46, 120...\n",
              "Energy supply per capita (Gigajoules)                         [78.2/47.0, 94.9/95.2, 84.3/81.8, 100.0/100.0,...\n",
              "Pop. using improved drinking water (urban/rural, %)           [45.1/27.0, 95.5/90.2, 89.8/82.2, 62.5/62.5, 1...\n",
              "Pop. using improved sanitation facilities (urban/rural, %)    [21.43, 2.96, 0.05, -99, 0.42, 0.12, 0.01, 3.1...\n",
              "Net Official Development Assist. received (% of GNI)                                                      [-99]\n",
              "dtype: object"
            ],
            "text/html": [
              "<div>\n",
              "<style scoped>\n",
              "    .dataframe tbody tr th:only-of-type {\n",
              "        vertical-align: middle;\n",
              "    }\n",
              "\n",
              "    .dataframe tbody tr th {\n",
              "        vertical-align: top;\n",
              "    }\n",
              "\n",
              "    .dataframe thead th {\n",
              "        text-align: right;\n",
              "    }\n",
              "</style>\n",
              "<table border=\"1\" class=\"dataframe\">\n",
              "  <thead>\n",
              "    <tr style=\"text-align: right;\">\n",
              "      <th></th>\n",
              "      <th>0</th>\n",
              "    </tr>\n",
              "  </thead>\n",
              "  <tbody>\n",
              "    <tr>\n",
              "      <th>country</th>\n",
              "      <td>[Afghanistan, Albania, Algeria, American Samoa...</td>\n",
              "    </tr>\n",
              "    <tr>\n",
              "      <th>Region</th>\n",
              "      <td>[SouthernAsia, SouthernEurope, NorthernAfrica,...</td>\n",
              "    </tr>\n",
              "    <tr>\n",
              "      <th>Surface area (km2)</th>\n",
              "      <td>[652864, 28748, 2381741, 199, 468, 1246700, 91...</td>\n",
              "    </tr>\n",
              "    <tr>\n",
              "      <th>Population in thousands (2017)</th>\n",
              "      <td>[35530, 2930, 41318, 56, 77, 29784, 15, 102, 4...</td>\n",
              "    </tr>\n",
              "    <tr>\n",
              "      <th>Population density (per km2, 2017)</th>\n",
              "      <td>[54.4, 106.9, 17.3, 278.2, 163.8, 23.9, 165.7,...</td>\n",
              "    </tr>\n",
              "    <tr>\n",
              "      <th>Sex ratio (m per 100 f, 2017)</th>\n",
              "      <td>[106.3, 101.9, 102.0, 103.6, 102.3, 96.2, 97.6...</td>\n",
              "    </tr>\n",
              "    <tr>\n",
              "      <th>GDP: Gross domestic product (million current US$)</th>\n",
              "      <td>[20270, 11541, 164779, -99, 2812, 117955, 320,...</td>\n",
              "    </tr>\n",
              "    <tr>\n",
              "      <th>GDP growth rate (annual %, const. 2005 prices)</th>\n",
              "      <td>[-2.4, 2.6, 3.8, -99, 0.8, 3.0, 2.9, 4.1, 2.4,...</td>\n",
              "    </tr>\n",
              "    <tr>\n",
              "      <th>GDP per capita (current US$)</th>\n",
              "      <td>[623.2, 3984.2, 4154.1, -99.0, 39896.4, 4714.1...</td>\n",
              "    </tr>\n",
              "    <tr>\n",
              "      <th>Economy: Agriculture (% of GVA)</th>\n",
              "      <td>[23.3, 22.4, 12.2, -99, 0.5, 6.8, 2.3, 1.9, 6....</td>\n",
              "    </tr>\n",
              "    <tr>\n",
              "      <th>Economy: Industry (% of GVA)</th>\n",
              "      <td>[23.3, 26.0, 37.3, -99.0, 10.8, 51.2, 15.7, 18...</td>\n",
              "    </tr>\n",
              "    <tr>\n",
              "      <th>Economy: Services and other activity (% of GVA)</th>\n",
              "      <td>[53.3, 51.7, 50.5, -99.0, 88.6, 42.0, 82.0, 79...</td>\n",
              "    </tr>\n",
              "    <tr>\n",
              "      <th>Employment: Agriculture (% of employed)</th>\n",
              "      <td>[61.6, 41.4, 10.8, ..., -99, 4.2, 2.0, 35.0, 0...</td>\n",
              "    </tr>\n",
              "    <tr>\n",
              "      <th>Employment: Industry (% of employed)</th>\n",
              "      <td>[10.0, 18.3, 34.5, ..., -99, 37.6, 24.8, 15.7,...</td>\n",
              "    </tr>\n",
              "    <tr>\n",
              "      <th>Employment: Services (% of employed)</th>\n",
              "      <td>[28.5, 40.3, 54.7, ..., -99, 58.2, 73.1, 49.3,...</td>\n",
              "    </tr>\n",
              "    <tr>\n",
              "      <th>Unemployment (% of labour force)</th>\n",
              "      <td>[8.6, 15.8, 11.4, ..., -99, 6.6, 6.5, 16.6, 5....</td>\n",
              "    </tr>\n",
              "    <tr>\n",
              "      <th>Labour force participation (female/male pop. %)</th>\n",
              "      <td>[19.3/83.6, 40.2/61.0, 17.0/70.7, .../..., -99...</td>\n",
              "    </tr>\n",
              "    <tr>\n",
              "      <th>Agricultural production index (2004-2006=100)</th>\n",
              "      <td>[125, 134, 160, 112, -99, 175, 88, 119, 135, 1...</td>\n",
              "    </tr>\n",
              "    <tr>\n",
              "      <th>Food production index (2004-2006=100)</th>\n",
              "      <td>[125, 134, 161, 112, -99, 176, 88, 119, 135, 1...</td>\n",
              "    </tr>\n",
              "    <tr>\n",
              "      <th>International trade: Exports (million US$)</th>\n",
              "      <td>[1458, 1962, 29992, -99, 100, 21011, 2, 61, 57...</td>\n",
              "    </tr>\n",
              "    <tr>\n",
              "      <th>International trade: Imports (million US$)</th>\n",
              "      <td>[3568, 4669, 47091, -99, 1355, 8790, 154, 491,...</td>\n",
              "    </tr>\n",
              "    <tr>\n",
              "      <th>International trade: Balance (million US$)</th>\n",
              "      <td>[-2110, -2707, -17099, -99, -1255, 12221, -153...</td>\n",
              "    </tr>\n",
              "    <tr>\n",
              "      <th>Balance of payments, current account (million US$)</th>\n",
              "      <td>[-5121, -1222, -27229, -99, -10273, -48, -204,...</td>\n",
              "    </tr>\n",
              "    <tr>\n",
              "      <th>Population growth rate (average annual %)</th>\n",
              "      <td>[3.2, -0.1, 2.0, -~0.0, -1.6, 3.5, 1.2, 1.1, 1...</td>\n",
              "    </tr>\n",
              "    <tr>\n",
              "      <th>Urban population (% of total population)</th>\n",
              "      <td>[26.7, 57.4, 70.7, 87.2, 85.1, 44.1, 100.0, 23...</td>\n",
              "    </tr>\n",
              "    <tr>\n",
              "      <th>Urban population growth rate (average annual %)</th>\n",
              "      <td>[4.0, 2.2, 2.8, -0.1, 0.1, 5.0, 1.2, -0.9, 1.0...</td>\n",
              "    </tr>\n",
              "    <tr>\n",
              "      <th>Fertility rate, total (live births per woman)</th>\n",
              "      <td>[5.3, 1.7, 3.0, 2.6, 1.2, 6.0, ..., 2.1, 2.3, ...</td>\n",
              "    </tr>\n",
              "    <tr>\n",
              "      <th>Life expectancy at birth (females/males, years)</th>\n",
              "      <td>[63.5/61.0, 79.9/75.6, 76.5/74.1, 77.8/71.1, -...</td>\n",
              "    </tr>\n",
              "    <tr>\n",
              "      <th>Population age distribution (0-14 / 60+ years, %)</th>\n",
              "      <td>[43.2/4.1, 17.4/19.0, 29.3/9.4, 33.3/9.0, 14.4...</td>\n",
              "    </tr>\n",
              "    <tr>\n",
              "      <th>International migrant stock (000/% of total pop.)</th>\n",
              "      <td>[382.4/1.2, 57.6/2.0, 242.4/0.6, 23.2/41.8, 42...</td>\n",
              "    </tr>\n",
              "    <tr>\n",
              "      <th>Refugees and others of concern to UNHCR (in thousands)</th>\n",
              "      <td>[1513.1, 8.8, 99.8, -99, 45.7, ~0.0, 5.0, 19.3...</td>\n",
              "    </tr>\n",
              "    <tr>\n",
              "      <th>Infant mortality rate (per 1000 live births</th>\n",
              "      <td>[68.6, 14.6, 27.7, 9.6, -99, 65.4, 9.1, 13.7, ...</td>\n",
              "    </tr>\n",
              "    <tr>\n",
              "      <th>Health: Total expenditure (% of GDP)</th>\n",
              "      <td>[8.2, 5.9, 7.2, -99.0, 8.1, 3.3, 5.5, 4.8, 4.5...</td>\n",
              "    </tr>\n",
              "    <tr>\n",
              "      <th>Health: Physicians (per 1000 pop.)</th>\n",
              "      <td>[0.3, 1.3, ..., -99, 3.7, 3.8, 2.8, 3.4, 5.2, ...</td>\n",
              "    </tr>\n",
              "    <tr>\n",
              "      <th>Education: Government expenditure (% of GDP)</th>\n",
              "      <td>[3.3, 3.5, ..., -99, 5.3, 2.8, 6.2, 5.2, 5.5, ...</td>\n",
              "    </tr>\n",
              "    <tr>\n",
              "      <th>Education: Primary gross enrol. ratio (f/m per 100 pop.)</th>\n",
              "      <td>[91.1/131.6, 111.7/115.5, 112.7/119.5, -99, 10...</td>\n",
              "    </tr>\n",
              "    <tr>\n",
              "      <th>Education: Secondary gross enrol. ratio (f/m per 100 pop.)</th>\n",
              "      <td>[39.7/70.7, 92.5/98.8, 101.7/98.1, -99, 22.7/3...</td>\n",
              "    </tr>\n",
              "    <tr>\n",
              "      <th>Education: Tertiary gross enrol. ratio (f/m per 100 pop.)</th>\n",
              "      <td>[3.7/13.3, 68.1/48.7, 45.1/28.9, -99, 8.2/10.4...</td>\n",
              "    </tr>\n",
              "    <tr>\n",
              "      <th>Seats held by women in national parliaments %</th>\n",
              "      <td>[27.7, 22.9, 31.6, -99.0, 32.1, 38.2, 11.1, 38...</td>\n",
              "    </tr>\n",
              "    <tr>\n",
              "      <th>Mobile-cellular subscriptions (per 100 inhabitants)</th>\n",
              "      <td>[61.6, 106.4, 113.0, ..., 88.1, 60.8, 177.9, 1...</td>\n",
              "    </tr>\n",
              "    <tr>\n",
              "      <th>Mobile-cellular subscriptions (per 100 inhabitants).1</th>\n",
              "      <td>[8.3, 63.3, 38.2, -99, 96.9, 12.4, 76.0, 65.2,...</td>\n",
              "    </tr>\n",
              "    <tr>\n",
              "      <th>Individuals using the Internet (per 100 inhabitants)</th>\n",
              "      <td>[42, 130, 135, 92, 13, 146, 52, 55, 256, 114, ...</td>\n",
              "    </tr>\n",
              "    <tr>\n",
              "      <th>Threatened species (number)</th>\n",
              "      <td>[2.1, 28.2, 0.8, 87.9, 34.0, 46.5, 61.1, 22.3,...</td>\n",
              "    </tr>\n",
              "    <tr>\n",
              "      <th>Forested area (% of land area)</th>\n",
              "      <td>[9.8/0.3, 5.7/2.0, 145.4/3.7, -99, 0.5/6.4, 34...</td>\n",
              "    </tr>\n",
              "    <tr>\n",
              "      <th>CO2 emission estimates (million tons/tons per capita)</th>\n",
              "      <td>[63, 84, 5900, -99, 1, 3902, 0, 3167, 48, 1528...</td>\n",
              "    </tr>\n",
              "    <tr>\n",
              "      <th>Energy production, primary (Petajoules)</th>\n",
              "      <td>[5, 36, 55, -99, 119, 25, 136, 84, 85, 46, 120...</td>\n",
              "    </tr>\n",
              "    <tr>\n",
              "      <th>Energy supply per capita (Gigajoules)</th>\n",
              "      <td>[78.2/47.0, 94.9/95.2, 84.3/81.8, 100.0/100.0,...</td>\n",
              "    </tr>\n",
              "    <tr>\n",
              "      <th>Pop. using improved drinking water (urban/rural, %)</th>\n",
              "      <td>[45.1/27.0, 95.5/90.2, 89.8/82.2, 62.5/62.5, 1...</td>\n",
              "    </tr>\n",
              "    <tr>\n",
              "      <th>Pop. using improved sanitation facilities (urban/rural, %)</th>\n",
              "      <td>[21.43, 2.96, 0.05, -99, 0.42, 0.12, 0.01, 3.1...</td>\n",
              "    </tr>\n",
              "    <tr>\n",
              "      <th>Net Official Development Assist. received (% of GNI)</th>\n",
              "      <td>[-99]</td>\n",
              "    </tr>\n",
              "  </tbody>\n",
              "</table>\n",
              "</div><br><label><b>dtype:</b> object</label>"
            ]
          },
          "metadata": {},
          "execution_count": 88
        }
      ]
    },
    {
      "cell_type": "markdown",
      "source": [
        "Frome here, we can notice that many columns have -99,\"...\" and \".../...\" and many numeric columns are shown as object due to the values written separately for male and female."
      ],
      "metadata": {
        "id": "HVZ46biBqtK0"
      }
    },
    {
      "cell_type": "code",
      "source": [
        "# obj_col = df.select_dtypes(include = 'object').columns[2:]\n",
        "# df[obj_col] = df[obj_col].apply(pd.to_numeric,errors = 'coerce')\n",
        "#Hence direclty we cannot conver the values to numeric as many columns will be entirely null"
      ],
      "metadata": {
        "id": "mW6Ra8kR-Yga"
      },
      "execution_count": 35,
      "outputs": []
    },
    {
      "cell_type": "markdown",
      "source": [
        "Working column wise"
      ],
      "metadata": {
        "id": "7RlvtDMnrh_d"
      }
    },
    {
      "cell_type": "markdown",
      "source": [
        "**What is the mean population size accross all countries?**"
      ],
      "metadata": {
        "id": "uBM7E1dWClBh"
      }
    },
    {
      "cell_type": "code",
      "source": [
        "df['Population in thousands (2017)'].unique()"
      ],
      "metadata": {
        "colab": {
          "base_uri": "https://localhost:8080/"
        },
        "id": "Khz3kkh-BsEG",
        "outputId": "75e2fd77-d2e4-455a-bfd6-faf6d66835d1"
      },
      "execution_count": 36,
      "outputs": [
        {
          "output_type": "execute_result",
          "data": {
            "text/plain": [
              "array([  35530,    2930,   41318,      56,      77,   29784,      15,\n",
              "           102,   44271,     105,   24451,    8736,    9828,     395,\n",
              "          1493,  164670,     286,    9468,   11429,     375,   11176,\n",
              "            61,     808,   11052,      25,    3507,    2292,  209288,\n",
              "            31,     429,    7085,   19193,   10864,     546,   16005,\n",
              "         24054,   36624,      62,    4659,   14900,     165,   18055,\n",
              "          7365,     623, 1409517,   49066,     814,    5261,      17,\n",
              "          4906,    4189,   11485,    1180,   10618,   25491,   81340,\n",
              "          5734,     957,      74,   10767,   16625,   97553,    6378,\n",
              "          1268,    5069,    1310,  104957,       3,      49,     906,\n",
              "          5523,   64980,     283,    2025,    2101,    3912,   82114,\n",
              "         28834,      35,   11160,     108,     450,     164,   16914,\n",
              "          1861,   12717,     778,   10981,       1,    9265,    9722,\n",
              "           335, 1339180,  263991,   81163,   38275,    4762,      84,\n",
              "          8322,   59360,    2890,  127484,    9702,   18204,   49700,\n",
              "           116,    4136,    6045,    6858,    1950,    6082,    2233,\n",
              "          4732,    6375,      38,     584,   25571,   18622,   31624,\n",
              "           436,   18542,     431,      53,     385,    4420,    1265,\n",
              "           253,  129163,     106,      39,    3076,     629,       5,\n",
              "         35740,   29669,   53371,    2534,      11,   29305,   17036,\n",
              "           276,    4706,    6218,   21477,  190886,       2,      55,\n",
              "          5305,    4636,  197016,      22,    4099,    8251,    6811,\n",
              "         32166,  104918,   38171,   10330,    3663,    2639,   50982,\n",
              "          4051,   19679,  143990,   12208,       4,     179,       6,\n",
              "           110,     196,      33,     204,   32938,   15851,    8791,\n",
              "            95,    7557,    5709,      40,    5448,    2080,     611,\n",
              "         14742,   56717,   12576,   46354,   20877,    4921,   40533,\n",
              "           563,    1367,    9911,    8476,   18270,    8921,   69038,\n",
              "          2083,    1296,    7798,    1369,   11532,   80745,    5758,\n",
              "         42863,   44223,    9400,   66182,   57310,  324460,    3457,\n",
              "         31911,   31977,   95541,      12,     553,   28250,   17094,\n",
              "         16530])"
            ]
          },
          "metadata": {},
          "execution_count": 36
        }
      ]
    },
    {
      "cell_type": "code",
      "source": [
        "for i in df['Population in thousands (2017)']:\n",
        "  if i <=0:\n",
        "    print(i) #So no irrelevant data is present in this column"
      ],
      "metadata": {
        "id": "Z8BM9K8FrzIm"
      },
      "execution_count": 37,
      "outputs": []
    },
    {
      "cell_type": "code",
      "source": [
        "M = statistics.mean(df['Population in thousands (2017)'])"
      ],
      "metadata": {
        "id": "pmUfNk4-D2BH"
      },
      "execution_count": 38,
      "outputs": []
    },
    {
      "cell_type": "code",
      "source": [
        "pop = M*1000"
      ],
      "metadata": {
        "id": "Nh9UscmND6bK"
      },
      "execution_count": 39,
      "outputs": []
    },
    {
      "cell_type": "code",
      "source": [
        "pop"
      ],
      "metadata": {
        "colab": {
          "base_uri": "https://localhost:8080/"
        },
        "id": "Z1mj8VWjEVck",
        "outputId": "583f845c-bca0-4349-ba42-3ff928045acb"
      },
      "execution_count": 40,
      "outputs": [
        {
          "output_type": "execute_result",
          "data": {
            "text/plain": [
              "32756794.759825327"
            ]
          },
          "metadata": {},
          "execution_count": 40
        }
      ]
    },
    {
      "cell_type": "code",
      "source": [
        "fig = px.choropleth(\n",
        "    data_frame=df,\n",
        "    locations=\"country\",\n",
        "    locationmode=\"country names\",\n",
        "    color=\"Population in thousands (2017)\",\n",
        "    color_continuous_scale=\"Turbo\",\n",
        "    title=\"World Population\"\n",
        ")\n",
        "fig.show()"
      ],
      "metadata": {
        "colab": {
          "base_uri": "https://localhost:8080/",
          "height": 542
        },
        "id": "2x0p_YyAtC1_",
        "outputId": "c38b28d0-dd2d-421c-b24f-ddaeffbfebc3"
      },
      "execution_count": 41,
      "outputs": [
        {
          "output_type": "display_data",
          "data": {
            "text/html": [
              "<html>\n",
              "<head><meta charset=\"utf-8\" /></head>\n",
              "<body>\n",
              "    <div>            <script src=\"https://cdnjs.cloudflare.com/ajax/libs/mathjax/2.7.5/MathJax.js?config=TeX-AMS-MML_SVG\"></script><script type=\"text/javascript\">if (window.MathJax && window.MathJax.Hub && window.MathJax.Hub.Config) {window.MathJax.Hub.Config({SVG: {font: \"STIX-Web\"}});}</script>                <script type=\"text/javascript\">window.PlotlyConfig = {MathJaxConfig: 'local'};</script>\n",
              "        <script charset=\"utf-8\" src=\"https://cdn.plot.ly/plotly-2.35.2.min.js\"></script>                <div id=\"4e714170-f5ea-4a78-a389-a345098d635a\" class=\"plotly-graph-div\" style=\"height:525px; width:100%;\"></div>            <script type=\"text/javascript\">                                    window.PLOTLYENV=window.PLOTLYENV || {};                                    if (document.getElementById(\"4e714170-f5ea-4a78-a389-a345098d635a\")) {                    Plotly.newPlot(                        \"4e714170-f5ea-4a78-a389-a345098d635a\",                        [{\"coloraxis\":\"coloraxis\",\"geo\":\"geo\",\"hovertemplate\":\"country=%{location}\\u003cbr\\u003ePopulation in thousands (2017)=%{z}\\u003cextra\\u003e\\u003c\\u002fextra\\u003e\",\"locationmode\":\"country names\",\"locations\":[\"Afghanistan\",\"Albania\",\"Algeria\",\"American Samoa\",\"Andorra\",\"Angola\",\"Anguilla\",\"Antigua and Barbuda\",\"Argentina\",\"Armenia\",\"Aruba\",\"Australia\",\"Austria\",\"Azerbaijan\",\"Bahamas\",\"Bahrain\",\"Bangladesh\",\"Barbados\",\"Belarus\",\"Belgium\",\"Belize\",\"Benin\",\"Bermuda\",\"Bhutan\",\"Bolivia (Plurinational State of)\",\"Bonaire, Sint Eustatius and Saba\",\"Bosnia and Herzegovina\",\"Botswana\",\"Brazil\",\"British Virgin Islands\",\"Brunei Darussalam\",\"Bulgaria\",\"Burkina Faso\",\"Burundi\",\"Cabo Verde\",\"Cambodia\",\"Cameroon\",\"Canada\",\"Cayman Islands\",\"Central African Republic\",\"Chad\",\"Channel Islands\",\"Chile\",\"China, Hong Kong SAR\",\"China, Macao SAR\",\"China\",\"Colombia\",\"Comoros\",\"Congo\",\"Cook Islands\",\"Costa Rica\",\"Croatia\",\"Cuba\",\"Cyprus\",\"Czechia\",\"Democratic People's Republic of Korea\",\"Democratic Republic of the Congo\",\"Denmark\",\"Djibouti\",\"Dominica\",\"Dominican Republic\",\"Ecuador\",\"Egypt\",\"El Salvador\",\"Equatorial Guinea\",\"Eritrea\",\"Estonia\",\"Ethiopia\",\"Falkland Islands (Malvinas)\",\"Faroe Islands\",\"Fiji\",\"Finland\",\"France\",\"French Guiana\",\"French Polynesia\",\"Gabon\",\"Gambia\",\"Georgia\",\"Germany\",\"Ghana\",\"Gibraltar\",\"Greece\",\"Greenland\",\"Grenada\",\"Guadeloupe\",\"Guam\",\"Guatemala\",\"Guinea-Bissau\",\"Guinea\",\"Guyana\",\"Haiti\",\"Holy See\",\"Honduras\",\"Hungary\",\"Iceland\",\"India\",\"Indonesia\",\"Iran (Islamic Republic of)\",\"Iraq\",\"Ireland\",\"Isle of Man\",\"Israel\",\"Italy\",\"Jamaica\",\"Japan\",\"Jordan\",\"Kazakhstan\",\"Kenya\",\"Kiribati\",\"Kuwait\",\"Kyrgyzstan\",\"Lao People's Democratic Republic\",\"Latvia\",\"Lebanon\",\"Lesotho\",\"Liberia\",\"Libya\",\"Liechtenstein\",\"Lithuania\",\"Luxembourg\",\"Madagascar\",\"Malawi\",\"Malaysia\",\"Maldives\",\"Mali\",\"Malta\",\"Marshall Islands\",\"Martinique\",\"Mauritania\",\"Mauritius\",\"Mayotte\",\"Mexico\",\"Micronesia (Federated States of)\",\"Monaco\",\"Mongolia\",\"Montenegro\",\"Montserrat\",\"Morocco\",\"Mozambique\",\"Myanmar\",\"Namibia\",\"Nauru\",\"Nepal\",\"Netherlands\",\"New Caledonia\",\"New Zealand\",\"Nicaragua\",\"Niger\",\"Nigeria\",\"Niue\",\"Northern Mariana Islands\",\"Norway\",\"Oman\",\"Pakistan\",\"Palau\",\"Panama\",\"Papua New Guinea\",\"Paraguay\",\"Peru\",\"Philippines\",\"Poland\",\"Portugal\",\"Puerto Rico\",\"Qatar\",\"Republic of Korea\",\"Republic of Moldova\",\"Romania\",\"Russian Federation\",\"Rwanda\",\"Saint Helena\",\"Saint Kitts and Nevis\",\"Saint Lucia\",\"Saint Pierre and Miquelon\",\"Saint Vincent and the Grenadines\",\"Samoa\",\"San Marino\",\"Sao Tome and Principe\",\"Saudi Arabia\",\"Senegal\",\"Serbia\",\"Seychelles\",\"Sierra Leone\",\"Singapore\",\"Sint Maarten (Dutch part)\",\"Slovakia\",\"Slovenia\",\"Solomon Islands\",\"Somalia\",\"South Africa\",\"South Sudan\",\"Spain\",\"Sri Lanka\",\"State of Palestine\",\"Sudan\",\"Suriname\",\"Swaziland\",\"Sweden\",\"Switzerland\",\"Syrian Arab Republic\",\"Tajikistan\",\"Thailand\",\"The former Yugoslav Republic of Macedonia\",\"Timor-Leste\",\"Togo\",\"Tokelau\",\"Tonga\",\"Trinidad and Tobago\",\"Tunisia\",\"Turkey\",\"Turkmenistan\",\"Turks and Caicos Islands\",\"Tuvalu\",\"Uganda\",\"Ukraine\",\"United Arab Emirates\",\"United Kingdom\",\"United Republic of Tanzania\",\"United States of America\",\"United States Virgin Islands\",\"Uruguay\",\"Uzbekistan\",\"Vanuatu\",\"Venezuela (Bolivarian Republic of)\",\"Viet Nam\",\"Wallis and Futuna Islands\",\"Western Sahara\",\"Yemen\",\"Zambia\",\"Zimbabwe\"],\"name\":\"\",\"z\":[35530,2930,41318,56,77,29784,15,102,44271,2930,105,24451,8736,9828,395,1493,164670,286,9468,11429,375,11176,61,808,11052,25,3507,2292,209288,31,429,7085,19193,10864,546,16005,24054,36624,62,4659,14900,165,18055,7365,623,1409517,49066,814,5261,17,4906,4189,11485,1180,10618,25491,81340,5734,957,74,10767,16625,97553,6378,1268,5069,1310,104957,3,49,906,5523,64980,283,283,2025,2101,3912,82114,28834,35,11160,56,108,450,164,16914,1861,12717,778,10981,1,9265,9722,335,1339180,263991,81163,38275,4762,84,8322,59360,2890,127484,9702,18204,49700,116,4136,6045,6858,1950,6082,2233,4732,6375,38,2890,584,25571,18622,31624,436,18542,431,53,385,4420,1265,253,129163,106,39,3076,629,5,35740,29669,53371,2534,11,29305,17036,276,4706,6218,21477,190886,2,55,5305,4636,197016,22,4099,8251,6811,32166,104918,38171,10330,3663,2639,50982,4051,19679,143990,12208,4,55,179,6,110,196,33,204,32938,15851,8791,95,7557,5709,40,5448,2080,611,14742,56717,12576,46354,20877,4921,40533,563,1367,9911,8476,18270,8921,69038,2083,1296,7798,1,108,1369,11532,80745,5758,35,11,42863,44223,9400,66182,57310,324460,105,3457,31911,276,31977,95541,12,553,28250,17094,16530],\"type\":\"choropleth\"}],                        {\"template\":{\"data\":{\"histogram2dcontour\":[{\"type\":\"histogram2dcontour\",\"colorbar\":{\"outlinewidth\":0,\"ticks\":\"\"},\"colorscale\":[[0.0,\"#0d0887\"],[0.1111111111111111,\"#46039f\"],[0.2222222222222222,\"#7201a8\"],[0.3333333333333333,\"#9c179e\"],[0.4444444444444444,\"#bd3786\"],[0.5555555555555556,\"#d8576b\"],[0.6666666666666666,\"#ed7953\"],[0.7777777777777778,\"#fb9f3a\"],[0.8888888888888888,\"#fdca26\"],[1.0,\"#f0f921\"]]}],\"choropleth\":[{\"type\":\"choropleth\",\"colorbar\":{\"outlinewidth\":0,\"ticks\":\"\"}}],\"histogram2d\":[{\"type\":\"histogram2d\",\"colorbar\":{\"outlinewidth\":0,\"ticks\":\"\"},\"colorscale\":[[0.0,\"#0d0887\"],[0.1111111111111111,\"#46039f\"],[0.2222222222222222,\"#7201a8\"],[0.3333333333333333,\"#9c179e\"],[0.4444444444444444,\"#bd3786\"],[0.5555555555555556,\"#d8576b\"],[0.6666666666666666,\"#ed7953\"],[0.7777777777777778,\"#fb9f3a\"],[0.8888888888888888,\"#fdca26\"],[1.0,\"#f0f921\"]]}],\"heatmap\":[{\"type\":\"heatmap\",\"colorbar\":{\"outlinewidth\":0,\"ticks\":\"\"},\"colorscale\":[[0.0,\"#0d0887\"],[0.1111111111111111,\"#46039f\"],[0.2222222222222222,\"#7201a8\"],[0.3333333333333333,\"#9c179e\"],[0.4444444444444444,\"#bd3786\"],[0.5555555555555556,\"#d8576b\"],[0.6666666666666666,\"#ed7953\"],[0.7777777777777778,\"#fb9f3a\"],[0.8888888888888888,\"#fdca26\"],[1.0,\"#f0f921\"]]}],\"heatmapgl\":[{\"type\":\"heatmapgl\",\"colorbar\":{\"outlinewidth\":0,\"ticks\":\"\"},\"colorscale\":[[0.0,\"#0d0887\"],[0.1111111111111111,\"#46039f\"],[0.2222222222222222,\"#7201a8\"],[0.3333333333333333,\"#9c179e\"],[0.4444444444444444,\"#bd3786\"],[0.5555555555555556,\"#d8576b\"],[0.6666666666666666,\"#ed7953\"],[0.7777777777777778,\"#fb9f3a\"],[0.8888888888888888,\"#fdca26\"],[1.0,\"#f0f921\"]]}],\"contourcarpet\":[{\"type\":\"contourcarpet\",\"colorbar\":{\"outlinewidth\":0,\"ticks\":\"\"}}],\"contour\":[{\"type\":\"contour\",\"colorbar\":{\"outlinewidth\":0,\"ticks\":\"\"},\"colorscale\":[[0.0,\"#0d0887\"],[0.1111111111111111,\"#46039f\"],[0.2222222222222222,\"#7201a8\"],[0.3333333333333333,\"#9c179e\"],[0.4444444444444444,\"#bd3786\"],[0.5555555555555556,\"#d8576b\"],[0.6666666666666666,\"#ed7953\"],[0.7777777777777778,\"#fb9f3a\"],[0.8888888888888888,\"#fdca26\"],[1.0,\"#f0f921\"]]}],\"surface\":[{\"type\":\"surface\",\"colorbar\":{\"outlinewidth\":0,\"ticks\":\"\"},\"colorscale\":[[0.0,\"#0d0887\"],[0.1111111111111111,\"#46039f\"],[0.2222222222222222,\"#7201a8\"],[0.3333333333333333,\"#9c179e\"],[0.4444444444444444,\"#bd3786\"],[0.5555555555555556,\"#d8576b\"],[0.6666666666666666,\"#ed7953\"],[0.7777777777777778,\"#fb9f3a\"],[0.8888888888888888,\"#fdca26\"],[1.0,\"#f0f921\"]]}],\"mesh3d\":[{\"type\":\"mesh3d\",\"colorbar\":{\"outlinewidth\":0,\"ticks\":\"\"}}],\"scatter\":[{\"fillpattern\":{\"fillmode\":\"overlay\",\"size\":10,\"solidity\":0.2},\"type\":\"scatter\"}],\"parcoords\":[{\"type\":\"parcoords\",\"line\":{\"colorbar\":{\"outlinewidth\":0,\"ticks\":\"\"}}}],\"scatterpolargl\":[{\"type\":\"scatterpolargl\",\"marker\":{\"colorbar\":{\"outlinewidth\":0,\"ticks\":\"\"}}}],\"bar\":[{\"error_x\":{\"color\":\"#2a3f5f\"},\"error_y\":{\"color\":\"#2a3f5f\"},\"marker\":{\"line\":{\"color\":\"#E5ECF6\",\"width\":0.5},\"pattern\":{\"fillmode\":\"overlay\",\"size\":10,\"solidity\":0.2}},\"type\":\"bar\"}],\"scattergeo\":[{\"type\":\"scattergeo\",\"marker\":{\"colorbar\":{\"outlinewidth\":0,\"ticks\":\"\"}}}],\"scatterpolar\":[{\"type\":\"scatterpolar\",\"marker\":{\"colorbar\":{\"outlinewidth\":0,\"ticks\":\"\"}}}],\"histogram\":[{\"marker\":{\"pattern\":{\"fillmode\":\"overlay\",\"size\":10,\"solidity\":0.2}},\"type\":\"histogram\"}],\"scattergl\":[{\"type\":\"scattergl\",\"marker\":{\"colorbar\":{\"outlinewidth\":0,\"ticks\":\"\"}}}],\"scatter3d\":[{\"type\":\"scatter3d\",\"line\":{\"colorbar\":{\"outlinewidth\":0,\"ticks\":\"\"}},\"marker\":{\"colorbar\":{\"outlinewidth\":0,\"ticks\":\"\"}}}],\"scattermapbox\":[{\"type\":\"scattermapbox\",\"marker\":{\"colorbar\":{\"outlinewidth\":0,\"ticks\":\"\"}}}],\"scatterternary\":[{\"type\":\"scatterternary\",\"marker\":{\"colorbar\":{\"outlinewidth\":0,\"ticks\":\"\"}}}],\"scattercarpet\":[{\"type\":\"scattercarpet\",\"marker\":{\"colorbar\":{\"outlinewidth\":0,\"ticks\":\"\"}}}],\"carpet\":[{\"aaxis\":{\"endlinecolor\":\"#2a3f5f\",\"gridcolor\":\"white\",\"linecolor\":\"white\",\"minorgridcolor\":\"white\",\"startlinecolor\":\"#2a3f5f\"},\"baxis\":{\"endlinecolor\":\"#2a3f5f\",\"gridcolor\":\"white\",\"linecolor\":\"white\",\"minorgridcolor\":\"white\",\"startlinecolor\":\"#2a3f5f\"},\"type\":\"carpet\"}],\"table\":[{\"cells\":{\"fill\":{\"color\":\"#EBF0F8\"},\"line\":{\"color\":\"white\"}},\"header\":{\"fill\":{\"color\":\"#C8D4E3\"},\"line\":{\"color\":\"white\"}},\"type\":\"table\"}],\"barpolar\":[{\"marker\":{\"line\":{\"color\":\"#E5ECF6\",\"width\":0.5},\"pattern\":{\"fillmode\":\"overlay\",\"size\":10,\"solidity\":0.2}},\"type\":\"barpolar\"}],\"pie\":[{\"automargin\":true,\"type\":\"pie\"}]},\"layout\":{\"autotypenumbers\":\"strict\",\"colorway\":[\"#636efa\",\"#EF553B\",\"#00cc96\",\"#ab63fa\",\"#FFA15A\",\"#19d3f3\",\"#FF6692\",\"#B6E880\",\"#FF97FF\",\"#FECB52\"],\"font\":{\"color\":\"#2a3f5f\"},\"hovermode\":\"closest\",\"hoverlabel\":{\"align\":\"left\"},\"paper_bgcolor\":\"white\",\"plot_bgcolor\":\"#E5ECF6\",\"polar\":{\"bgcolor\":\"#E5ECF6\",\"angularaxis\":{\"gridcolor\":\"white\",\"linecolor\":\"white\",\"ticks\":\"\"},\"radialaxis\":{\"gridcolor\":\"white\",\"linecolor\":\"white\",\"ticks\":\"\"}},\"ternary\":{\"bgcolor\":\"#E5ECF6\",\"aaxis\":{\"gridcolor\":\"white\",\"linecolor\":\"white\",\"ticks\":\"\"},\"baxis\":{\"gridcolor\":\"white\",\"linecolor\":\"white\",\"ticks\":\"\"},\"caxis\":{\"gridcolor\":\"white\",\"linecolor\":\"white\",\"ticks\":\"\"}},\"coloraxis\":{\"colorbar\":{\"outlinewidth\":0,\"ticks\":\"\"}},\"colorscale\":{\"sequential\":[[0.0,\"#0d0887\"],[0.1111111111111111,\"#46039f\"],[0.2222222222222222,\"#7201a8\"],[0.3333333333333333,\"#9c179e\"],[0.4444444444444444,\"#bd3786\"],[0.5555555555555556,\"#d8576b\"],[0.6666666666666666,\"#ed7953\"],[0.7777777777777778,\"#fb9f3a\"],[0.8888888888888888,\"#fdca26\"],[1.0,\"#f0f921\"]],\"sequentialminus\":[[0.0,\"#0d0887\"],[0.1111111111111111,\"#46039f\"],[0.2222222222222222,\"#7201a8\"],[0.3333333333333333,\"#9c179e\"],[0.4444444444444444,\"#bd3786\"],[0.5555555555555556,\"#d8576b\"],[0.6666666666666666,\"#ed7953\"],[0.7777777777777778,\"#fb9f3a\"],[0.8888888888888888,\"#fdca26\"],[1.0,\"#f0f921\"]],\"diverging\":[[0,\"#8e0152\"],[0.1,\"#c51b7d\"],[0.2,\"#de77ae\"],[0.3,\"#f1b6da\"],[0.4,\"#fde0ef\"],[0.5,\"#f7f7f7\"],[0.6,\"#e6f5d0\"],[0.7,\"#b8e186\"],[0.8,\"#7fbc41\"],[0.9,\"#4d9221\"],[1,\"#276419\"]]},\"xaxis\":{\"gridcolor\":\"white\",\"linecolor\":\"white\",\"ticks\":\"\",\"title\":{\"standoff\":15},\"zerolinecolor\":\"white\",\"automargin\":true,\"zerolinewidth\":2},\"yaxis\":{\"gridcolor\":\"white\",\"linecolor\":\"white\",\"ticks\":\"\",\"title\":{\"standoff\":15},\"zerolinecolor\":\"white\",\"automargin\":true,\"zerolinewidth\":2},\"scene\":{\"xaxis\":{\"backgroundcolor\":\"#E5ECF6\",\"gridcolor\":\"white\",\"linecolor\":\"white\",\"showbackground\":true,\"ticks\":\"\",\"zerolinecolor\":\"white\",\"gridwidth\":2},\"yaxis\":{\"backgroundcolor\":\"#E5ECF6\",\"gridcolor\":\"white\",\"linecolor\":\"white\",\"showbackground\":true,\"ticks\":\"\",\"zerolinecolor\":\"white\",\"gridwidth\":2},\"zaxis\":{\"backgroundcolor\":\"#E5ECF6\",\"gridcolor\":\"white\",\"linecolor\":\"white\",\"showbackground\":true,\"ticks\":\"\",\"zerolinecolor\":\"white\",\"gridwidth\":2}},\"shapedefaults\":{\"line\":{\"color\":\"#2a3f5f\"}},\"annotationdefaults\":{\"arrowcolor\":\"#2a3f5f\",\"arrowhead\":0,\"arrowwidth\":1},\"geo\":{\"bgcolor\":\"white\",\"landcolor\":\"#E5ECF6\",\"subunitcolor\":\"white\",\"showland\":true,\"showlakes\":true,\"lakecolor\":\"white\"},\"title\":{\"x\":0.05},\"mapbox\":{\"style\":\"light\"}}},\"geo\":{\"domain\":{\"x\":[0.0,1.0],\"y\":[0.0,1.0]},\"center\":{}},\"coloraxis\":{\"colorbar\":{\"title\":{\"text\":\"Population in thousands (2017)\"}},\"colorscale\":[[0.0,\"#30123b\"],[0.07142857142857142,\"#4145ab\"],[0.14285714285714285,\"#4675ed\"],[0.21428571428571427,\"#39a2fc\"],[0.2857142857142857,\"#1bcfd4\"],[0.35714285714285715,\"#24eca6\"],[0.42857142857142855,\"#61fc6c\"],[0.5,\"#a4fc3b\"],[0.5714285714285714,\"#d1e834\"],[0.6428571428571429,\"#f3c63a\"],[0.7142857142857143,\"#fe9b2d\"],[0.7857142857142857,\"#f36315\"],[0.8571428571428571,\"#d93806\"],[0.9285714285714286,\"#b11901\"],[1.0,\"#7a0402\"]]},\"legend\":{\"tracegroupgap\":0},\"title\":{\"text\":\"World Population\"}},                        {\"responsive\": true}                    ).then(function(){\n",
              "                            \n",
              "var gd = document.getElementById('4e714170-f5ea-4a78-a389-a345098d635a');\n",
              "var x = new MutationObserver(function (mutations, observer) {{\n",
              "        var display = window.getComputedStyle(gd).display;\n",
              "        if (!display || display === 'none') {{\n",
              "            console.log([gd, 'removed!']);\n",
              "            Plotly.purge(gd);\n",
              "            observer.disconnect();\n",
              "        }}\n",
              "}});\n",
              "\n",
              "// Listen for the removal of the full notebook cells\n",
              "var notebookContainer = gd.closest('#notebook-container');\n",
              "if (notebookContainer) {{\n",
              "    x.observe(notebookContainer, {childList: true});\n",
              "}}\n",
              "\n",
              "// Listen for the clearing of the current output cell\n",
              "var outputEl = gd.closest('.output');\n",
              "if (outputEl) {{\n",
              "    x.observe(outputEl, {childList: true});\n",
              "}}\n",
              "\n",
              "                        })                };                            </script>        </div>\n",
              "</body>\n",
              "</html>"
            ]
          },
          "metadata": {}
        }
      ]
    },
    {
      "cell_type": "markdown",
      "source": [
        "**What is the median population density among the given countries?**"
      ],
      "metadata": {
        "id": "zO9x-8PVEesU"
      }
    },
    {
      "cell_type": "code",
      "source": [
        "df['Population density (per km2, 2017)'].unique()"
      ],
      "metadata": {
        "colab": {
          "base_uri": "https://localhost:8080/"
        },
        "id": "SfyH7_sYEWfx",
        "outputId": "9a3aaeb6-c337-47ee-e2f9-f802dac53ccd"
      },
      "execution_count": 42,
      "outputs": [
        {
          "output_type": "execute_result",
          "data": {
            "text/plain": [
              "array([5.44000e+01, 1.06900e+02, 1.73000e+01, 2.78200e+02, 1.63800e+02,\n",
              "       2.39000e+01, 1.65700e+02, 2.31800e+02, 1.62000e+01, 1.02900e+02,\n",
              "       5.84800e+02, 3.20000e+00, 1.06000e+02, 1.18900e+02, 3.95000e+01,\n",
              "       1.96390e+03, 1.26500e+03, 6.64500e+02, 4.67000e+01, 3.77500e+02,\n",
              "       1.64000e+01, 9.91000e+01, 1.22700e+03, 2.12000e+01, 1.02000e+01,\n",
              "       7.74000e+01, 6.88000e+01, 4.00000e+00, 2.50000e+01, 2.08000e+02,\n",
              "       8.13000e+01, 6.53000e+01, 7.02000e+01, 4.23100e+02, 1.35600e+02,\n",
              "       9.07000e+01, 5.09000e+01, 2.56500e+02, 7.50000e+00, 1.18000e+01,\n",
              "       8.70100e+02, 2.43000e+01, 7.01420e+03, 2.08216e+04, 1.50100e+02,\n",
              "       4.42000e+01, 4.37400e+02, 1.54000e+01, 7.24000e+01, 9.61000e+01,\n",
              "       7.49000e+01, 1.07900e+02, 1.27700e+02, 1.37500e+02, 2.11700e+02,\n",
              "       3.59000e+01, 1.35100e+02, 4.13000e+01, 9.86000e+01, 2.22800e+02,\n",
              "       6.69000e+01, 9.80000e+01, 3.07800e+02, 4.52000e+01, 5.02000e+01,\n",
              "       3.09000e+01, 1.05000e+02, 2.00000e-01, 3.53000e+01, 4.96000e+01,\n",
              "       1.82000e+01, 1.18700e+02, 3.40000e+00, 7.73000e+01, 7.90000e+00,\n",
              "       2.07600e+02, 5.63000e+01, 2.35600e+02, 1.26700e+02, 3.45710e+03,\n",
              "       8.66000e+01, 1.00000e-01, 3.17100e+02, 2.66000e+02, 3.04100e+02,\n",
              "       1.57800e+02, 6.62000e+01, 5.18000e+01, 3.98400e+02, 1.80000e+03,\n",
              "       8.28000e+01, 1.07400e+02, 3.30000e+00, 4.50400e+02, 1.45700e+02,\n",
              "       4.98000e+01, 8.81000e+01, 6.91000e+01, 1.47900e+02, 3.84500e+02,\n",
              "       2.01800e+02, 2.66900e+02, 3.49700e+02, 1.09300e+02, 6.70000e+00,\n",
              "       8.73000e+01, 1.43700e+02, 2.32100e+02, 3.15000e+01, 2.97000e+01,\n",
              "       3.13000e+01, 5.94600e+02, 7.36000e+01, 4.91000e+01, 3.60000e+00,\n",
              "       2.37000e+02, 4.61000e+01, 2.25300e+02, 4.40000e+01, 1.97500e+02,\n",
              "       9.63000e+01, 1.45440e+03, 1.52000e+01, 1.34640e+03, 2.95200e+02,\n",
              "       3.63100e+02, 4.30000e+00, 6.23200e+02, 6.74800e+02, 6.64000e+01,\n",
              "       1.50800e+02, 2.59698e+04, 2.00000e+00, 4.68000e+01, 8.01000e+01,\n",
              "       3.77000e+01, 8.17000e+01, 3.10000e+00, 5.68000e+02, 2.04400e+02,\n",
              "       5.05200e+02, 1.51000e+01, 1.79000e+01, 5.17000e+01, 1.70000e+01,\n",
              "       2.09600e+02, 6.20000e+00, 1.19900e+02, 1.45000e+01, 1.50000e+01,\n",
              "       2.55600e+02, 4.72000e+01, 5.51000e+01, 1.71000e+01, 2.51000e+01,\n",
              "       3.51900e+02, 1.24600e+02, 1.12800e+02, 4.13000e+02, 2.27300e+02,\n",
              "       5.24300e+02, 1.23300e+02, 8.55000e+01, 8.80000e+00, 4.94900e+02,\n",
              "       1.04000e+01, 2.12900e+02, 2.93200e+02, 2.75000e+01, 2.81800e+02,\n",
              "       6.94000e+01, 5.56700e+02, 2.12800e+02, 1.53000e+01, 8.23000e+01,\n",
              "       1.00500e+02, 2.06000e+02, 1.04700e+02, 8.15550e+03, 1.18000e+03,\n",
              "       1.13300e+02, 1.03300e+02, 2.18000e+01, 2.35000e+01, 2.06000e+01,\n",
              "       9.29000e+01, 3.32900e+02, 8.17400e+02, 2.30000e+01, 7.95000e+01,\n",
              "       2.42000e+01, 2.14500e+02, 9.95000e+01, 6.37000e+01, 8.26000e+01,\n",
              "       8.72000e+01, 1.43400e+02, 1.30000e+02, 1.50000e+02, 7.42000e+01,\n",
              "       1.04900e+02, 1.23000e+01, 3.73000e+01, 3.73100e+02, 7.63000e+01,\n",
              "       1.12400e+02, 2.73600e+02, 6.47000e+01, 3.55000e+01, 2.99700e+02,\n",
              "       1.98000e+01, 7.50000e+01, 2.27000e+01, 3.63000e+01, 3.08100e+02,\n",
              "       8.41000e+01, 2.10000e+00, 5.35000e+01, 4.27000e+01])"
            ]
          },
          "metadata": {},
          "execution_count": 42
        }
      ]
    },
    {
      "cell_type": "markdown",
      "source": [
        "As these kind of data is difficult to interprt we will convert them in standar numeric format 1st."
      ],
      "metadata": {
        "id": "O2UI6voQuuqt"
      }
    },
    {
      "cell_type": "code",
      "source": [
        "df['Population density (per km2, 2017)'] = df['Population density (per km2, 2017)'].apply(lambda x: '{:.2f}'.format(x))"
      ],
      "metadata": {
        "id": "RQ2hyRUlu3yR"
      },
      "execution_count": 43,
      "outputs": []
    },
    {
      "cell_type": "code",
      "source": [
        "df['Population density (per km2, 2017)'].unique()"
      ],
      "metadata": {
        "colab": {
          "base_uri": "https://localhost:8080/"
        },
        "id": "KjzHP4PQwhPF",
        "outputId": "e9f782ed-3f5f-4243-cd56-e99f73b3972d"
      },
      "execution_count": 52,
      "outputs": [
        {
          "output_type": "execute_result",
          "data": {
            "text/plain": [
              "array(['54.40', '106.90', '17.30', '278.20', '163.80', '23.90', '165.70',\n",
              "       '231.80', '16.20', '102.90', '584.80', '3.20', '106.00', '118.90',\n",
              "       '39.50', '1963.90', '1265.00', '664.50', '46.70', '377.50',\n",
              "       '16.40', '99.10', '1227.00', '21.20', '10.20', '77.40', '68.80',\n",
              "       '4.00', '25.00', '208.00', '81.30', '65.30', '70.20', '423.10',\n",
              "       '135.60', '90.70', '50.90', '256.50', '7.50', '11.80', '870.10',\n",
              "       '24.30', '7014.20', '20821.60', '150.10', '44.20', '437.40',\n",
              "       '15.40', '72.40', '96.10', '74.90', '107.90', '127.70', '137.50',\n",
              "       '211.70', '35.90', '135.10', '41.30', '98.60', '222.80', '66.90',\n",
              "       '98.00', '307.80', '45.20', '50.20', '30.90', '105.00', '0.20',\n",
              "       '35.30', '49.60', '18.20', '118.70', '3.40', '77.30', '7.90',\n",
              "       '207.60', '56.30', '235.60', '126.70', '3457.10', '86.60', '0.10',\n",
              "       '317.10', '266.00', '304.10', '157.80', '66.20', '51.80', '398.40',\n",
              "       '1800.00', '82.80', '107.40', '3.30', '450.40', '145.70', '49.80',\n",
              "       '88.10', '69.10', '147.90', '384.50', '201.80', '266.90', '349.70',\n",
              "       '109.30', '6.70', '87.30', '143.70', '232.10', '31.50', '29.70',\n",
              "       '31.30', '594.60', '73.60', '49.10', '3.60', '237.00', '46.10',\n",
              "       '225.30', '44.00', '197.50', '96.30', '1454.40', '15.20',\n",
              "       '1346.40', '295.20', '363.10', '4.30', '623.20', '674.80', '66.40',\n",
              "       '150.80', '25969.80', '2.00', '46.80', '80.10', '37.70', '81.70',\n",
              "       '3.10', '568.00', '204.40', '505.20', '15.10', '17.90', '51.70',\n",
              "       '17.00', '209.60', '6.20', '119.90', '14.50', '15.00', '255.60',\n",
              "       '47.20', '55.10', '17.10', '25.10', '351.90', '124.60', '112.80',\n",
              "       '413.00', '227.30', '524.30', '123.30', '85.50', '8.80', '494.90',\n",
              "       '10.40', '212.90', '293.20', '27.50', '281.80', '69.40', '556.70',\n",
              "       '212.80', '15.30', '82.30', '100.50', '206.00', '104.70',\n",
              "       '8155.50', '1180.00', '113.30', '103.30', '21.80', '23.50',\n",
              "       '20.60', '92.90', '332.90', '817.40', '23.00', '79.50', '24.20',\n",
              "       '214.50', '99.50', '63.70', '82.60', '87.20', '143.40', '130.00',\n",
              "       '150.00', '74.20', '104.90', '12.30', '37.30', '373.10', '76.30',\n",
              "       '112.40', '273.60', '64.70', '35.50', '299.70', '19.80', '75.00',\n",
              "       '22.70', '36.30', '308.10', '84.10', '2.10', '53.50', '42.70'],\n",
              "      dtype=object)"
            ]
          },
          "metadata": {},
          "execution_count": 52
        }
      ]
    },
    {
      "cell_type": "code",
      "source": [
        "df['Population density (per km2, 2017)'] = df['Population density (per km2, 2017)'].apply(pd.to_numeric)"
      ],
      "metadata": {
        "id": "g3wDDPt0wmBT"
      },
      "execution_count": 53,
      "outputs": []
    },
    {
      "cell_type": "code",
      "source": [
        "statistics.median(df['Population density (per km2, 2017)'])"
      ],
      "metadata": {
        "colab": {
          "base_uri": "https://localhost:8080/"
        },
        "id": "CYG6OtxjF9ca",
        "outputId": "aab79653-7be9-42ee-e792-e8e31ba7925e"
      },
      "execution_count": 54,
      "outputs": [
        {
          "output_type": "execute_result",
          "data": {
            "text/plain": [
              "88.1"
            ]
          },
          "metadata": {},
          "execution_count": 54
        }
      ]
    },
    {
      "cell_type": "code",
      "source": [
        "sns.kdeplot(x='Population density (per km2, 2017)',data = df)\n",
        "plt.show()"
      ],
      "metadata": {
        "colab": {
          "base_uri": "https://localhost:8080/",
          "height": 451
        },
        "id": "f8K2ZZfNvZHF",
        "outputId": "4fd66519-2fb8-4884-800f-258fc507daf5"
      },
      "execution_count": 56,
      "outputs": [
        {
          "output_type": "display_data",
          "data": {
            "text/plain": [
              "<Figure size 640x480 with 1 Axes>"
            ],
            "image/png": "[encoded data removed]"
          },
          "metadata": {}
        }
      ]
    },
    {
      "cell_type": "markdown",
      "source": [
        "Most of the countries have population density less than 5000"
      ],
      "metadata": {
        "id": "uNnmrHuAw3u3"
      }
    },
    {
      "cell_type": "markdown",
      "source": [
        "**What is the range of the surface area across all countries?**"
      ],
      "metadata": {
        "id": "2XOsHKecGJA9"
      }
    },
    {
      "cell_type": "markdown",
      "source": [],
      "metadata": {
        "id": "WO3puBtdIOKs"
      }
    },
    {
      "cell_type": "code",
      "source": [
        "df['Surface area (km2)'].unique()"
      ],
      "metadata": {
        "colab": {
          "base_uri": "https://localhost:8080/"
        },
        "id": "fPBz2-5XIOni",
        "outputId": "3b2f1a68-9767-4380-f876-b02c1e48e423"
      },
      "execution_count": 58,
      "outputs": [
        {
          "output_type": "execute_result",
          "data": {
            "text/plain": [
              "array(['652864', '28748', '2381741', '199', '468', '1246700', '91', '442',\n",
              "       '2780400', '29743', '180', '7692060', '83871', '86600', '13940',\n",
              "       '771', '147570', '431', '207600', '30528', '22966', '114763', '53',\n",
              "       '38394', '1098581', '-99', '51209', '582000', '8515767', '151',\n",
              "       '5765', '111002', '272967', '27830', '4033', '181035', '475650',\n",
              "       '9984670', '264', '622984', '1284000', '756102', '1106', '30',\n",
              "       '9600000', '1141748', '2235', '342000', '236', '51100', '56594',\n",
              "       '109884', '9251', '78868', '120538', '2344858', '42921', '23200',\n",
              "       '750', '48671', '257217', '1002000', '21041', '28052', '117600',\n",
              "       '45227', '1104300', '12173', '1393', '18272', '338440', '551500',\n",
              "       '83534', '4000', '267668', '11295', '69700', '357376', '238537',\n",
              "       '6', '131957', '2166086', '345', '1705', '549', '108889', '36125',\n",
              "       '245857', '214969', '27750', '~0', '112492', '93024', '103000',\n",
              "       '3287263', '1910931', '1628750', '435052', '69797', '572', '22072',\n",
              "       '302073', '10990', '377930', '89318', '2724902', '591958', '726',\n",
              "       '17818', '199949', '236800', '64573', '10452', '30355', '111369',\n",
              "       '1676198', '160', '65286', '2586', '587295', '118484', '330323',\n",
              "       '300', '1240192', '315', '181', '1128', '1030700', '1969',\n",
              "       '1964375', '702', '2', '1564116', '13812', '103', '446550',\n",
              "       '799380', '676577', '824116', '21', '147181', '41542', '18575',\n",
              "       '268107', '130373', '1267000', '923768', '260', '457', '386194',\n",
              "       '309500', '796095', '459', '75320', '462840', '406752', '1285216',\n",
              "       '300000', '312679', '92226', '8868', '11607', '100284', '33846',\n",
              "       '238391', '17098246', '26338', '308', '261', '539', '242', '389',\n",
              "       '2842', '61', '964', '2206714', '196712', '88499', '72300', '719',\n",
              "       '34', '49035', '20273', '28896', '637657', '1221037', '658841',\n",
              "       '505944', '65610', '6020', '163820', '17363', '438574', '41291',\n",
              "       '185180', '142600', '513120', '25713', '14919', '56785', '12',\n",
              "       '747', '5127', '163610', '783562', '488100', '948', '26', '241550',\n",
              "       '603500', '83600', '242495', '947303', '9833517', '347', '173626',\n",
              "       '448969', '12189', '912050', '330967', '142', '266000', '527968',\n",
              "       '752612', '390757'], dtype=object)"
            ]
          },
          "metadata": {},
          "execution_count": 58
        }
      ]
    },
    {
      "cell_type": "code",
      "source": [
        "df['Surface area (km2)'] = pd.to_numeric(df['Surface area (km2)'], errors='coerce')\n",
        "df['Surface area (km2)'].replace(-99,np.nan,inplace = True)\n",
        "df.dropna(subset = ['Surface area (km2)'],inplace = True)"
      ],
      "metadata": {
        "id": "P8sNvFtuyCh9"
      },
      "execution_count": 68,
      "outputs": []
    },
    {
      "cell_type": "code",
      "source": [
        "df['Surface area (km2)']"
      ],
      "metadata": {
        "colab": {
          "base_uri": "https://localhost:8080/",
          "height": 458
        },
        "id": "T6gvK-KwyZd_",
        "outputId": "4a98e028-14df-41de-c911-b1bff8cbd354"
      },
      "execution_count": 66,
      "outputs": [
        {
          "output_type": "execute_result",
          "data": {
            "text/plain": [
              "0       652864.0\n",
              "1        28748.0\n",
              "2      2381741.0\n",
              "3          199.0\n",
              "4          468.0\n",
              "         ...    \n",
              "224        142.0\n",
              "225     266000.0\n",
              "226     527968.0\n",
              "227     752612.0\n",
              "228     390757.0\n",
              "Name: Surface area (km2), Length: 225, dtype: float64"
            ],
            "text/html": [
              "<div>\n",
              "<style scoped>\n",
              "    .dataframe tbody tr th:only-of-type {\n",
              "        vertical-align: middle;\n",
              "    }\n",
              "\n",
              "    .dataframe tbody tr th {\n",
              "        vertical-align: top;\n",
              "    }\n",
              "\n",
              "    .dataframe thead th {\n",
              "        text-align: right;\n",
              "    }\n",
              "</style>\n",
              "<table border=\"1\" class=\"dataframe\">\n",
              "  <thead>\n",
              "    <tr style=\"text-align: right;\">\n",
              "      <th></th>\n",
              "      <th>Surface area (km2)</th>\n",
              "    </tr>\n",
              "  </thead>\n",
              "  <tbody>\n",
              "    <tr>\n",
              "      <th>0</th>\n",
              "      <td>652864.0</td>\n",
              "    </tr>\n",
              "    <tr>\n",
              "      <th>1</th>\n",
              "      <td>28748.0</td>\n",
              "    </tr>\n",
              "    <tr>\n",
              "      <th>2</th>\n",
              "      <td>2381741.0</td>\n",
              "    </tr>\n",
              "    <tr>\n",
              "      <th>3</th>\n",
              "      <td>199.0</td>\n",
              "    </tr>\n",
              "    <tr>\n",
              "      <th>4</th>\n",
              "      <td>468.0</td>\n",
              "    </tr>\n",
              "    <tr>\n",
              "      <th>...</th>\n",
              "      <td>...</td>\n",
              "    </tr>\n",
              "    <tr>\n",
              "      <th>224</th>\n",
              "      <td>142.0</td>\n",
              "    </tr>\n",
              "    <tr>\n",
              "      <th>225</th>\n",
              "      <td>266000.0</td>\n",
              "    </tr>\n",
              "    <tr>\n",
              "      <th>226</th>\n",
              "      <td>527968.0</td>\n",
              "    </tr>\n",
              "    <tr>\n",
              "      <th>227</th>\n",
              "      <td>752612.0</td>\n",
              "    </tr>\n",
              "    <tr>\n",
              "      <th>228</th>\n",
              "      <td>390757.0</td>\n",
              "    </tr>\n",
              "  </tbody>\n",
              "</table>\n",
              "<p>225 rows × 1 columns</p>\n",
              "</div><br><label><b>dtype:</b> float64</label>"
            ]
          },
          "metadata": {},
          "execution_count": 66
        }
      ]
    },
    {
      "cell_type": "code",
      "source": [
        "df['Surface area (km2)'].head()"
      ],
      "metadata": {
        "colab": {
          "base_uri": "https://localhost:8080/",
          "height": 241
        },
        "id": "Aji1RngtyqWY",
        "outputId": "bd288ae4-8b4d-4008-81cb-9bfdf9574f82"
      },
      "execution_count": 67,
      "outputs": [
        {
          "output_type": "execute_result",
          "data": {
            "text/plain": [
              "0     652864.0\n",
              "1      28748.0\n",
              "2    2381741.0\n",
              "3        199.0\n",
              "4        468.0\n",
              "Name: Surface area (km2), dtype: float64"
            ],
            "text/html": [
              "<div>\n",
              "<style scoped>\n",
              "    .dataframe tbody tr th:only-of-type {\n",
              "        vertical-align: middle;\n",
              "    }\n",
              "\n",
              "    .dataframe tbody tr th {\n",
              "        vertical-align: top;\n",
              "    }\n",
              "\n",
              "    .dataframe thead th {\n",
              "        text-align: right;\n",
              "    }\n",
              "</style>\n",
              "<table border=\"1\" class=\"dataframe\">\n",
              "  <thead>\n",
              "    <tr style=\"text-align: right;\">\n",
              "      <th></th>\n",
              "      <th>Surface area (km2)</th>\n",
              "    </tr>\n",
              "  </thead>\n",
              "  <tbody>\n",
              "    <tr>\n",
              "      <th>0</th>\n",
              "      <td>652864.0</td>\n",
              "    </tr>\n",
              "    <tr>\n",
              "      <th>1</th>\n",
              "      <td>28748.0</td>\n",
              "    </tr>\n",
              "    <tr>\n",
              "      <th>2</th>\n",
              "      <td>2381741.0</td>\n",
              "    </tr>\n",
              "    <tr>\n",
              "      <th>3</th>\n",
              "      <td>199.0</td>\n",
              "    </tr>\n",
              "    <tr>\n",
              "      <th>4</th>\n",
              "      <td>468.0</td>\n",
              "    </tr>\n",
              "  </tbody>\n",
              "</table>\n",
              "</div><br><label><b>dtype:</b> float64</label>"
            ]
          },
          "metadata": {},
          "execution_count": 67
        }
      ]
    },
    {
      "cell_type": "code",
      "source": [
        "range = max(df['Surface area (km2)']) - min(df['Surface area (km2)'])\n",
        "range"
      ],
      "metadata": {
        "colab": {
          "base_uri": "https://localhost:8080/"
        },
        "id": "s6xcS4aMGBhy",
        "outputId": "6bc929a2-f9ad-4964-9a5a-19eaec10e504"
      },
      "execution_count": 70,
      "outputs": [
        {
          "output_type": "execute_result",
          "data": {
            "text/plain": [
              "17098244.0"
            ]
          },
          "metadata": {},
          "execution_count": 70
        }
      ]
    },
    {
      "cell_type": "code",
      "source": [
        "data = df.sort_values(by=\"Surface area (km2)\", ascending=False).head(10)\n",
        "sns.barplot(x=\"Surface area (km2)\", y=\"country\", data=data, palette=\"hsv\")\n",
        "plt.show() #Top 10 countries with highest surface areas"
      ],
      "metadata": {
        "colab": {
          "base_uri": "https://localhost:8080/",
          "height": 449
        },
        "id": "KpJsHCkOzXMF",
        "outputId": "dd38a58f-748f-4c5c-96e3-5a752fa15745"
      },
      "execution_count": 73,
      "outputs": [
        {
          "output_type": "display_data",
          "data": {
            "text/plain": [
              "<Figure size 640x480 with 1 Axes>"
            ],
            "image/png": "[encoded data removed]"
          },
          "metadata": {}
        }
      ]
    },
    {
      "cell_type": "markdown",
      "source": [
        "**What is the standard deviation of population growth rate?**"
      ],
      "metadata": {
        "id": "Fnz2NyRjH7Fp"
      }
    },
    {
      "cell_type": "code",
      "source": [
        "df['Population growth rate (average annual %)'].unique()"
      ],
      "metadata": {
        "colab": {
          "base_uri": "https://localhost:8080/"
        },
        "id": "U_gNPO-ALP_g",
        "outputId": "329ebccd-cce2-432e-80f2-97463c35e4c3"
      },
      "execution_count": 210,
      "outputs": [
        {
          "output_type": "execute_result",
          "data": {
            "text/plain": [
              "array(['3.2', '-0.1', '2.0', '-1.6', '3.5', '1.2', '1.1', '1.0', '0.3',\n",
              "       '0.5', '1.5', '0.6', '1.3', '1.4', '~0.0', '2.2', '2.8', '-0.6',\n",
              "       '1.6', '-1.0', '1.8', '0.9', '3.0', '2.7', '0.4', '3.3', '2.3',\n",
              "       '2.4', '2.6', '-1.2', '-0.4', '0.2', '0.1', '1.7', '4.2', '-0.3',\n",
              "       '0.7', '3.1', '-1.4', '2.1', '4.9', '5.4', '6.0', '0.8', '-1.3',\n",
              "       '2.9', '1.9', '3.8', '6.5', '-~0.0', '-0.2', '6.6', '2.5', '-2.3',\n",
              "       '3.4', '-0.5'], dtype=object)"
            ]
          },
          "metadata": {},
          "execution_count": 210
        }
      ]
    },
    {
      "cell_type": "code",
      "source": [
        "df['Population growth rate (average annual %)'] = pd.to_numeric(df['Population growth rate (average annual %)'], errors='coerce')"
      ],
      "metadata": {
        "id": "CTufRSk_LVWA"
      },
      "execution_count": 211,
      "outputs": []
    },
    {
      "cell_type": "code",
      "source": [
        "df['Population growth rate (average annual %)'].replace(np.nan,0,inplace = True)"
      ],
      "metadata": {
        "id": "iP7vqZv4Kz6y"
      },
      "execution_count": 212,
      "outputs": []
    },
    {
      "cell_type": "code",
      "source": [
        "df['Population growth rate (average annual %)'].unique()"
      ],
      "metadata": {
        "id": "fZH8eBrLK4qI",
        "colab": {
          "base_uri": "https://localhost:8080/"
        },
        "outputId": "7816951c-f674-4f41-c44e-f15345d5eb55"
      },
      "execution_count": 213,
      "outputs": [
        {
          "output_type": "execute_result",
          "data": {
            "text/plain": [
              "array([ 3.2, -0.1,  2. , -1.6,  3.5,  1.2,  1.1,  1. ,  0.3,  0.5,  1.5,\n",
              "        0.6,  1.3,  1.4,  0. ,  2.2,  2.8, -0.6,  1.6, -1. ,  1.8,  0.9,\n",
              "        3. ,  2.7,  0.4,  3.3,  2.3,  2.4,  2.6, -1.2, -0.4,  0.2,  0.1,\n",
              "        1.7,  4.2, -0.3,  0.7,  3.1, -1.4,  2.1,  4.9,  5.4,  6. ,  0.8,\n",
              "       -1.3,  2.9,  1.9,  3.8,  6.5, -0.2,  6.6,  2.5, -2.3,  3.4, -0.5])"
            ]
          },
          "metadata": {},
          "execution_count": 213
        }
      ]
    },
    {
      "cell_type": "code",
      "source": [
        "statistics.stdev(df['Population growth rate (average annual %)'])"
      ],
      "metadata": {
        "colab": {
          "base_uri": "https://localhost:8080/"
        },
        "id": "nMIJ4_f-HiMn",
        "outputId": "d4950ee3-efea-452e-d548-28a838ff3c27"
      },
      "execution_count": 214,
      "outputs": [
        {
          "output_type": "execute_result",
          "data": {
            "text/plain": [
              "1.3615451798779044"
            ]
          },
          "metadata": {},
          "execution_count": 214
        }
      ]
    },
    {
      "cell_type": "code",
      "source": [
        "fig = px.choropleth(\n",
        "    df,\n",
        "    locations=\"country\",\n",
        "    locationmode=\"country names\",\n",
        "    color=\"Population growth rate (average annual %)\",\n",
        "    color_continuous_scale=\"viridis\",\n",
        "    title=\"Population Growth Rate (Average Annual %)\"\n",
        ")\n",
        "fig.show()"
      ],
      "metadata": {
        "colab": {
          "base_uri": "https://localhost:8080/",
          "height": 542
        },
        "id": "_zapUypdHkgs",
        "outputId": "dc802ea0-ebb7-483a-fb17-1ab707e2dc06"
      },
      "execution_count": 217,
      "outputs": [
        {
          "output_type": "display_data",
          "data": {
            "text/html": [
              "<html>\n",
              "<head><meta charset=\"utf-8\" /></head>\n",
              "<body>\n",
              "    <div>            <script src=\"https://cdnjs.cloudflare.com/ajax/libs/mathjax/2.7.5/MathJax.js?config=TeX-AMS-MML_SVG\"></script><script type=\"text/javascript\">if (window.MathJax && window.MathJax.Hub && window.MathJax.Hub.Config) {window.MathJax.Hub.Config({SVG: {font: \"STIX-Web\"}});}</script>                <script type=\"text/javascript\">window.PlotlyConfig = {MathJaxConfig: 'local'};</script>\n",
              "        <script charset=\"utf-8\" src=\"https://cdn.plot.ly/plotly-2.35.2.min.js\"></script>                <div id=\"129fdb29-f1c3-4f22-bce0-c491ca8d95dc\" class=\"plotly-graph-div\" style=\"height:525px; width:100%;\"></div>            <script type=\"text/javascript\">                                    window.PLOTLYENV=window.PLOTLYENV || {};                                    if (document.getElementById(\"129fdb29-f1c3-4f22-bce0-c491ca8d95dc\")) {                    Plotly.newPlot(                        \"129fdb29-f1c3-4f22-bce0-c491ca8d95dc\",                        [{\"coloraxis\":\"coloraxis\",\"geo\":\"geo\",\"hovertemplate\":\"country=%{location}\\u003cbr\\u003ePopulation growth rate (average annual %)=%{z}\\u003cextra\\u003e\\u003c\\u002fextra\\u003e\",\"locationmode\":\"country names\",\"locations\":[\"Afghanistan\",\"Albania\",\"Algeria\",\"Andorra\",\"Angola\",\"Anguilla\",\"Antigua and Barbuda\",\"Argentina\",\"Armenia\",\"Aruba\",\"Australia\",\"Austria\",\"Azerbaijan\",\"Bahamas\",\"Bahrain\",\"Bangladesh\",\"Barbados\",\"Belarus\",\"Belgium\",\"Belize\",\"Benin\",\"Bermuda\",\"Bhutan\",\"Bolivia (Plurinational State of)\",\"Bosnia and Herzegovina\",\"Botswana\",\"Brazil\",\"British Virgin Islands\",\"Brunei Darussalam\",\"Bulgaria\",\"Burkina Faso\",\"Burundi\",\"Cabo Verde\",\"Cambodia\",\"Cameroon\",\"Canada\",\"Cayman Islands\",\"Central African Republic\",\"Chad\",\"Chile\",\"China, Hong Kong SAR\",\"China, Macao SAR\",\"China\",\"Colombia\",\"Comoros\",\"Congo\",\"Cook Islands\",\"Costa Rica\",\"Croatia\",\"Cuba\",\"Cyprus\",\"Czechia\",\"Democratic People's Republic of Korea\",\"Democratic Republic of the Congo\",\"Denmark\",\"Djibouti\",\"Dominica\",\"Dominican Republic\",\"Ecuador\",\"Egypt\",\"El Salvador\",\"Equatorial Guinea\",\"Eritrea\",\"Estonia\",\"Ethiopia\",\"Fiji\",\"Finland\",\"France\",\"French Polynesia\",\"Gabon\",\"Gambia\",\"Georgia\",\"Germany\",\"Ghana\",\"Greece\",\"Greenland\",\"Grenada\",\"Guatemala\",\"Guinea-Bissau\",\"Guinea\",\"Guyana\",\"Haiti\",\"Honduras\",\"Hungary\",\"Iceland\",\"India\",\"Indonesia\",\"Iran (Islamic Republic of)\",\"Iraq\",\"Ireland\",\"Israel\",\"Italy\",\"Jamaica\",\"Japan\",\"Jordan\",\"Kazakhstan\",\"Kenya\",\"Kiribati\",\"Kuwait\",\"Kyrgyzstan\",\"Lao People's Democratic Republic\",\"Latvia\",\"Lebanon\",\"Lesotho\",\"Liberia\",\"Libya\",\"Liechtenstein\",\"Lithuania\",\"Luxembourg\",\"Madagascar\",\"Malawi\",\"Malaysia\",\"Maldives\",\"Mali\",\"Malta\",\"Marshall Islands\",\"Mauritania\",\"Mauritius\",\"Mexico\",\"Micronesia (Federated States of)\",\"Monaco\",\"Mongolia\",\"Montenegro\",\"Montserrat\",\"Morocco\",\"Mozambique\",\"Myanmar\",\"Namibia\",\"Nauru\",\"Nepal\",\"Netherlands\",\"New Caledonia\",\"New Zealand\",\"Nicaragua\",\"Niger\",\"Nigeria\",\"Norway\",\"Oman\",\"Pakistan\",\"Palau\",\"Panama\",\"Papua New Guinea\",\"Paraguay\",\"Peru\",\"Philippines\",\"Poland\",\"Portugal\",\"Puerto Rico\",\"Qatar\",\"Republic of Korea\",\"Republic of Moldova\",\"Romania\",\"Russian Federation\",\"Rwanda\",\"Saint Kitts and Nevis\",\"Saint Lucia\",\"Saint Vincent and the Grenadines\",\"Samoa\",\"San Marino\",\"Sao Tome and Principe\",\"Saudi Arabia\",\"Senegal\",\"Serbia\",\"Seychelles\",\"Sierra Leone\",\"Singapore\",\"Sint Maarten (Dutch part)\",\"Slovakia\",\"Slovenia\",\"Solomon Islands\",\"Somalia\",\"South Africa\",\"South Sudan\",\"Spain\",\"Sri Lanka\",\"State of Palestine\",\"Sudan\",\"Suriname\",\"Swaziland\",\"Sweden\",\"Switzerland\",\"Syrian Arab Republic\",\"Tajikistan\",\"Thailand\",\"The former Yugoslav Republic of Macedonia\",\"Timor-Leste\",\"Togo\",\"Tonga\",\"Trinidad and Tobago\",\"Tunisia\",\"Turkey\",\"Turkmenistan\",\"Turks and Caicos Islands\",\"Tuvalu\",\"Uganda\",\"Ukraine\",\"United Arab Emirates\",\"United Kingdom\",\"United Republic of Tanzania\",\"United States of America\",\"Uruguay\",\"Uzbekistan\",\"Vanuatu\",\"Venezuela (Bolivarian Republic of)\",\"Viet Nam\",\"Yemen\",\"Zambia\",\"Zimbabwe\"],\"name\":\"\",\"z\":[3.2,-0.1,2.0,-1.6,3.5,1.2,1.1,1.0,0.3,0.5,1.5,0.6,1.3,1.4,2.0,1.2,0.3,0.0,0.6,2.2,2.8,-0.6,1.6,1.6,-1.0,1.8,0.9,2.0,1.4,-0.6,3.0,3.0,1.2,1.6,2.7,1.0,1.5,0.4,3.3,0.9,0.6,2.3,0.5,1.0,2.4,2.6,-1.2,1.1,-0.4,0.2,0.9,0.1,0.5,3.3,0.5,1.7,0.5,1.2,1.6,2.2,0.5,4.2,2.0,-0.3,2.6,0.7,0.4,0.4,0.7,3.3,3.1,-1.4,0.2,2.4,-0.4,-0.1,0.4,2.1,2.6,2.3,0.6,1.4,1.8,-0.3,0.6,1.2,1.2,1.2,3.2,0.3,1.6,-0.1,0.4,-0.1,4.9,1.6,2.7,1.8,5.4,1.6,1.3,-1.2,6.0,1.3,2.6,0.2,0.8,-1.3,2.2,2.7,2.9,1.8,2.8,2.9,0.5,0.2,2.9,0.2,1.4,0.2,0.6,1.9,0.1,0.7,1.4,2.9,0.9,2.2,2.3,1.2,0.3,1.4,1.1,1.2,3.8,2.7,1.2,6.5,2.1,0.8,1.7,2.2,1.3,1.3,1.6,0.0,-0.4,-0.2,6.6,0.4,-0.1,-0.6,0.1,2.5,1.1,0.5,0.0,0.8,1.2,2.2,2.8,3.0,-0.4,0.5,2.3,1.7,3.1,0.1,0.3,2.1,2.9,1.4,3.3,-0.2,0.5,2.7,2.3,1.0,1.8,0.8,1.2,-2.3,2.2,0.4,0.1,2.2,2.6,0.4,0.5,1.2,1.6,1.8,2.0,0.9,3.4,-0.5,2.0,0.6,3.1,0.7,0.3,1.6,2.3,1.4,1.1,2.6,3.0,2.3],\"type\":\"choropleth\"}],                        {\"template\":{\"data\":{\"histogram2dcontour\":[{\"type\":\"histogram2dcontour\",\"colorbar\":{\"outlinewidth\":0,\"ticks\":\"\"},\"colorscale\":[[0.0,\"#0d0887\"],[0.1111111111111111,\"#46039f\"],[0.2222222222222222,\"#7201a8\"],[0.3333333333333333,\"#9c179e\"],[0.4444444444444444,\"#bd3786\"],[0.5555555555555556,\"#d8576b\"],[0.6666666666666666,\"#ed7953\"],[0.7777777777777778,\"#fb9f3a\"],[0.8888888888888888,\"#fdca26\"],[1.0,\"#f0f921\"]]}],\"choropleth\":[{\"type\":\"choropleth\",\"colorbar\":{\"outlinewidth\":0,\"ticks\":\"\"}}],\"histogram2d\":[{\"type\":\"histogram2d\",\"colorbar\":{\"outlinewidth\":0,\"ticks\":\"\"},\"colorscale\":[[0.0,\"#0d0887\"],[0.1111111111111111,\"#46039f\"],[0.2222222222222222,\"#7201a8\"],[0.3333333333333333,\"#9c179e\"],[0.4444444444444444,\"#bd3786\"],[0.5555555555555556,\"#d8576b\"],[0.6666666666666666,\"#ed7953\"],[0.7777777777777778,\"#fb9f3a\"],[0.8888888888888888,\"#fdca26\"],[1.0,\"#f0f921\"]]}],\"heatmap\":[{\"type\":\"heatmap\",\"colorbar\":{\"outlinewidth\":0,\"ticks\":\"\"},\"colorscale\":[[0.0,\"#0d0887\"],[0.1111111111111111,\"#46039f\"],[0.2222222222222222,\"#7201a8\"],[0.3333333333333333,\"#9c179e\"],[0.4444444444444444,\"#bd3786\"],[0.5555555555555556,\"#d8576b\"],[0.6666666666666666,\"#ed7953\"],[0.7777777777777778,\"#fb9f3a\"],[0.8888888888888888,\"#fdca26\"],[1.0,\"#f0f921\"]]}],\"heatmapgl\":[{\"type\":\"heatmapgl\",\"colorbar\":{\"outlinewidth\":0,\"ticks\":\"\"},\"colorscale\":[[0.0,\"#0d0887\"],[0.1111111111111111,\"#46039f\"],[0.2222222222222222,\"#7201a8\"],[0.3333333333333333,\"#9c179e\"],[0.4444444444444444,\"#bd3786\"],[0.5555555555555556,\"#d8576b\"],[0.6666666666666666,\"#ed7953\"],[0.7777777777777778,\"#fb9f3a\"],[0.8888888888888888,\"#fdca26\"],[1.0,\"#f0f921\"]]}],\"contourcarpet\":[{\"type\":\"contourcarpet\",\"colorbar\":{\"outlinewidth\":0,\"ticks\":\"\"}}],\"contour\":[{\"type\":\"contour\",\"colorbar\":{\"outlinewidth\":0,\"ticks\":\"\"},\"colorscale\":[[0.0,\"#0d0887\"],[0.1111111111111111,\"#46039f\"],[0.2222222222222222,\"#7201a8\"],[0.3333333333333333,\"#9c179e\"],[0.4444444444444444,\"#bd3786\"],[0.5555555555555556,\"#d8576b\"],[0.6666666666666666,\"#ed7953\"],[0.7777777777777778,\"#fb9f3a\"],[0.8888888888888888,\"#fdca26\"],[1.0,\"#f0f921\"]]}],\"surface\":[{\"type\":\"surface\",\"colorbar\":{\"outlinewidth\":0,\"ticks\":\"\"},\"colorscale\":[[0.0,\"#0d0887\"],[0.1111111111111111,\"#46039f\"],[0.2222222222222222,\"#7201a8\"],[0.3333333333333333,\"#9c179e\"],[0.4444444444444444,\"#bd3786\"],[0.5555555555555556,\"#d8576b\"],[0.6666666666666666,\"#ed7953\"],[0.7777777777777778,\"#fb9f3a\"],[0.8888888888888888,\"#fdca26\"],[1.0,\"#f0f921\"]]}],\"mesh3d\":[{\"type\":\"mesh3d\",\"colorbar\":{\"outlinewidth\":0,\"ticks\":\"\"}}],\"scatter\":[{\"fillpattern\":{\"fillmode\":\"overlay\",\"size\":10,\"solidity\":0.2},\"type\":\"scatter\"}],\"parcoords\":[{\"type\":\"parcoords\",\"line\":{\"colorbar\":{\"outlinewidth\":0,\"ticks\":\"\"}}}],\"scatterpolargl\":[{\"type\":\"scatterpolargl\",\"marker\":{\"colorbar\":{\"outlinewidth\":0,\"ticks\":\"\"}}}],\"bar\":[{\"error_x\":{\"color\":\"#2a3f5f\"},\"error_y\":{\"color\":\"#2a3f5f\"},\"marker\":{\"line\":{\"color\":\"#E5ECF6\",\"width\":0.5},\"pattern\":{\"fillmode\":\"overlay\",\"size\":10,\"solidity\":0.2}},\"type\":\"bar\"}],\"scattergeo\":[{\"type\":\"scattergeo\",\"marker\":{\"colorbar\":{\"outlinewidth\":0,\"ticks\":\"\"}}}],\"scatterpolar\":[{\"type\":\"scatterpolar\",\"marker\":{\"colorbar\":{\"outlinewidth\":0,\"ticks\":\"\"}}}],\"histogram\":[{\"marker\":{\"pattern\":{\"fillmode\":\"overlay\",\"size\":10,\"solidity\":0.2}},\"type\":\"histogram\"}],\"scattergl\":[{\"type\":\"scattergl\",\"marker\":{\"colorbar\":{\"outlinewidth\":0,\"ticks\":\"\"}}}],\"scatter3d\":[{\"type\":\"scatter3d\",\"line\":{\"colorbar\":{\"outlinewidth\":0,\"ticks\":\"\"}},\"marker\":{\"colorbar\":{\"outlinewidth\":0,\"ticks\":\"\"}}}],\"scattermapbox\":[{\"type\":\"scattermapbox\",\"marker\":{\"colorbar\":{\"outlinewidth\":0,\"ticks\":\"\"}}}],\"scatterternary\":[{\"type\":\"scatterternary\",\"marker\":{\"colorbar\":{\"outlinewidth\":0,\"ticks\":\"\"}}}],\"scattercarpet\":[{\"type\":\"scattercarpet\",\"marker\":{\"colorbar\":{\"outlinewidth\":0,\"ticks\":\"\"}}}],\"carpet\":[{\"aaxis\":{\"endlinecolor\":\"#2a3f5f\",\"gridcolor\":\"white\",\"linecolor\":\"white\",\"minorgridcolor\":\"white\",\"startlinecolor\":\"#2a3f5f\"},\"baxis\":{\"endlinecolor\":\"#2a3f5f\",\"gridcolor\":\"white\",\"linecolor\":\"white\",\"minorgridcolor\":\"white\",\"startlinecolor\":\"#2a3f5f\"},\"type\":\"carpet\"}],\"table\":[{\"cells\":{\"fill\":{\"color\":\"#EBF0F8\"},\"line\":{\"color\":\"white\"}},\"header\":{\"fill\":{\"color\":\"#C8D4E3\"},\"line\":{\"color\":\"white\"}},\"type\":\"table\"}],\"barpolar\":[{\"marker\":{\"line\":{\"color\":\"#E5ECF6\",\"width\":0.5},\"pattern\":{\"fillmode\":\"overlay\",\"size\":10,\"solidity\":0.2}},\"type\":\"barpolar\"}],\"pie\":[{\"automargin\":true,\"type\":\"pie\"}]},\"layout\":{\"autotypenumbers\":\"strict\",\"colorway\":[\"#636efa\",\"#EF553B\",\"#00cc96\",\"#ab63fa\",\"#FFA15A\",\"#19d3f3\",\"#FF6692\",\"#B6E880\",\"#FF97FF\",\"#FECB52\"],\"font\":{\"color\":\"#2a3f5f\"},\"hovermode\":\"closest\",\"hoverlabel\":{\"align\":\"left\"},\"paper_bgcolor\":\"white\",\"plot_bgcolor\":\"#E5ECF6\",\"polar\":{\"bgcolor\":\"#E5ECF6\",\"angularaxis\":{\"gridcolor\":\"white\",\"linecolor\":\"white\",\"ticks\":\"\"},\"radialaxis\":{\"gridcolor\":\"white\",\"linecolor\":\"white\",\"ticks\":\"\"}},\"ternary\":{\"bgcolor\":\"#E5ECF6\",\"aaxis\":{\"gridcolor\":\"white\",\"linecolor\":\"white\",\"ticks\":\"\"},\"baxis\":{\"gridcolor\":\"white\",\"linecolor\":\"white\",\"ticks\":\"\"},\"caxis\":{\"gridcolor\":\"white\",\"linecolor\":\"white\",\"ticks\":\"\"}},\"coloraxis\":{\"colorbar\":{\"outlinewidth\":0,\"ticks\":\"\"}},\"colorscale\":{\"sequential\":[[0.0,\"#0d0887\"],[0.1111111111111111,\"#46039f\"],[0.2222222222222222,\"#7201a8\"],[0.3333333333333333,\"#9c179e\"],[0.4444444444444444,\"#bd3786\"],[0.5555555555555556,\"#d8576b\"],[0.6666666666666666,\"#ed7953\"],[0.7777777777777778,\"#fb9f3a\"],[0.8888888888888888,\"#fdca26\"],[1.0,\"#f0f921\"]],\"sequentialminus\":[[0.0,\"#0d0887\"],[0.1111111111111111,\"#46039f\"],[0.2222222222222222,\"#7201a8\"],[0.3333333333333333,\"#9c179e\"],[0.4444444444444444,\"#bd3786\"],[0.5555555555555556,\"#d8576b\"],[0.6666666666666666,\"#ed7953\"],[0.7777777777777778,\"#fb9f3a\"],[0.8888888888888888,\"#fdca26\"],[1.0,\"#f0f921\"]],\"diverging\":[[0,\"#8e0152\"],[0.1,\"#c51b7d\"],[0.2,\"#de77ae\"],[0.3,\"#f1b6da\"],[0.4,\"#fde0ef\"],[0.5,\"#f7f7f7\"],[0.6,\"#e6f5d0\"],[0.7,\"#b8e186\"],[0.8,\"#7fbc41\"],[0.9,\"#4d9221\"],[1,\"#276419\"]]},\"xaxis\":{\"gridcolor\":\"white\",\"linecolor\":\"white\",\"ticks\":\"\",\"title\":{\"standoff\":15},\"zerolinecolor\":\"white\",\"automargin\":true,\"zerolinewidth\":2},\"yaxis\":{\"gridcolor\":\"white\",\"linecolor\":\"white\",\"ticks\":\"\",\"title\":{\"standoff\":15},\"zerolinecolor\":\"white\",\"automargin\":true,\"zerolinewidth\":2},\"scene\":{\"xaxis\":{\"backgroundcolor\":\"#E5ECF6\",\"gridcolor\":\"white\",\"linecolor\":\"white\",\"showbackground\":true,\"ticks\":\"\",\"zerolinecolor\":\"white\",\"gridwidth\":2},\"yaxis\":{\"backgroundcolor\":\"#E5ECF6\",\"gridcolor\":\"white\",\"linecolor\":\"white\",\"showbackground\":true,\"ticks\":\"\",\"zerolinecolor\":\"white\",\"gridwidth\":2},\"zaxis\":{\"backgroundcolor\":\"#E5ECF6\",\"gridcolor\":\"white\",\"linecolor\":\"white\",\"showbackground\":true,\"ticks\":\"\",\"zerolinecolor\":\"white\",\"gridwidth\":2}},\"shapedefaults\":{\"line\":{\"color\":\"#2a3f5f\"}},\"annotationdefaults\":{\"arrowcolor\":\"#2a3f5f\",\"arrowhead\":0,\"arrowwidth\":1},\"geo\":{\"bgcolor\":\"white\",\"landcolor\":\"#E5ECF6\",\"subunitcolor\":\"white\",\"showland\":true,\"showlakes\":true,\"lakecolor\":\"white\"},\"title\":{\"x\":0.05},\"mapbox\":{\"style\":\"light\"}}},\"geo\":{\"domain\":{\"x\":[0.0,1.0],\"y\":[0.0,1.0]},\"center\":{}},\"coloraxis\":{\"colorbar\":{\"title\":{\"text\":\"Population growth rate (average annual %)\"}},\"colorscale\":[[0.0,\"#440154\"],[0.1111111111111111,\"#482878\"],[0.2222222222222222,\"#3e4989\"],[0.3333333333333333,\"#31688e\"],[0.4444444444444444,\"#26828e\"],[0.5555555555555556,\"#1f9e89\"],[0.6666666666666666,\"#35b779\"],[0.7777777777777778,\"#6ece58\"],[0.8888888888888888,\"#b5de2b\"],[1.0,\"#fde725\"]]},\"legend\":{\"tracegroupgap\":0},\"title\":{\"text\":\"Population Growth Rate (Average Annual %)\"}},                        {\"responsive\": true}                    ).then(function(){\n",
              "                            \n",
              "var gd = document.getElementById('129fdb29-f1c3-4f22-bce0-c491ca8d95dc');\n",
              "var x = new MutationObserver(function (mutations, observer) {{\n",
              "        var display = window.getComputedStyle(gd).display;\n",
              "        if (!display || display === 'none') {{\n",
              "            console.log([gd, 'removed!']);\n",
              "            Plotly.purge(gd);\n",
              "            observer.disconnect();\n",
              "        }}\n",
              "}});\n",
              "\n",
              "// Listen for the removal of the full notebook cells\n",
              "var notebookContainer = gd.closest('#notebook-container');\n",
              "if (notebookContainer) {{\n",
              "    x.observe(notebookContainer, {childList: true});\n",
              "}}\n",
              "\n",
              "// Listen for the clearing of the current output cell\n",
              "var outputEl = gd.closest('.output');\n",
              "if (outputEl) {{\n",
              "    x.observe(outputEl, {childList: true});\n",
              "}}\n",
              "\n",
              "                        })                };                            </script>        </div>\n",
              "</body>\n",
              "</html>"
            ]
          },
          "metadata": {}
        }
      ]
    },
    {
      "cell_type": "markdown",
      "source": [
        "**What is the mean GDP (million current US$) of all countries?**"
      ],
      "metadata": {
        "id": "aV9EAcoS1oME"
      }
    },
    {
      "cell_type": "code",
      "source": [
        "df['GDP: Gross domestic product (million current US$)'].unique()"
      ],
      "metadata": {
        "colab": {
          "base_uri": "https://localhost:8080/"
        },
        "id": "OuTc29CD1u2h",
        "outputId": "16465b4b-aa25-406e-a7ec-af1a47efe1df"
      },
      "execution_count": 203,
      "outputs": [
        {
          "output_type": "execute_result",
          "data": {
            "text/plain": [
              "array([   20270,    11541,   164779,      -99,     2812,   117955,\n",
              "            320,     1356,   632343,    10529,     2702,  1230859,\n",
              "         376967,    53049,     8854,    31126,   194466,     4385,\n",
              "          54609,   455107,     1721,     8476,     5853,     2074,\n",
              "          32998,    16251,    14391,  1772591,      908,    12930,\n",
              "          48953,    11065,     2735,     1603,    18050,    28416,\n",
              "        1552808,     3726,     1633,    10009,   240796,   309236,\n",
              "          46178, 11158457,   292080,     1079,     8493,      294,\n",
              "          52958,    48676,    87206,    19561,   185156,    16283,\n",
              "          37569,   301308,     1737,      512,    67103,   100177,\n",
              "         315917,    25850,    13812,     4783,    22460,    59917,\n",
              "           4391,   231960,  2418946,     5135,    13735,      942,\n",
              "          13965,  3363600,    37156,   194860,     2078,      954,\n",
              "          63794,      978,     8875,     3282,     8501,    20365,\n",
              "         121715,    16780,  2116239,   861934,   398563,   164234,\n",
              "         283716,   299413,  1821580,    14262,  4383076,    37517,\n",
              "         181754,    63399,      162,   114054,     6572,    12585,\n",
              "          27004,    50149,     2008,     2053,    34457,     6361,\n",
              "          41402,    56802,     9739,     6420,   296284,     3435,\n",
              "          13100,     9747,      183,     5023,    11511,  1140724,\n",
              "            315,     6258,    11758,     4020,       59,   100359,\n",
              "          14806,    62601,    11491,      189,    20658,   750318,\n",
              "           8937,   173417,    12693,     7143,   494583,   386578,\n",
              "          69832,   266458,      258,    52132,    21315,    27714,\n",
              "         190428,   292449,   477066,   199122,   102906,   164641,\n",
              "        1377873,     6475,   177956,  1326016,     8096,      876,\n",
              "           1450,      738,      774,     1565,      334,   653219,\n",
              "          13633,    37160,     1363,     4483,   292734,     1094,\n",
              "          87268,    42777,     1075,     1559,   314571,    13167,\n",
              "        1192955,    82316,    12677,    79546,     4879,     4133,\n",
              "         495694,   670790,    28393,     7853,   395168,    10052,\n",
              "           2873,     4086,      402,    25927,    41199,   717888,\n",
              "          37597,      863,       33,    25282,    90615,   370296,\n",
              "        2858003,    45628, 18036648,    53442,    69004,      737,\n",
              "         344331,   193241,    29688,    21255,    13893])"
            ]
          },
          "metadata": {},
          "execution_count": 203
        }
      ]
    },
    {
      "cell_type": "code",
      "source": [
        "df['GDP: Gross domestic product (million current US$)'].replace(-99,np.nan,inplace = True) #-99 is a false value\n",
        "df.dropna(subset = ['GDP: Gross domestic product (million current US$)'],inplace = True)"
      ],
      "metadata": {
        "id": "tQdvHqFl13H3"
      },
      "execution_count": 204,
      "outputs": []
    },
    {
      "cell_type": "code",
      "source": [
        "statistics.mean(df['GDP: Gross domestic product (million current US$)'])"
      ],
      "metadata": {
        "colab": {
          "base_uri": "https://localhost:8080/"
        },
        "id": "G3WoX1neKuk5",
        "outputId": "82bc99fe-7b58-43ed-82b5-1eaac8bfdecc"
      },
      "execution_count": 205,
      "outputs": [
        {
          "output_type": "execute_result",
          "data": {
            "text/plain": [
              "353896.3413461539"
            ]
          },
          "metadata": {},
          "execution_count": 205
        }
      ]
    },
    {
      "cell_type": "code",
      "source": [
        "fig = px.choropleth(\n",
        "    data_frame=df,\n",
        "    locations=\"country\",\n",
        "    locationmode=\"country names\",\n",
        "    color=\"GDP: Gross domestic product (million current US$)\",\n",
        "    title=\"GDP of Countries\",\n",
        "    color_continuous_scale=\"turbo\"\n",
        ")\n",
        "fig.show()"
      ],
      "metadata": {
        "colab": {
          "base_uri": "https://localhost:8080/",
          "height": 542
        },
        "id": "EwlNSU7uG4Ye",
        "outputId": "aec09abe-1c6e-4e03-8ca2-c70fbcd30599"
      },
      "execution_count": 207,
      "outputs": [
        {
          "output_type": "display_data",
          "data": {
            "text/html": [
              "<html>\n",
              "<head><meta charset=\"utf-8\" /></head>\n",
              "<body>\n",
              "    <div>            <script src=\"https://cdnjs.cloudflare.com/ajax/libs/mathjax/2.7.5/MathJax.js?config=TeX-AMS-MML_SVG\"></script><script type=\"text/javascript\">if (window.MathJax && window.MathJax.Hub && window.MathJax.Hub.Config) {window.MathJax.Hub.Config({SVG: {font: \"STIX-Web\"}});}</script>                <script type=\"text/javascript\">window.PlotlyConfig = {MathJaxConfig: 'local'};</script>\n",
              "        <script charset=\"utf-8\" src=\"https://cdn.plot.ly/plotly-2.35.2.min.js\"></script>                <div id=\"acca2af2-cb43-4b03-887e-e31cf1cd58c5\" class=\"plotly-graph-div\" style=\"height:525px; width:100%;\"></div>            <script type=\"text/javascript\">                                    window.PLOTLYENV=window.PLOTLYENV || {};                                    if (document.getElementById(\"acca2af2-cb43-4b03-887e-e31cf1cd58c5\")) {                    Plotly.newPlot(                        \"acca2af2-cb43-4b03-887e-e31cf1cd58c5\",                        [{\"coloraxis\":\"coloraxis\",\"geo\":\"geo\",\"hovertemplate\":\"country=%{location}\\u003cbr\\u003eGDP: Gross domestic product (million current US$)=%{z}\\u003cextra\\u003e\\u003c\\u002fextra\\u003e\",\"locationmode\":\"country names\",\"locations\":[\"Afghanistan\",\"Albania\",\"Algeria\",\"Andorra\",\"Angola\",\"Anguilla\",\"Antigua and Barbuda\",\"Argentina\",\"Armenia\",\"Aruba\",\"Australia\",\"Austria\",\"Azerbaijan\",\"Bahamas\",\"Bahrain\",\"Bangladesh\",\"Barbados\",\"Belarus\",\"Belgium\",\"Belize\",\"Benin\",\"Bermuda\",\"Bhutan\",\"Bolivia (Plurinational State of)\",\"Bosnia and Herzegovina\",\"Botswana\",\"Brazil\",\"British Virgin Islands\",\"Brunei Darussalam\",\"Bulgaria\",\"Burkina Faso\",\"Burundi\",\"Cabo Verde\",\"Cambodia\",\"Cameroon\",\"Canada\",\"Cayman Islands\",\"Central African Republic\",\"Chad\",\"Chile\",\"China, Hong Kong SAR\",\"China, Macao SAR\",\"China\",\"Colombia\",\"Comoros\",\"Congo\",\"Cook Islands\",\"Costa Rica\",\"Croatia\",\"Cuba\",\"Cyprus\",\"Czechia\",\"Democratic People's Republic of Korea\",\"Democratic Republic of the Congo\",\"Denmark\",\"Djibouti\",\"Dominica\",\"Dominican Republic\",\"Ecuador\",\"Egypt\",\"El Salvador\",\"Equatorial Guinea\",\"Eritrea\",\"Estonia\",\"Ethiopia\",\"Fiji\",\"Finland\",\"France\",\"French Polynesia\",\"Gabon\",\"Gambia\",\"Georgia\",\"Germany\",\"Ghana\",\"Greece\",\"Greenland\",\"Grenada\",\"Guatemala\",\"Guinea-Bissau\",\"Guinea\",\"Guyana\",\"Haiti\",\"Honduras\",\"Hungary\",\"Iceland\",\"India\",\"Indonesia\",\"Iran (Islamic Republic of)\",\"Iraq\",\"Ireland\",\"Israel\",\"Italy\",\"Jamaica\",\"Japan\",\"Jordan\",\"Kazakhstan\",\"Kenya\",\"Kiribati\",\"Kuwait\",\"Kyrgyzstan\",\"Lao People's Democratic Republic\",\"Latvia\",\"Lebanon\",\"Lesotho\",\"Liberia\",\"Libya\",\"Liechtenstein\",\"Lithuania\",\"Luxembourg\",\"Madagascar\",\"Malawi\",\"Malaysia\",\"Maldives\",\"Mali\",\"Malta\",\"Marshall Islands\",\"Mauritania\",\"Mauritius\",\"Mexico\",\"Micronesia (Federated States of)\",\"Monaco\",\"Mongolia\",\"Montenegro\",\"Montserrat\",\"Morocco\",\"Mozambique\",\"Myanmar\",\"Namibia\",\"Nauru\",\"Nepal\",\"Netherlands\",\"New Caledonia\",\"New Zealand\",\"Nicaragua\",\"Niger\",\"Nigeria\",\"Norway\",\"Oman\",\"Pakistan\",\"Palau\",\"Panama\",\"Papua New Guinea\",\"Paraguay\",\"Peru\",\"Philippines\",\"Poland\",\"Portugal\",\"Puerto Rico\",\"Qatar\",\"Republic of Korea\",\"Republic of Moldova\",\"Romania\",\"Russian Federation\",\"Rwanda\",\"Saint Kitts and Nevis\",\"Saint Lucia\",\"Saint Vincent and the Grenadines\",\"Samoa\",\"San Marino\",\"Sao Tome and Principe\",\"Saudi Arabia\",\"Senegal\",\"Serbia\",\"Seychelles\",\"Sierra Leone\",\"Singapore\",\"Sint Maarten (Dutch part)\",\"Slovakia\",\"Slovenia\",\"Solomon Islands\",\"Somalia\",\"South Africa\",\"South Sudan\",\"Spain\",\"Sri Lanka\",\"State of Palestine\",\"Sudan\",\"Suriname\",\"Swaziland\",\"Sweden\",\"Switzerland\",\"Syrian Arab Republic\",\"Tajikistan\",\"Thailand\",\"The former Yugoslav Republic of Macedonia\",\"Timor-Leste\",\"Togo\",\"Tonga\",\"Trinidad and Tobago\",\"Tunisia\",\"Turkey\",\"Turkmenistan\",\"Turks and Caicos Islands\",\"Tuvalu\",\"Uganda\",\"Ukraine\",\"United Arab Emirates\",\"United Kingdom\",\"United Republic of Tanzania\",\"United States of America\",\"Uruguay\",\"Uzbekistan\",\"Vanuatu\",\"Venezuela (Bolivarian Republic of)\",\"Viet Nam\",\"Yemen\",\"Zambia\",\"Zimbabwe\"],\"name\":\"\",\"z\":[20270.0,11541.0,164779.0,2812.0,117955.0,320.0,1356.0,632343.0,10529.0,2702.0,1230859.0,376967.0,53049.0,8854.0,31126.0,194466.0,4385.0,54609.0,455107.0,1721.0,8476.0,5853.0,2074.0,32998.0,16251.0,14391.0,1772591.0,908.0,12930.0,48953.0,11065.0,2735.0,1603.0,18050.0,28416.0,1552808.0,3726.0,1633.0,10009.0,240796.0,309236.0,46178.0,11158457.0,292080.0,1079.0,8493.0,294.0,52958.0,48676.0,87206.0,19561.0,185156.0,16283.0,37569.0,301308.0,1737.0,512.0,67103.0,100177.0,315917.0,25850.0,13812.0,4783.0,22460.0,59917.0,4391.0,231960.0,2418946.0,5135.0,13735.0,942.0,13965.0,3363600.0,37156.0,194860.0,2078.0,954.0,63794.0,978.0,8875.0,3282.0,8501.0,20365.0,121715.0,16780.0,2116239.0,861934.0,398563.0,164234.0,283716.0,299413.0,1821580.0,14262.0,4383076.0,37517.0,181754.0,63399.0,162.0,114054.0,6572.0,12585.0,27004.0,50149.0,2008.0,2053.0,34457.0,6361.0,41402.0,56802.0,9739.0,6420.0,296284.0,3435.0,13100.0,9747.0,183.0,5023.0,11511.0,1140724.0,315.0,6258.0,11758.0,4020.0,59.0,100359.0,14806.0,62601.0,11491.0,189.0,20658.0,750318.0,8937.0,173417.0,12693.0,7143.0,494583.0,386578.0,69832.0,266458.0,258.0,52132.0,21315.0,27714.0,190428.0,292449.0,477066.0,199122.0,102906.0,164641.0,1377873.0,6475.0,177956.0,1326016.0,8096.0,876.0,1450.0,738.0,774.0,1565.0,334.0,653219.0,13633.0,37160.0,1363.0,4483.0,292734.0,1094.0,87268.0,42777.0,1075.0,1559.0,314571.0,13167.0,1192955.0,82316.0,12677.0,79546.0,4879.0,4133.0,495694.0,670790.0,28393.0,7853.0,395168.0,10052.0,2873.0,4086.0,402.0,25927.0,41199.0,717888.0,37597.0,863.0,33.0,25282.0,90615.0,370296.0,2858003.0,45628.0,18036648.0,53442.0,69004.0,737.0,344331.0,193241.0,29688.0,21255.0,13893.0],\"type\":\"choropleth\"}],                        {\"template\":{\"data\":{\"histogram2dcontour\":[{\"type\":\"histogram2dcontour\",\"colorbar\":{\"outlinewidth\":0,\"ticks\":\"\"},\"colorscale\":[[0.0,\"#0d0887\"],[0.1111111111111111,\"#46039f\"],[0.2222222222222222,\"#7201a8\"],[0.3333333333333333,\"#9c179e\"],[0.4444444444444444,\"#bd3786\"],[0.5555555555555556,\"#d8576b\"],[0.6666666666666666,\"#ed7953\"],[0.7777777777777778,\"#fb9f3a\"],[0.8888888888888888,\"#fdca26\"],[1.0,\"#f0f921\"]]}],\"choropleth\":[{\"type\":\"choropleth\",\"colorbar\":{\"outlinewidth\":0,\"ticks\":\"\"}}],\"histogram2d\":[{\"type\":\"histogram2d\",\"colorbar\":{\"outlinewidth\":0,\"ticks\":\"\"},\"colorscale\":[[0.0,\"#0d0887\"],[0.1111111111111111,\"#46039f\"],[0.2222222222222222,\"#7201a8\"],[0.3333333333333333,\"#9c179e\"],[0.4444444444444444,\"#bd3786\"],[0.5555555555555556,\"#d8576b\"],[0.6666666666666666,\"#ed7953\"],[0.7777777777777778,\"#fb9f3a\"],[0.8888888888888888,\"#fdca26\"],[1.0,\"#f0f921\"]]}],\"heatmap\":[{\"type\":\"heatmap\",\"colorbar\":{\"outlinewidth\":0,\"ticks\":\"\"},\"colorscale\":[[0.0,\"#0d0887\"],[0.1111111111111111,\"#46039f\"],[0.2222222222222222,\"#7201a8\"],[0.3333333333333333,\"#9c179e\"],[0.4444444444444444,\"#bd3786\"],[0.5555555555555556,\"#d8576b\"],[0.6666666666666666,\"#ed7953\"],[0.7777777777777778,\"#fb9f3a\"],[0.8888888888888888,\"#fdca26\"],[1.0,\"#f0f921\"]]}],\"heatmapgl\":[{\"type\":\"heatmapgl\",\"colorbar\":{\"outlinewidth\":0,\"ticks\":\"\"},\"colorscale\":[[0.0,\"#0d0887\"],[0.1111111111111111,\"#46039f\"],[0.2222222222222222,\"#7201a8\"],[0.3333333333333333,\"#9c179e\"],[0.4444444444444444,\"#bd3786\"],[0.5555555555555556,\"#d8576b\"],[0.6666666666666666,\"#ed7953\"],[0.7777777777777778,\"#fb9f3a\"],[0.8888888888888888,\"#fdca26\"],[1.0,\"#f0f921\"]]}],\"contourcarpet\":[{\"type\":\"contourcarpet\",\"colorbar\":{\"outlinewidth\":0,\"ticks\":\"\"}}],\"contour\":[{\"type\":\"contour\",\"colorbar\":{\"outlinewidth\":0,\"ticks\":\"\"},\"colorscale\":[[0.0,\"#0d0887\"],[0.1111111111111111,\"#46039f\"],[0.2222222222222222,\"#7201a8\"],[0.3333333333333333,\"#9c179e\"],[0.4444444444444444,\"#bd3786\"],[0.5555555555555556,\"#d8576b\"],[0.6666666666666666,\"#ed7953\"],[0.7777777777777778,\"#fb9f3a\"],[0.8888888888888888,\"#fdca26\"],[1.0,\"#f0f921\"]]}],\"surface\":[{\"type\":\"surface\",\"colorbar\":{\"outlinewidth\":0,\"ticks\":\"\"},\"colorscale\":[[0.0,\"#0d0887\"],[0.1111111111111111,\"#46039f\"],[0.2222222222222222,\"#7201a8\"],[0.3333333333333333,\"#9c179e\"],[0.4444444444444444,\"#bd3786\"],[0.5555555555555556,\"#d8576b\"],[0.6666666666666666,\"#ed7953\"],[0.7777777777777778,\"#fb9f3a\"],[0.8888888888888888,\"#fdca26\"],[1.0,\"#f0f921\"]]}],\"mesh3d\":[{\"type\":\"mesh3d\",\"colorbar\":{\"outlinewidth\":0,\"ticks\":\"\"}}],\"scatter\":[{\"fillpattern\":{\"fillmode\":\"overlay\",\"size\":10,\"solidity\":0.2},\"type\":\"scatter\"}],\"parcoords\":[{\"type\":\"parcoords\",\"line\":{\"colorbar\":{\"outlinewidth\":0,\"ticks\":\"\"}}}],\"scatterpolargl\":[{\"type\":\"scatterpolargl\",\"marker\":{\"colorbar\":{\"outlinewidth\":0,\"ticks\":\"\"}}}],\"bar\":[{\"error_x\":{\"color\":\"#2a3f5f\"},\"error_y\":{\"color\":\"#2a3f5f\"},\"marker\":{\"line\":{\"color\":\"#E5ECF6\",\"width\":0.5},\"pattern\":{\"fillmode\":\"overlay\",\"size\":10,\"solidity\":0.2}},\"type\":\"bar\"}],\"scattergeo\":[{\"type\":\"scattergeo\",\"marker\":{\"colorbar\":{\"outlinewidth\":0,\"ticks\":\"\"}}}],\"scatterpolar\":[{\"type\":\"scatterpolar\",\"marker\":{\"colorbar\":{\"outlinewidth\":0,\"ticks\":\"\"}}}],\"histogram\":[{\"marker\":{\"pattern\":{\"fillmode\":\"overlay\",\"size\":10,\"solidity\":0.2}},\"type\":\"histogram\"}],\"scattergl\":[{\"type\":\"scattergl\",\"marker\":{\"colorbar\":{\"outlinewidth\":0,\"ticks\":\"\"}}}],\"scatter3d\":[{\"type\":\"scatter3d\",\"line\":{\"colorbar\":{\"outlinewidth\":0,\"ticks\":\"\"}},\"marker\":{\"colorbar\":{\"outlinewidth\":0,\"ticks\":\"\"}}}],\"scattermapbox\":[{\"type\":\"scattermapbox\",\"marker\":{\"colorbar\":{\"outlinewidth\":0,\"ticks\":\"\"}}}],\"scatterternary\":[{\"type\":\"scatterternary\",\"marker\":{\"colorbar\":{\"outlinewidth\":0,\"ticks\":\"\"}}}],\"scattercarpet\":[{\"type\":\"scattercarpet\",\"marker\":{\"colorbar\":{\"outlinewidth\":0,\"ticks\":\"\"}}}],\"carpet\":[{\"aaxis\":{\"endlinecolor\":\"#2a3f5f\",\"gridcolor\":\"white\",\"linecolor\":\"white\",\"minorgridcolor\":\"white\",\"startlinecolor\":\"#2a3f5f\"},\"baxis\":{\"endlinecolor\":\"#2a3f5f\",\"gridcolor\":\"white\",\"linecolor\":\"white\",\"minorgridcolor\":\"white\",\"startlinecolor\":\"#2a3f5f\"},\"type\":\"carpet\"}],\"table\":[{\"cells\":{\"fill\":{\"color\":\"#EBF0F8\"},\"line\":{\"color\":\"white\"}},\"header\":{\"fill\":{\"color\":\"#C8D4E3\"},\"line\":{\"color\":\"white\"}},\"type\":\"table\"}],\"barpolar\":[{\"marker\":{\"line\":{\"color\":\"#E5ECF6\",\"width\":0.5},\"pattern\":{\"fillmode\":\"overlay\",\"size\":10,\"solidity\":0.2}},\"type\":\"barpolar\"}],\"pie\":[{\"automargin\":true,\"type\":\"pie\"}]},\"layout\":{\"autotypenumbers\":\"strict\",\"colorway\":[\"#636efa\",\"#EF553B\",\"#00cc96\",\"#ab63fa\",\"#FFA15A\",\"#19d3f3\",\"#FF6692\",\"#B6E880\",\"#FF97FF\",\"#FECB52\"],\"font\":{\"color\":\"#2a3f5f\"},\"hovermode\":\"closest\",\"hoverlabel\":{\"align\":\"left\"},\"paper_bgcolor\":\"white\",\"plot_bgcolor\":\"#E5ECF6\",\"polar\":{\"bgcolor\":\"#E5ECF6\",\"angularaxis\":{\"gridcolor\":\"white\",\"linecolor\":\"white\",\"ticks\":\"\"},\"radialaxis\":{\"gridcolor\":\"white\",\"linecolor\":\"white\",\"ticks\":\"\"}},\"ternary\":{\"bgcolor\":\"#E5ECF6\",\"aaxis\":{\"gridcolor\":\"white\",\"linecolor\":\"white\",\"ticks\":\"\"},\"baxis\":{\"gridcolor\":\"white\",\"linecolor\":\"white\",\"ticks\":\"\"},\"caxis\":{\"gridcolor\":\"white\",\"linecolor\":\"white\",\"ticks\":\"\"}},\"coloraxis\":{\"colorbar\":{\"outlinewidth\":0,\"ticks\":\"\"}},\"colorscale\":{\"sequential\":[[0.0,\"#0d0887\"],[0.1111111111111111,\"#46039f\"],[0.2222222222222222,\"#7201a8\"],[0.3333333333333333,\"#9c179e\"],[0.4444444444444444,\"#bd3786\"],[0.5555555555555556,\"#d8576b\"],[0.6666666666666666,\"#ed7953\"],[0.7777777777777778,\"#fb9f3a\"],[0.8888888888888888,\"#fdca26\"],[1.0,\"#f0f921\"]],\"sequentialminus\":[[0.0,\"#0d0887\"],[0.1111111111111111,\"#46039f\"],[0.2222222222222222,\"#7201a8\"],[0.3333333333333333,\"#9c179e\"],[0.4444444444444444,\"#bd3786\"],[0.5555555555555556,\"#d8576b\"],[0.6666666666666666,\"#ed7953\"],[0.7777777777777778,\"#fb9f3a\"],[0.8888888888888888,\"#fdca26\"],[1.0,\"#f0f921\"]],\"diverging\":[[0,\"#8e0152\"],[0.1,\"#c51b7d\"],[0.2,\"#de77ae\"],[0.3,\"#f1b6da\"],[0.4,\"#fde0ef\"],[0.5,\"#f7f7f7\"],[0.6,\"#e6f5d0\"],[0.7,\"#b8e186\"],[0.8,\"#7fbc41\"],[0.9,\"#4d9221\"],[1,\"#276419\"]]},\"xaxis\":{\"gridcolor\":\"white\",\"linecolor\":\"white\",\"ticks\":\"\",\"title\":{\"standoff\":15},\"zerolinecolor\":\"white\",\"automargin\":true,\"zerolinewidth\":2},\"yaxis\":{\"gridcolor\":\"white\",\"linecolor\":\"white\",\"ticks\":\"\",\"title\":{\"standoff\":15},\"zerolinecolor\":\"white\",\"automargin\":true,\"zerolinewidth\":2},\"scene\":{\"xaxis\":{\"backgroundcolor\":\"#E5ECF6\",\"gridcolor\":\"white\",\"linecolor\":\"white\",\"showbackground\":true,\"ticks\":\"\",\"zerolinecolor\":\"white\",\"gridwidth\":2},\"yaxis\":{\"backgroundcolor\":\"#E5ECF6\",\"gridcolor\":\"white\",\"linecolor\":\"white\",\"showbackground\":true,\"ticks\":\"\",\"zerolinecolor\":\"white\",\"gridwidth\":2},\"zaxis\":{\"backgroundcolor\":\"#E5ECF6\",\"gridcolor\":\"white\",\"linecolor\":\"white\",\"showbackground\":true,\"ticks\":\"\",\"zerolinecolor\":\"white\",\"gridwidth\":2}},\"shapedefaults\":{\"line\":{\"color\":\"#2a3f5f\"}},\"annotationdefaults\":{\"arrowcolor\":\"#2a3f5f\",\"arrowhead\":0,\"arrowwidth\":1},\"geo\":{\"bgcolor\":\"white\",\"landcolor\":\"#E5ECF6\",\"subunitcolor\":\"white\",\"showland\":true,\"showlakes\":true,\"lakecolor\":\"white\"},\"title\":{\"x\":0.05},\"mapbox\":{\"style\":\"light\"}}},\"geo\":{\"domain\":{\"x\":[0.0,1.0],\"y\":[0.0,1.0]},\"center\":{}},\"coloraxis\":{\"colorbar\":{\"title\":{\"text\":\"GDP: Gross domestic product (million current US$)\"}},\"colorscale\":[[0.0,\"#30123b\"],[0.07142857142857142,\"#4145ab\"],[0.14285714285714285,\"#4675ed\"],[0.21428571428571427,\"#39a2fc\"],[0.2857142857142857,\"#1bcfd4\"],[0.35714285714285715,\"#24eca6\"],[0.42857142857142855,\"#61fc6c\"],[0.5,\"#a4fc3b\"],[0.5714285714285714,\"#d1e834\"],[0.6428571428571429,\"#f3c63a\"],[0.7142857142857143,\"#fe9b2d\"],[0.7857142857142857,\"#f36315\"],[0.8571428571428571,\"#d93806\"],[0.9285714285714286,\"#b11901\"],[1.0,\"#7a0402\"]]},\"legend\":{\"tracegroupgap\":0},\"title\":{\"text\":\"GDP of Countries\"}},                        {\"responsive\": true}                    ).then(function(){\n",
              "                            \n",
              "var gd = document.getElementById('acca2af2-cb43-4b03-887e-e31cf1cd58c5');\n",
              "var x = new MutationObserver(function (mutations, observer) {{\n",
              "        var display = window.getComputedStyle(gd).display;\n",
              "        if (!display || display === 'none') {{\n",
              "            console.log([gd, 'removed!']);\n",
              "            Plotly.purge(gd);\n",
              "            observer.disconnect();\n",
              "        }}\n",
              "}});\n",
              "\n",
              "// Listen for the removal of the full notebook cells\n",
              "var notebookContainer = gd.closest('#notebook-container');\n",
              "if (notebookContainer) {{\n",
              "    x.observe(notebookContainer, {childList: true});\n",
              "}}\n",
              "\n",
              "// Listen for the clearing of the current output cell\n",
              "var outputEl = gd.closest('.output');\n",
              "if (outputEl) {{\n",
              "    x.observe(outputEl, {childList: true});\n",
              "}}\n",
              "\n",
              "                        })                };                            </script>        </div>\n",
              "</body>\n",
              "</html>"
            ]
          },
          "metadata": {}
        }
      ]
    },
    {
      "cell_type": "markdown",
      "source": [
        "**What is the interquartile range (IQR) of the GDP per capita (current US$)?**"
      ],
      "metadata": {
        "id": "O04kkUGc2-VW"
      }
    },
    {
      "cell_type": "code",
      "source": [
        "df['GDP per capita (current US$)'].unique()"
      ],
      "metadata": {
        "colab": {
          "base_uri": "https://localhost:8080/"
        },
        "id": "Xb0fPx_g3Bc_",
        "outputId": "3eeeaa53-da95-4772-833b-8c44fe1031fa"
      },
      "execution_count": 102,
      "outputs": [
        {
          "output_type": "execute_result",
          "data": {
            "text/plain": [
              "array([ 6.232000e+02,  3.984200e+03,  4.154100e+03, -9.900000e+01,\n",
              "        3.989640e+04,  4.714100e+03,  2.187960e+04,  1.476450e+04,\n",
              "        1.456450e+04,  3.489100e+03,  2.600540e+04,  5.135220e+04,\n",
              "        4.411770e+04,  5.438700e+03,  2.281720e+04,  2.260020e+04,\n",
              "        1.207900e+03,  1.542940e+04,  5.750800e+03,  4.027780e+04,\n",
              "        4.789400e+03,  7.791000e+02,  9.439990e+04,  2.677100e+03,\n",
              "        3.076800e+03,  4.265000e+03,  6.360600e+03,  8.528300e+03,\n",
              "        3.014450e+04,  3.055270e+04,  6.846800e+03,  6.111000e+02,\n",
              "        2.446000e+02,  3.080200e+03,  1.158700e+03,  1.217300e+03,\n",
              "        4.320560e+04,  6.213200e+04,  3.332000e+02,  7.130000e+02,\n",
              "        1.341620e+04,  4.243100e+04,  7.858640e+04,  8.109100e+03,\n",
              "        6.056100e+03,  1.368900e+03,  1.838100e+03,  1.411870e+04,\n",
              "        1.101500e+04,  1.147940e+04,  7.656600e+03,  2.194190e+04,\n",
              "        1.756170e+04,  6.480000e+02,  4.862000e+02,  5.314930e+04,\n",
              "        1.956300e+03,  7.051100e+03,  6.373600e+03,  6.205100e+03,\n",
              "        3.452300e+03,  4.219400e+03,  1.634410e+04,  9.149000e+02,\n",
              "        1.711200e+04,  6.028000e+02,  4.921900e+03,  4.214810e+04,\n",
              "        3.630420e+04,  1.816100e+04,  7.960700e+03,  4.732000e+02,\n",
              "        3.491400e+03,  4.168620e+04,  1.355600e+03,  1.778800e+04,\n",
              "        3.697670e+04,  8.933800e+03,  3.903500e+03,  5.300000e+02,\n",
              "        7.039000e+02,  4.278800e+03,  7.937000e+02,  2.521900e+03,\n",
              "        1.235060e+04,  5.093600e+04,  1.614200e+03,  3.346500e+03,\n",
              "        5.038100e+03,  4.509000e+03,  6.051360e+04,  3.712940e+04,\n",
              "        3.046240e+04,  5.105800e+03,  3.462870e+04,  4.940100e+03,\n",
              "        1.031210e+04,  1.376700e+03,  1.442900e+03,  2.930390e+04,\n",
              "        1.106400e+03,  1.850200e+03,  1.370410e+04,  8.571400e+03,\n",
              "        9.406000e+02,  4.559000e+02,  5.488200e+03,  1.694918e+05,\n",
              "        1.438370e+04,  1.001608e+05,  4.018000e+02,  3.729000e+02,\n",
              "        9.768400e+03,  9.446500e+03,  7.443000e+02,  2.328070e+04,\n",
              "        3.452600e+03,  1.235000e+03,  9.040900e+03,  8.980900e+03,\n",
              "        3.015200e+03,  1.658706e+05,  3.973400e+03,  6.424100e+03,\n",
              "        1.155340e+04,  2.919300e+03,  5.292000e+02,  1.161500e+03,\n",
              "        4.673600e+03,  1.846920e+04,  7.245000e+02,  4.433210e+04,\n",
              "        3.396570e+04,  3.829430e+04,  2.086900e+03,  3.590000e+02,\n",
              "        2.714500e+03,  7.418550e+04,  1.555080e+04,  1.410400e+03,\n",
              "        1.212250e+04,  1.326810e+04,  2.797600e+03,  4.174400e+03,\n",
              "        6.069100e+03,  2.904200e+03,  1.235550e+04,  1.923920e+04,\n",
              "        2.793900e+04,  7.365340e+04,  2.739670e+04,  1.591400e+03,\n",
              "        9.120700e+03,  9.243300e+03,  6.973000e+02,  1.577190e+04,\n",
              "        7.839400e+03,  6.739200e+03,  4.006000e+03,  4.924020e+04,\n",
              "        1.752800e+03,  2.071060e+04,  9.011000e+02,  5.238600e+03,\n",
              "        1.413320e+04,  6.948000e+02,  5.223900e+04,  2.824170e+04,\n",
              "        1.608250e+04,  2.068980e+04,  1.841600e+03,  1.445000e+02,\n",
              "        5.773000e+03,  1.067000e+03,  2.586540e+04,  3.973700e+03,\n",
              "        2.715500e+03,  1.977000e+03,  8.985300e+03,  3.211700e+03,\n",
              "        5.068750e+04,  8.083110e+04,  1.534500e+03,  9.259000e+02,\n",
              "        5.814800e+03,  4.836100e+03,  2.425400e+03,  5.594000e+02,\n",
              "        3.784500e+03,  1.906290e+04,  3.660900e+03,  9.125800e+03,\n",
              "        6.996700e+03,  2.512180e+04,  3.362400e+03,  6.477000e+02,\n",
              "        2.021600e+03,  4.043880e+04,  4.416240e+04,  8.773000e+02,\n",
              "        5.605380e+04,  1.557380e+04,  2.308300e+03,  2.783000e+03,\n",
              "        1.106890e+04,  2.067900e+03,  1.311100e+03,  8.904000e+02])"
            ]
          },
          "metadata": {},
          "execution_count": 102
        }
      ]
    },
    {
      "cell_type": "code",
      "source": [
        "df['GDP per capita (current US$)'].replace(-99,np.nan,inplace = True)\n",
        "df.dropna(subset = ['GDP per capita (current US$)'],inplace = True)"
      ],
      "metadata": {
        "id": "oYUXqUVy3S-n"
      },
      "execution_count": 103,
      "outputs": []
    },
    {
      "cell_type": "code",
      "source": [
        "Q1 = df['GDP per capita (current US$)'].quantile(0.25)\n",
        "Q3 = df['GDP per capita (current US$)'].quantile(0.75)\n",
        "IQR = Q3 - Q1\n",
        "IQR"
      ],
      "metadata": {
        "colab": {
          "base_uri": "https://localhost:8080/"
        },
        "id": "sMTtrEnIQNpW",
        "outputId": "7244affd-1953-4315-e8e7-57ddf73a12c1"
      },
      "execution_count": 104,
      "outputs": [
        {
          "output_type": "execute_result",
          "data": {
            "text/plain": [
              "16687.85"
            ]
          },
          "metadata": {},
          "execution_count": 104
        }
      ]
    },
    {
      "cell_type": "code",
      "source": [
        "sns.violinplot(x=df['GDP per capita (current US$)'],color = 'y')\n",
        "plt.show()"
      ],
      "metadata": {
        "colab": {
          "base_uri": "https://localhost:8080/",
          "height": 449
        },
        "id": "tnLkGo9g3lWF",
        "outputId": "c26b288f-a7b2-4c54-f597-3d0b9b1cb46d"
      },
      "execution_count": 107,
      "outputs": [
        {
          "output_type": "display_data",
          "data": {
            "text/plain": [
              "<Figure size 640x480 with 1 Axes>"
            ],
            "image/png": "[encoded data removed]"
          },
          "metadata": {}
        }
      ]
    },
    {
      "cell_type": "markdown",
      "source": [
        "**What is the coefficient of variation for GDP growth rate (annual %, constant 2005 prices)?**"
      ],
      "metadata": {
        "id": "UP0VkTET39aH"
      }
    },
    {
      "cell_type": "code",
      "source": [
        "df['GDP growth rate (annual %, const. 2005 prices)'].unique()"
      ],
      "metadata": {
        "colab": {
          "base_uri": "https://localhost:8080/"
        },
        "id": "ygRTHRgI4BxF",
        "outputId": "5a54c63d-9e62-412e-b715-fb4acd6ec283"
      },
      "execution_count": 108,
      "outputs": [
        {
          "output_type": "execute_result",
          "data": {
            "text/plain": [
              "array(['-2.4', '2.6', '3.8', '0.8', '3.0', '2.9', '4.1', '2.4', '0.1',\n",
              "       '1.0', '0.7', '-1.7', '6.6', '0.9', '-3.9', '1.5', '1.2', '5.2',\n",
              "       '0.4', '4.8', '3.1', '-0.3', '-3.8', '-1.1', '-0.6', '-4.1', '7.0',\n",
              "       '5.8', '2.3', '-20.3', '6.9', '5.5', '3.7', '1.6', '4.4', '1.7',\n",
              "       '4.5', '6.5', '-1.8', '0.2', '4.2', '2.5', '-7.4', '1.4', '9.6',\n",
              "       '3.6', '1.3', '3.9', '4.7', '2.8', '-0.2', '0.3', '6.2', '7.6',\n",
              "       '26.3', '5.6', '1.8', '3.5', '2.7', '-10.2', '5.0', '0.6', '5.4',\n",
              "       '7.3', '5.3', '18.7', '2.0', '3.2', '4.9', '5.7', '3.3', '5.9',\n",
              "       '-~0.0', '-0.7', '-3.7', '1.9', '4.0', '3.4', '6.8', '0.5', '-2.7',\n",
              "       '-5.3', '4.3', '-9.9', '2.2', '-1.0', '-6.2', '6.7', '-28.1',\n",
              "       '1.1'], dtype=object)"
            ]
          },
          "metadata": {},
          "execution_count": 108
        }
      ]
    },
    {
      "cell_type": "code",
      "source": [
        "df['GDP growth rate (annual %, const. 2005 prices)'] = pd.to_numeric(df['GDP growth rate (annual %, const. 2005 prices)'], errors='coerce')\n",
        "df.dropna(subset = ['GDP growth rate (annual %, const. 2005 prices)'],inplace = True)"
      ],
      "metadata": {
        "id": "NK8mWiVS4J0G"
      },
      "execution_count": 109,
      "outputs": []
    },
    {
      "cell_type": "code",
      "source": [
        "st = statistics.stdev(df['GDP growth rate (annual %, const. 2005 prices)'])\n",
        "m = statistics.mean(df['GDP growth rate (annual %, const. 2005 prices)'])\n",
        "\n",
        "cv = (st/m) *100\n",
        "cv"
      ],
      "metadata": {
        "colab": {
          "base_uri": "https://localhost:8080/"
        },
        "id": "Zn1rL1_eQgMX",
        "outputId": "f0ba9166-6a3b-4df5-ebff-4aaec305e8ff"
      },
      "execution_count": 110,
      "outputs": [
        {
          "output_type": "execute_result",
          "data": {
            "text/plain": [
              "188.07294540505842"
            ]
          },
          "metadata": {},
          "execution_count": 110
        }
      ]
    },
    {
      "cell_type": "markdown",
      "source": [
        "**Which economic sector (Agriculture, Industry, or Services) has the highest average contribution to GVA?**"
      ],
      "metadata": {
        "id": "EUZLvtwa40lH"
      }
    },
    {
      "cell_type": "code",
      "source": [
        "x = ['Economy: Agriculture (% of GVA)','Economy: Industry (% of GVA)','Economy: Services and other activity (% of GVA)']\n",
        "for i in x:\n",
        "  df[i].replace(-99,np.nan,inplace = True)\n",
        "  df[i] = pd.to_numeric(df[i], errors='coerce')\n",
        "  df.dropna(subset = [i],inplace = True)"
      ],
      "metadata": {
        "id": "XH2L5fp66hMm"
      },
      "execution_count": 117,
      "outputs": []
    },
    {
      "cell_type": "code",
      "source": [
        "Averages = df[['Economy: Agriculture (% of GVA)','Economy: Industry (% of GVA)','Economy: Services and other activity (% of GVA)']].mean()\n",
        "highest_sector = Averages.idxmax()\n",
        "print(highest_sector)\n",
        "highest_value = Averages.max()\n",
        "print(highest_value)"
      ],
      "metadata": {
        "colab": {
          "base_uri": "https://localhost:8080/"
        },
        "id": "Hc0qdJux4_mH",
        "outputId": "c7684a24-14ea-4a03-bd3e-f1ec3f530484"
      },
      "execution_count": 119,
      "outputs": [
        {
          "output_type": "stream",
          "name": "stdout",
          "text": [
            "Economy: Services and other activity (% of GVA)\n",
            "61.086893203883484\n"
          ]
        }
      ]
    },
    {
      "cell_type": "code",
      "source": [
        "plt.figure(figsize=(8, 5))\n",
        "sns.barplot(x = Averages.values,y = Averages.index,palette = 'hsv')\n",
        "plt.show()"
      ],
      "metadata": {
        "colab": {
          "base_uri": "https://localhost:8080/",
          "height": 445
        },
        "id": "nsk3Tu9V62Xg",
        "outputId": "edfa2de5-10c3-47d5-da7d-b0ee7844119a"
      },
      "execution_count": 123,
      "outputs": [
        {
          "output_type": "display_data",
          "data": {
            "text/plain": [
              "<Figure size 800x500 with 1 Axes>"
            ],
            "image/png": "[encoded data removed]"
          },
          "metadata": {}
        }
      ]
    },
    {
      "cell_type": "code",
      "source": [
        "df['Economy: Industry (% of GVA)']"
      ],
      "metadata": {
        "colab": {
          "base_uri": "https://localhost:8080/",
          "height": 458
        },
        "id": "uHRGOMpz4zVo",
        "outputId": "3f9335e2-8aad-4951-9765-5dafa634ed75"
      },
      "execution_count": 112,
      "outputs": [
        {
          "output_type": "execute_result",
          "data": {
            "text/plain": [
              "0      23.3\n",
              "1      26.0\n",
              "2      37.3\n",
              "4      10.8\n",
              "5      51.2\n",
              "       ... \n",
              "222    44.7\n",
              "223    37.0\n",
              "226    36.9\n",
              "227    32.3\n",
              "228    30.5\n",
              "Name: Economy: Industry (% of GVA), Length: 207, dtype: float64"
            ],
            "text/html": [
              "<div>\n",
              "<style scoped>\n",
              "    .dataframe tbody tr th:only-of-type {\n",
              "        vertical-align: middle;\n",
              "    }\n",
              "\n",
              "    .dataframe tbody tr th {\n",
              "        vertical-align: top;\n",
              "    }\n",
              "\n",
              "    .dataframe thead th {\n",
              "        text-align: right;\n",
              "    }\n",
              "</style>\n",
              "<table border=\"1\" class=\"dataframe\">\n",
              "  <thead>\n",
              "    <tr style=\"text-align: right;\">\n",
              "      <th></th>\n",
              "      <th>Economy: Industry (% of GVA)</th>\n",
              "    </tr>\n",
              "  </thead>\n",
              "  <tbody>\n",
              "    <tr>\n",
              "      <th>0</th>\n",
              "      <td>23.3</td>\n",
              "    </tr>\n",
              "    <tr>\n",
              "      <th>1</th>\n",
              "      <td>26.0</td>\n",
              "    </tr>\n",
              "    <tr>\n",
              "      <th>2</th>\n",
              "      <td>37.3</td>\n",
              "    </tr>\n",
              "    <tr>\n",
              "      <th>4</th>\n",
              "      <td>10.8</td>\n",
              "    </tr>\n",
              "    <tr>\n",
              "      <th>5</th>\n",
              "      <td>51.2</td>\n",
              "    </tr>\n",
              "    <tr>\n",
              "      <th>...</th>\n",
              "      <td>...</td>\n",
              "    </tr>\n",
              "    <tr>\n",
              "      <th>222</th>\n",
              "      <td>44.7</td>\n",
              "    </tr>\n",
              "    <tr>\n",
              "      <th>223</th>\n",
              "      <td>37.0</td>\n",
              "    </tr>\n",
              "    <tr>\n",
              "      <th>226</th>\n",
              "      <td>36.9</td>\n",
              "    </tr>\n",
              "    <tr>\n",
              "      <th>227</th>\n",
              "      <td>32.3</td>\n",
              "    </tr>\n",
              "    <tr>\n",
              "      <th>228</th>\n",
              "      <td>30.5</td>\n",
              "    </tr>\n",
              "  </tbody>\n",
              "</table>\n",
              "<p>207 rows × 1 columns</p>\n",
              "</div><br><label><b>dtype:</b> float64</label>"
            ]
          },
          "metadata": {},
          "execution_count": 112
        }
      ]
    },
    {
      "cell_type": "markdown",
      "source": [
        "**What is the mode of the fertility rate (live births per woman) across all countries?**"
      ],
      "metadata": {
        "id": "QfmQSdiH7qW-"
      }
    },
    {
      "cell_type": "code",
      "source": [
        "df['Fertility rate, total (live births per woman)'].unique()"
      ],
      "metadata": {
        "colab": {
          "base_uri": "https://localhost:8080/"
        },
        "id": "5Icn5vWA70g9",
        "outputId": "bb659e06-0099-46b1-fdd9-f3cc3cc86c26"
      },
      "execution_count": 127,
      "outputs": [
        {
          "output_type": "execute_result",
          "data": {
            "text/plain": [
              "array(['5.3', '1.7', '3.0', '2.6', '1.2', '6.0', '...', '2.1', '2.3',\n",
              "       '1.6', '1.8', '1.9', '1.4', '2.2', '5.2', '1.5', '-99', '1.3',\n",
              "       '2.9', '5.6', '2.5', '2.7', '5.0', '5.1', '6.3', '4.6', '4.9',\n",
              "       '2.0', '6.4', '3.1', '3.4', '4.4', '2.4', '3.5', '4.0', '4.2',\n",
              "       '3.2', '3.6', '4.1', '3.8', '3.3', '4.8', '2.8', '5.4', '3.9',\n",
              "       '7.4', '5.7', '3.7', '4.7', '6.6', '5.9'], dtype=object)"
            ]
          },
          "metadata": {},
          "execution_count": 127
        }
      ]
    },
    {
      "cell_type": "code",
      "source": [
        "df['Fertility rate, total (live births per woman)'] = pd.to_numeric(df['Fertility rate, total (live births per woman)'], errors='coerce')\n",
        "df['Fertility rate, total (live births per woman)'].replace(-99,np.nan,inplace = True)\n",
        "df.dropna(subset = ['Fertility rate, total (live births per woman)'],inplace = True)"
      ],
      "metadata": {
        "id": "wlEfB2uz7-eO"
      },
      "execution_count": 128,
      "outputs": []
    },
    {
      "cell_type": "code",
      "source": [
        "statistics.mode(df['Fertility rate, total (live births per woman)'])"
      ],
      "metadata": {
        "colab": {
          "base_uri": "https://localhost:8080/"
        },
        "id": "mFQq8dRuX4ib",
        "outputId": "0e45bca1-903a-4fac-cef3-839e308c667d"
      },
      "execution_count": 129,
      "outputs": [
        {
          "output_type": "execute_result",
          "data": {
            "text/plain": [
              "1.5"
            ]
          },
          "metadata": {},
          "execution_count": 129
        }
      ]
    },
    {
      "cell_type": "markdown",
      "source": [
        "**What is the variance of the unemployment rate (% of the labor force)?**"
      ],
      "metadata": {
        "id": "-PqpCWGR8clr"
      }
    },
    {
      "cell_type": "code",
      "source": [
        "df['Unemployment (% of labour force)'].unique()"
      ],
      "metadata": {
        "colab": {
          "base_uri": "https://localhost:8080/"
        },
        "id": "-nuikKHrYj34",
        "outputId": "f7d4d209-bb3c-4617-fae2-8119f6844749"
      },
      "execution_count": 130,
      "outputs": [
        {
          "output_type": "execute_result",
          "data": {
            "text/plain": [
              "array(['8.6', '15.8', '11.4', '...', '-99', '6.6', '6.5', '16.6', '5.5',\n",
              "       '6.2', '5.2', '14.7', '1.3', '4.0', '11.3', '0.5', '8.3', '11.5',\n",
              "       '1.0', '6.7', '2.4', '3.8', '25.4', '18.6', '12.4', '2.1', '8.1',\n",
              "       '2.9', '1.7', '10.5', '0.3', '4.6', '7.1', '6.9', '5.8', '8.7',\n",
              "       '6.8', '3.5', '3.2', '20.0', '8.2', '11.7', '3.0', '10.3', '3.9',\n",
              "       '4.3', '3.6', '6.0', '14.4', '6.4', '7.7', '7.3', '7.2', '5.7',\n",
              "       '8.9', '9.8', '21.3', '17.0', '18.1', '29.7', '4.2', '5.9', '23.0',\n",
              "       '9.7', '26.1', '10.7', '12.9', '5.6', '4.5', '3.4', '16.1', '7.6',\n",
              "       '13.1', '13.4', '10.8', '2.2', '1.5', '9.6', '7.0', '27.5', '4.1',\n",
              "       '19.2', '2.6', '9.2', '2.3', '3.3', '5.4', '4.7', '22.8', '12.0',\n",
              "       '6.3', '17.4', '10.4', '24.1', '0.8', '24.9', '15.1', '6.1', '2.7',\n",
              "       '5.1', '17.8', '2.5', '5.3', '12.8', '5.0', '19.0', '19.1', '13.6',\n",
              "       '9.3', '15.5', '3.1', '2.0', '9.9', '31.4', '26.0', '18.3', '24.2',\n",
              "       '25.1', '13.8', '0.6', '27.3', '4.8', '14.6', '8.8', '3.7', '4.9',\n",
              "       '9.0', '7.4'], dtype=object)"
            ]
          },
          "metadata": {},
          "execution_count": 130
        }
      ]
    },
    {
      "cell_type": "code",
      "source": [
        "df['Unemployment (% of labour force)'] = df['Unemployment (% of labour force)'].apply(pd.to_numeric,errors = 'coerce')\n",
        "df['Unemployment (% of labour force)'].replace(-99,np.nan,inplace = True)\n",
        "df.dropna(subset = ['Unemployment (% of labour force)'],inplace = True)"
      ],
      "metadata": {
        "id": "E57Rs0YLZK6C"
      },
      "execution_count": 131,
      "outputs": []
    },
    {
      "cell_type": "code",
      "source": [
        "statistics.variance(df['Unemployment (% of labour force)'])"
      ],
      "metadata": {
        "colab": {
          "base_uri": "https://localhost:8080/"
        },
        "id": "nA92n0zkYKIQ",
        "outputId": "8f242f9c-5ca6-40eb-a783-c1764db5d550"
      },
      "execution_count": 132,
      "outputs": [
        {
          "output_type": "execute_result",
          "data": {
            "text/plain": [
              "41.835773852688284"
            ]
          },
          "metadata": {},
          "execution_count": 132
        }
      ]
    },
    {
      "cell_type": "markdown",
      "source": [
        "**What percentage of countries have an urban population greater than 50%?**"
      ],
      "metadata": {
        "id": "05eugAt19RP_"
      }
    },
    {
      "cell_type": "code",
      "source": [
        "df['Urban population (% of total population)'].unique()"
      ],
      "metadata": {
        "colab": {
          "base_uri": "https://localhost:8080/"
        },
        "id": "pDHufmRcYh4O",
        "outputId": "fd4c9734-5d1d-436b-aa60-503b5e017611"
      },
      "execution_count": 195,
      "outputs": [
        {
          "output_type": "execute_result",
          "data": {
            "text/plain": [
              "array([ 26.7,  57.4,  70.7,  87.2,  85.1,  44.1, 100. ,  23.8,  91.8,\n",
              "        62.7,  41.5,  89.4,  66. ,  54.6,  82.9,  88.8,  34.3,  31.5,\n",
              "        76.7,  97.9,  44. ,  38.6,  68.5,  74.7,  39.8,  85.7,  46.2,\n",
              "        77.2,  73.9,  29.9,  12.1,  65.5,  20.7,  54.4,  81.8,  40. ,\n",
              "        22.5,  89.5,  55.6,  76.4,  28.3,  65.4,  74.5,  76.8,  59. ,\n",
              "        77.1,  66.9,  73. ,  60.9,  42.5,  87.7,  77.3,  69.5,  79. ,\n",
              "        63.7,  43.1,  66.7,  39.9,  22.6,  67.5,  19.5,  76.2,  42. ,\n",
              "        53.7,  84.2,  79.5,  84.4,  55.9,  59.6,  53.6,  75.3,  54. ,\n",
              "        78. ,  86.4,  35.6,  98.4,  94.5,  51.6,  49.3,  37.2,  28.6,\n",
              "        58.6,  54.7,  71.2,  94.1,  32.7,  73.4,  63.2,  52.2,  92.1,\n",
              "        69. ,  54.8,  93.5,  83.7,  53.2,  25.6,  44.3,  98.3,  35.7,\n",
              "        67.4,  87.8,  27.3,  49.7,  78.6,  14.3,  66.5,  90.2,  35.1,\n",
              "        16.3,  45.5,  95.4,  72.7,  88.9,  59.9,  39.7,  47. ,  79.2,\n",
              "        22.4,  72. ,  64. ,   9. ,  60.2,  32.2,  34.1,  46.7,  18.6,\n",
              "        90.5,  70.2,  86.3,  58.8,  18.7,  47.8,  89.2,  80.5,  77.6,\n",
              "        38.8,  87.1,  66.6,  13. ,  59.7,  44.4,  60.5,  63.5,  93.6,\n",
              "        99.2,  82.5,  45. ,  74. ,  28.8,  39.4,  32. ,  18.5,  90.4,\n",
              "        50.6,  19.1,  94.2,  65.1,  83.1,  43.7,  53.9,  22.3,  39.6,\n",
              "        64.8,  18.8,  79.6,  18.4,  33.8,  21.3,  85.8,  57.7,  26.8,\n",
              "        50.4,  57.1,  32.8,   0. ,  23.7,   8.4,  66.8,  50. ,  92.2,\n",
              "        16.1,  69.7,  85.5,  82.6,  31.6,  81.6,  95.3,  36.4,  26.1,\n",
              "        89. ,  33.6,  80.9,  34.6,  40.9,  32.4])"
            ]
          },
          "metadata": {},
          "execution_count": 195
        }
      ]
    },
    {
      "cell_type": "code",
      "source": [
        "urban = (df['Urban population (% of total population)'] > 50).mean()*100"
      ],
      "metadata": {
        "id": "0reGbcWCZ3su"
      },
      "execution_count": 196,
      "outputs": []
    },
    {
      "cell_type": "code",
      "source": [
        "y = len(df['Urban population (% of total population)'])\n",
        "x = len(df[df['Urban population (% of total population)'] > 50])\n",
        "x/y *100  #Manual calculation of mean value"
      ],
      "metadata": {
        "colab": {
          "base_uri": "https://localhost:8080/"
        },
        "id": "ECkF2qY5OGuJ",
        "outputId": "09fd9ac3-a655-4895-da57-224f231850b9"
      },
      "execution_count": 197,
      "outputs": [
        {
          "output_type": "execute_result",
          "data": {
            "text/plain": [
              "62.882096069869"
            ]
          },
          "metadata": {},
          "execution_count": 197
        }
      ]
    },
    {
      "cell_type": "code",
      "source": [
        "total_countries = len(df['Urban population (% of total population)'])\n",
        "urban_countries = df[df['Urban population (% of total population)'] > 50].shape[0]\n",
        "\n",
        "rural = 100 - urban\n",
        "\n",
        "plt.figure(figsize=(6, 6))\n",
        "plt.pie([urban, rural],labels=['Urban > 50%', 'Urban ≤ 50%'],autopct='%1.1f%%',colors=['green', 'orange'],startangle=90)\n",
        "plt.show()"
      ],
      "metadata": {
        "colab": {
          "base_uri": "https://localhost:8080/",
          "height": 499
        },
        "id": "jgnw-xSsFl_G",
        "outputId": "b7fb2d3e-ee6e-4a49-86a5-6ee5378cc408"
      },
      "execution_count": 201,
      "outputs": [
        {
          "output_type": "display_data",
          "data": {
            "text/plain": [
              "<Figure size 600x600 with 1 Axes>"
            ],
            "image/png": "[encoded data removed]"
          },
          "metadata": {}
        }
      ]
    },
    {
      "cell_type": "markdown",
      "source": [
        "**What is the correlation between GDP per capita and life expectancy?**"
      ],
      "metadata": {
        "id": "jJJkS29597DU"
      }
    },
    {
      "cell_type": "code",
      "source": [
        "df['Life expectancy at birth (females/males, years)']"
      ],
      "metadata": {
        "colab": {
          "base_uri": "https://localhost:8080/",
          "height": 458
        },
        "id": "n6flXXWrbWB6",
        "outputId": "e71c626b-2d13-4f11-b80a-0b3a589fc131"
      },
      "execution_count": null,
      "outputs": [
        {
          "output_type": "execute_result",
          "data": {
            "text/plain": [
              "0      63.5/61.0\n",
              "1      79.9/75.6\n",
              "2      76.5/74.1\n",
              "3      77.8/71.1\n",
              "4            -99\n",
              "         ...    \n",
              "224    78.7/72.8\n",
              "225    70.3/66.9\n",
              "226    65.6/62.8\n",
              "227    61.9/57.5\n",
              "228    59.0/56.1\n",
              "Name: Life expectancy at birth (females/males, years), Length: 229, dtype: object"
            ],
            "text/html": [
              "<div>\n",
              "<style scoped>\n",
              "    .dataframe tbody tr th:only-of-type {\n",
              "        vertical-align: middle;\n",
              "    }\n",
              "\n",
              "    .dataframe tbody tr th {\n",
              "        vertical-align: top;\n",
              "    }\n",
              "\n",
              "    .dataframe thead th {\n",
              "        text-align: right;\n",
              "    }\n",
              "</style>\n",
              "<table border=\"1\" class=\"dataframe\">\n",
              "  <thead>\n",
              "    <tr style=\"text-align: right;\">\n",
              "      <th></th>\n",
              "      <th>Life expectancy at birth (females/males, years)</th>\n",
              "    </tr>\n",
              "  </thead>\n",
              "  <tbody>\n",
              "    <tr>\n",
              "      <th>0</th>\n",
              "      <td>63.5/61.0</td>\n",
              "    </tr>\n",
              "    <tr>\n",
              "      <th>1</th>\n",
              "      <td>79.9/75.6</td>\n",
              "    </tr>\n",
              "    <tr>\n",
              "      <th>2</th>\n",
              "      <td>76.5/74.1</td>\n",
              "    </tr>\n",
              "    <tr>\n",
              "      <th>3</th>\n",
              "      <td>77.8/71.1</td>\n",
              "    </tr>\n",
              "    <tr>\n",
              "      <th>4</th>\n",
              "      <td>-99</td>\n",
              "    </tr>\n",
              "    <tr>\n",
              "      <th>...</th>\n",
              "      <td>...</td>\n",
              "    </tr>\n",
              "    <tr>\n",
              "      <th>224</th>\n",
              "      <td>78.7/72.8</td>\n",
              "    </tr>\n",
              "    <tr>\n",
              "      <th>225</th>\n",
              "      <td>70.3/66.9</td>\n",
              "    </tr>\n",
              "    <tr>\n",
              "      <th>226</th>\n",
              "      <td>65.6/62.8</td>\n",
              "    </tr>\n",
              "    <tr>\n",
              "      <th>227</th>\n",
              "      <td>61.9/57.5</td>\n",
              "    </tr>\n",
              "    <tr>\n",
              "      <th>228</th>\n",
              "      <td>59.0/56.1</td>\n",
              "    </tr>\n",
              "  </tbody>\n",
              "</table>\n",
              "<p>229 rows × 1 columns</p>\n",
              "</div><br><label><b>dtype:</b> object</label>"
            ]
          },
          "metadata": {},
          "execution_count": 70
        }
      ]
    },
    {
      "cell_type": "code",
      "source": [
        "df['Life expectancy at birth (females/males, years)'].unique()"
      ],
      "metadata": {
        "colab": {
          "base_uri": "https://localhost:8080/"
        },
        "id": "GcLc2Cw0jCqK",
        "outputId": "1d53cdb4-2c85-4c9a-dc6f-c654cb9bf567"
      },
      "execution_count": 179,
      "outputs": [
        {
          "output_type": "execute_result",
          "data": {
            "text/plain": [
              "array(['63.5/61.0', '79.9/75.6', '76.5/74.1', '-99', '63.0/57.4',\n",
              "       '.../...', '79.8/72.2', '77.0/70.6', '77.8/72.9', '84.4/80.2',\n",
              "       '83.5/78.4', '74.6/68.6', '78.1/72.0', '77.5/75.6', '72.9/69.8',\n",
              "       '77.7/72.9', '77.7/66.5', '83.0/78.0', '72.7/67.2', '61.4/58.5',\n",
              "       '85.1/77.5', '68.9/68.6', '70.2/65.3', '78.8/73.7', '66.1/59.8',\n",
              "       '78.4/71.0', '78.4/75.1', '77.8/70.8', '59.3/58.0', '58.0/54.2',\n",
              "       '74.0/70.1', '69.6/65.5', '57.7/55.1', '83.8/79.7', '51.0/47.8',\n",
              "       '52.8/50.5', '81.3/76.2', '86.2/80.3', '77.2/74.2', '77.4/70.2',\n",
              "       '64.5/61.2', '64.1/61.0', '81.7/76.7', '80.4/73.6', '81.3/77.1',\n",
              "       '82.2/77.7', '81.2/75.1', '74.1/67.2', '59.5/56.7', '82.2/78.1',\n",
              "       '63.2/60.0', '76.4/70.2', '78.4/72.8', '73.0/68.7', '77.1/67.9',\n",
              "       '58.4/55.5', '65.6/61.4', '81.2/71.8', '65.5/61.9', '84.5/78.3',\n",
              "       '72.9/66.9', '83.7/77.7', '85.0/78.8', '82.6/76.1', '78.6/74.0',\n",
              "       '65.8/63.1', '61.6/59.1', '77.0/68.5', '82.9/77.9', '62.6/60.7',\n",
              "       '83.3/78.0', '73.4/68.7', '75.6/70.8', '84.0/76.8', '75.6/69.2',\n",
              "       '57.7/54.3', '58.4/57.4', '68.6/64.0', '64.4/60.2', '75.4/70.4',\n",
              "       '78.8/71.7', '83.8/80.6', '69.1/66.2', '70.7/66.6', '76.2/74.0',\n",
              "       '71.4/67.0', '83.0/78.7', '83.7/80.0', '84.7/79.9', '77.9/73.1',\n",
              "       '86.4/80.0', '75.5/72.2', '73.9/64.3', '67.8/63.0', '68.9/62.4',\n",
              "       '75.5/73.5', '74.3/66.4', '66.8/63.9', '78.7/68.8', '80.9/77.3',\n",
              "       '54.7/50.1', '61.6/59.8', '74.4/68.8', '79.3/68.5', '83.4/78.8',\n",
              "       '66.0/63.0', '63.1/58.2', '77.1/72.6', '77.4/75.4', '56.9/55.6',\n",
              "       '82.0/78.6', '72.5/71.3', '84.4/77.8', '64.1/61.2', '77.7/70.7',\n",
              "       '82.9/76.0', '78.9/74.0', '69.8/67.7', '72.7/64.5', '78.8/74.0',\n",
              "       '76.0/73.7', '58.1/54.0', '68.3/63.7', '64.3/59.1', '64.8/57.8',\n",
              "       '70.4/67.4', '83.1/79.4', '79.3/73.7', '83.1/79.5', '77.5/71.4',\n",
              "       '59.5/57.6', '52.6/51.2', '76.3/70.1', '83.6/79.5', '78.7/74.5',\n",
              "       '66.8/65.0', '80.5/74.3', '67.4/62.6', '74.9/70.7', '76.8/71.5',\n",
              "       '72.1/65.4', '81.0/72.9', '83.5/77.3', '83.2/75.2', '79.4/76.8',\n",
              "       '84.4/77.9', '75.2/66.7', '78.4/71.4', '75.9/64.7', '67.1/63.1',\n",
              "       '77.6/72.2', '77.4/71.1', '68.2/64.0', '75.6/72.7', '67.5/63.8',\n",
              "       '77.5/71.8', '77.9/68.7', '50.7/49.6', '84.5/80.1', '79.8/72.6',\n",
              "       '83.2/77.2', '71.1/68.3', '56.5/53.3', '63.0/56.1', '56.0/54.1',\n",
              "       '85.3/79.6', '78.0/71.2', '74.8/71.1', '65.1/62.1', '74.2/67.8',\n",
              "       '58.2/51.6', '84.8/80.5', '76.3/64.4', '73.5/67.7', '78.4/70.8',\n",
              "       '77.2/73.2', '69.5/66.1', '59.8/58.3', '75.6/69.6', '73.8/66.9',\n",
              "       '77.1/73.0', '78.1/71.5', '70.8/63.9', '77.8/75.8', '60.7/56.5',\n",
              "       '76.0/66.1', '78.2/76.0', '82.8/79.0', '64.8/60.8', '81.2/76.5',\n",
              "       '80.4/73.2', '73.5/68.1', '73.6/69.4', '78.2/69.9', '80.3/70.7',\n",
              "       '65.6/62.8', '61.9/57.5', '59.0/56.1'], dtype=object)"
            ]
          },
          "metadata": {},
          "execution_count": 179
        }
      ]
    },
    {
      "cell_type": "code",
      "source": [
        "df['Life expectancy at birth (females/males, years)'] = df['Life expectancy at birth (females/males, years)'].replace(['.../...','-99'],np.nan)"
      ],
      "metadata": {
        "id": "tffMc8GwiI42"
      },
      "execution_count": 180,
      "outputs": []
    },
    {
      "cell_type": "code",
      "source": [
        "df.dropna(subset = ['Life expectancy at birth (females/males, years)'],inplace=True)"
      ],
      "metadata": {
        "id": "S8xysmRwiU9d"
      },
      "execution_count": 181,
      "outputs": []
    },
    {
      "cell_type": "markdown",
      "source": [
        "Separate both the male female data and finding the average country wise"
      ],
      "metadata": {
        "id": "2Sc_q9lT-e71"
      }
    },
    {
      "cell_type": "code",
      "source": [
        "df['Life expectancy at birth (females/males, years)'] = df['Life expectancy at birth (females/males, years)'].apply(lambda x: (sum(map(float,x.split('/')))/2) if isinstance(x,str) and '/' in x else float(x))"
      ],
      "metadata": {
        "id": "o8wLUKkQeto4"
      },
      "execution_count": 182,
      "outputs": []
    },
    {
      "cell_type": "code",
      "source": [
        "df['Life expectancy at birth (females/males, years)'] #mean of both values"
      ],
      "metadata": {
        "colab": {
          "base_uri": "https://localhost:8080/",
          "height": 458
        },
        "id": "WW6sARpihGKG",
        "outputId": "8afeb688-433a-432e-9cf0-bc9368e7f440"
      },
      "execution_count": 183,
      "outputs": [
        {
          "output_type": "execute_result",
          "data": {
            "text/plain": [
              "0      62.25\n",
              "1      77.75\n",
              "2      75.30\n",
              "5      60.20\n",
              "8      76.00\n",
              "       ...  \n",
              "222    74.05\n",
              "223    75.50\n",
              "226    64.20\n",
              "227    59.70\n",
              "228    57.55\n",
              "Name: Life expectancy at birth (females/males, years), Length: 198, dtype: float64"
            ],
            "text/html": [
              "<div>\n",
              "<style scoped>\n",
              "    .dataframe tbody tr th:only-of-type {\n",
              "        vertical-align: middle;\n",
              "    }\n",
              "\n",
              "    .dataframe tbody tr th {\n",
              "        vertical-align: top;\n",
              "    }\n",
              "\n",
              "    .dataframe thead th {\n",
              "        text-align: right;\n",
              "    }\n",
              "</style>\n",
              "<table border=\"1\" class=\"dataframe\">\n",
              "  <thead>\n",
              "    <tr style=\"text-align: right;\">\n",
              "      <th></th>\n",
              "      <th>Life expectancy at birth (females/males, years)</th>\n",
              "    </tr>\n",
              "  </thead>\n",
              "  <tbody>\n",
              "    <tr>\n",
              "      <th>0</th>\n",
              "      <td>62.25</td>\n",
              "    </tr>\n",
              "    <tr>\n",
              "      <th>1</th>\n",
              "      <td>77.75</td>\n",
              "    </tr>\n",
              "    <tr>\n",
              "      <th>2</th>\n",
              "      <td>75.30</td>\n",
              "    </tr>\n",
              "    <tr>\n",
              "      <th>5</th>\n",
              "      <td>60.20</td>\n",
              "    </tr>\n",
              "    <tr>\n",
              "      <th>8</th>\n",
              "      <td>76.00</td>\n",
              "    </tr>\n",
              "    <tr>\n",
              "      <th>...</th>\n",
              "      <td>...</td>\n",
              "    </tr>\n",
              "    <tr>\n",
              "      <th>222</th>\n",
              "      <td>74.05</td>\n",
              "    </tr>\n",
              "    <tr>\n",
              "      <th>223</th>\n",
              "      <td>75.50</td>\n",
              "    </tr>\n",
              "    <tr>\n",
              "      <th>226</th>\n",
              "      <td>64.20</td>\n",
              "    </tr>\n",
              "    <tr>\n",
              "      <th>227</th>\n",
              "      <td>59.70</td>\n",
              "    </tr>\n",
              "    <tr>\n",
              "      <th>228</th>\n",
              "      <td>57.55</td>\n",
              "    </tr>\n",
              "  </tbody>\n",
              "</table>\n",
              "<p>198 rows × 1 columns</p>\n",
              "</div><br><label><b>dtype:</b> float64</label>"
            ]
          },
          "metadata": {},
          "execution_count": 183
        }
      ]
    },
    {
      "cell_type": "markdown",
      "source": [
        "Now working on GDP per capita column"
      ],
      "metadata": {
        "id": "3vWulf47-xpu"
      }
    },
    {
      "cell_type": "code",
      "source": [
        "df['GDP per capita (current US$)'].unique()"
      ],
      "metadata": {
        "colab": {
          "base_uri": "https://localhost:8080/"
        },
        "id": "DmYym6ZHh7wN",
        "outputId": "5e52e2a4-c165-4117-eb24-07e3f1a4989a"
      },
      "execution_count": 184,
      "outputs": [
        {
          "output_type": "execute_result",
          "data": {
            "text/plain": [
              "array([ 6.232000e+02,  3.984200e+03,  4.154100e+03,  4.714100e+03,\n",
              "        1.456450e+04,  3.489100e+03,  2.600540e+04,  5.135220e+04,\n",
              "        4.411770e+04,  5.438700e+03,  2.281720e+04,  2.260020e+04,\n",
              "        1.207900e+03,  1.542940e+04,  5.750800e+03,  4.027780e+04,\n",
              "        4.789400e+03,  7.791000e+02,  9.439990e+04,  2.677100e+03,\n",
              "        3.076800e+03,  4.265000e+03,  6.360600e+03,  8.528300e+03,\n",
              "        3.055270e+04,  6.846800e+03,  6.111000e+02,  2.446000e+02,\n",
              "        3.080200e+03,  1.158700e+03,  1.217300e+03,  4.320560e+04,\n",
              "        3.332000e+02,  7.130000e+02,  1.341620e+04,  7.858640e+04,\n",
              "        8.109100e+03,  6.056100e+03,  1.368900e+03,  1.838100e+03,\n",
              "        1.101500e+04,  1.147940e+04,  7.656600e+03,  2.194190e+04,\n",
              "        1.756170e+04,  6.480000e+02,  4.862000e+02,  5.314930e+04,\n",
              "        1.956300e+03,  6.373600e+03,  6.205100e+03,  3.452300e+03,\n",
              "        4.219400e+03,  1.634410e+04,  9.149000e+02,  1.711200e+04,\n",
              "        6.028000e+02, -9.900000e+01,  4.921900e+03,  4.214810e+04,\n",
              "        3.630420e+04,  1.816100e+04,  7.960700e+03,  4.732000e+02,\n",
              "        3.491400e+03,  4.168620e+04,  1.355600e+03,  1.778800e+04,\n",
              "        3.697670e+04,  8.933800e+03,  3.903500e+03,  5.300000e+02,\n",
              "        7.039000e+02,  4.278800e+03,  7.937000e+02,  2.521900e+03,\n",
              "        1.235060e+04,  5.093600e+04,  1.614200e+03,  3.346500e+03,\n",
              "        5.038100e+03,  4.509000e+03,  6.051360e+04,  3.712940e+04,\n",
              "        3.046240e+04,  5.105800e+03,  3.462870e+04,  4.940100e+03,\n",
              "        1.031210e+04,  1.376700e+03,  1.442900e+03,  2.930390e+04,\n",
              "        1.106400e+03,  1.850200e+03,  1.370410e+04,  8.571400e+03,\n",
              "        9.406000e+02,  4.559000e+02,  5.488200e+03,  1.438370e+04,\n",
              "        1.001608e+05,  4.018000e+02,  3.729000e+02,  9.768400e+03,\n",
              "        9.446500e+03,  7.443000e+02,  2.328070e+04,  3.452600e+03,\n",
              "        1.235000e+03,  9.040900e+03,  8.980900e+03,  3.015200e+03,\n",
              "        3.973400e+03,  6.424100e+03,  2.919300e+03,  5.292000e+02,\n",
              "        1.161500e+03,  4.673600e+03,  1.846920e+04,  7.245000e+02,\n",
              "        4.433210e+04,  3.396570e+04,  3.829430e+04,  2.086900e+03,\n",
              "        3.590000e+02,  2.714500e+03,  7.418550e+04,  1.555080e+04,\n",
              "        1.410400e+03,  1.326810e+04,  2.797600e+03,  4.174400e+03,\n",
              "        6.069100e+03,  2.904200e+03,  1.235550e+04,  1.923920e+04,\n",
              "        2.793900e+04,  7.365340e+04,  2.739670e+04,  1.591400e+03,\n",
              "        9.120700e+03,  9.243300e+03,  6.973000e+02,  7.839400e+03,\n",
              "        6.739200e+03,  4.006000e+03,  1.752800e+03,  2.071060e+04,\n",
              "        9.011000e+02,  5.238600e+03,  1.413320e+04,  6.948000e+02,\n",
              "        5.223900e+04,  1.608250e+04,  2.068980e+04,  1.841600e+03,\n",
              "        1.445000e+02,  5.773000e+03,  1.067000e+03,  2.586540e+04,\n",
              "        3.973700e+03,  2.715500e+03,  1.977000e+03,  8.985300e+03,\n",
              "        3.211700e+03,  5.068750e+04,  8.083110e+04,  1.534500e+03,\n",
              "        9.259000e+02,  5.814800e+03,  4.836100e+03,  2.425400e+03,\n",
              "        5.594000e+02,  3.784500e+03,  1.906290e+04,  3.660900e+03,\n",
              "        9.125800e+03,  6.996700e+03,  2.512180e+04,  6.477000e+02,\n",
              "        2.021600e+03,  4.043880e+04,  4.416240e+04,  8.773000e+02,\n",
              "        5.605380e+04,  1.557380e+04,  2.308300e+03,  2.783000e+03,\n",
              "        1.106890e+04,  2.067900e+03,  1.311100e+03,  8.904000e+02])"
            ]
          },
          "metadata": {},
          "execution_count": 184
        }
      ]
    },
    {
      "cell_type": "code",
      "source": [
        "df['GDP per capita (current US$)'] = df['GDP per capita (current US$)'].replace(-99,np.nan)\n",
        "df.dropna(subset = ['GDP per capita (current US$)'],inplace=True)"
      ],
      "metadata": {
        "id": "2W2wHLcL-4-f"
      },
      "execution_count": 185,
      "outputs": []
    },
    {
      "cell_type": "code",
      "source": [
        "df['GDP per capita (current US$)'].corr(df['Life expectancy at birth (females/males, years)']) #positive correlation"
      ],
      "metadata": {
        "colab": {
          "base_uri": "https://localhost:8080/"
        },
        "id": "l5ginLSOjnyR",
        "outputId": "c83bb4d3-60c7-40bd-8f04-dae7f4ce5d72"
      },
      "execution_count": 186,
      "outputs": [
        {
          "output_type": "execute_result",
          "data": {
            "text/plain": [
              "0.6181597957673187"
            ]
          },
          "metadata": {},
          "execution_count": 186
        }
      ]
    },
    {
      "cell_type": "code",
      "source": [
        "df['GDP per capita (current US$)'].dtype"
      ],
      "metadata": {
        "colab": {
          "base_uri": "https://localhost:8080/"
        },
        "id": "jd7vQPPYESxo",
        "outputId": "98af8758-5e15-4fdf-a565-ac005d0bbb31"
      },
      "execution_count": 187,
      "outputs": [
        {
          "output_type": "execute_result",
          "data": {
            "text/plain": [
              "dtype('float64')"
            ]
          },
          "metadata": {},
          "execution_count": 187
        }
      ]
    },
    {
      "cell_type": "code",
      "source": [
        "df['Life expectancy at birth (females/males, years)'].dtype"
      ],
      "metadata": {
        "colab": {
          "base_uri": "https://localhost:8080/"
        },
        "id": "C1l72p20EYNA",
        "outputId": "a96f20b6-d54e-49ed-bcf7-a7f510a0cbc6"
      },
      "execution_count": 188,
      "outputs": [
        {
          "output_type": "execute_result",
          "data": {
            "text/plain": [
              "dtype('float64')"
            ]
          },
          "metadata": {},
          "execution_count": 188
        }
      ]
    },
    {
      "cell_type": "code",
      "source": [
        "sns.regplot(x=df['GDP per capita (current US$)'], y=df['Life expectancy at birth (females/males, years)'], scatter_kws={'alpha': 0.6}, line_kws={'color': 'red'})\n",
        "plt.show()"
      ],
      "metadata": {
        "colab": {
          "base_uri": "https://localhost:8080/",
          "height": 449
        },
        "id": "0hMgcY7QD_0C",
        "outputId": "63217863-a562-4ab5-8280-9d5b7d0ee453"
      },
      "execution_count": 189,
      "outputs": [
        {
          "output_type": "display_data",
          "data": {
            "text/plain": [
              "<Figure size 640x480 with 1 Axes>"
            ],
            "image/png": "[encoded data removed]"
          },
          "metadata": {}
        }
      ]
    },
    {
      "cell_type": "markdown",
      "source": [
        "**What is the minimum and maximum number of threatened species reported?**"
      ],
      "metadata": {
        "id": "8H_sDaCM_TJ0"
      }
    },
    {
      "cell_type": "code",
      "source": [
        "df['Threatened species (number)'].unique()"
      ],
      "metadata": {
        "colab": {
          "base_uri": "https://localhost:8080/"
        },
        "id": "7IZ4eJGb_WIy",
        "outputId": "3b7b2c2d-96a5-4b9d-c968-0da9a3ad1125"
      },
      "execution_count": 150,
      "outputs": [
        {
          "output_type": "execute_result",
          "data": {
            "text/plain": [
              "array(['2.1', '28.2', '0.8', '46.5', '22.3', '10.0', '11.7', '2.3',\n",
              "       '16.2', '46.9', '13.5', '51.4', '11.0', '14.7', '42.5', '22.6',\n",
              "       '60.1', '38.7', '20.0', '72.0', '50.8', '42.7', '19.3', '59.2',\n",
              "       '72.1', '35.1', '19.8', '10.6', '22.1', '54.3', '40.3', '38.2',\n",
              "       '35.6', '4.0', '23.4', '-99', '22.0', '52.8', '20.1', '65.4',\n",
              "       '62.9', '53.4', '34.3', '30.2', '18.7', '34.5', '42.8', '67.4',\n",
              "       '14.4', '0.2', '40.4', '0.1', '13.0', '56.3', '15.0', '52.7',\n",
              "       '12.5', '55.4', '73.1', '30.8', '42.3', '88.5', '48.1', '40.6',\n",
              "       '32.7', '40.9', '31.2', '~0.0', '50.0', '33.4', '70.5', '26.0',\n",
              "       '84.0', '3.5', '42.1', '22.8', '0.5', '23.7', '50.6', '6.6', '1.9',\n",
              "       '10.9', '7.5', '31.4', '31.0', '68.5', '1.1', '1.2', '7.7', '0.4',\n",
              "       '3.4', '80.5', '54.0', '13.4', '1.6', '43.7', '34.8', '33.5',\n",
              "       '21.5', '33.6', '67.5', '3.3', '3.9', '70.2', '19.0', '34.0',\n",
              "       '91.8', '8.1', '61.5', '12.6', '48.5', '45.3', '8.5', '0.0',\n",
              "       '25.4', '11.1', '45.9', '38.6', '25.9', '0.9', '33.2', '2.0',\n",
              "       '87.6', '62.3', '74.1', '39.4', '57.9', '26.2', '30.7', '34.9',\n",
              "       '55.5', '63.5', '12.3', '29.5', '49.8', '19.2', '69.2', '60.4',\n",
              "       '55.8', '43.2', '31.1', '88.4', '41.3', '23.1', '62.0', '78.3',\n",
              "       '10.3', '7.6', '36.8', '33.1', '1.5', '98.3', '33.8', '68.9',\n",
              "       '31.6', '2.7', '3.0', '32.0', '39.6', '3.8', '45.4', '15.1', '8.8',\n",
              "       '36.2', '16.6', '12.9', '52.4', '33.9', '10.4', '36.1', '53.1',\n",
              "       '47.2', '1.0', '65.6', '37.2'], dtype=object)"
            ]
          },
          "metadata": {},
          "execution_count": 150
        }
      ]
    },
    {
      "cell_type": "code",
      "source": [
        "df['Threatened species (number)'] = pd.to_numeric(df['Threatened species (number)'], errors='coerce')\n",
        "df['Threatened species (number)'].replace(-99,np.nan,inplace = True)\n",
        "df.dropna(subset = ['Threatened species (number)'],inplace = True)"
      ],
      "metadata": {
        "id": "4i0bI5CIaiUe"
      },
      "execution_count": 151,
      "outputs": []
    },
    {
      "cell_type": "code",
      "source": [
        "min_threatened_species = min(df['Threatened species (number)'])\n",
        "max_threatened_species = max(df['Threatened species (number)'])"
      ],
      "metadata": {
        "id": "71OxZaWyaLun"
      },
      "execution_count": 152,
      "outputs": []
    },
    {
      "cell_type": "code",
      "source": [
        "print(min_threatened_species)\n",
        "print(max_threatened_species)"
      ],
      "metadata": {
        "colab": {
          "base_uri": "https://localhost:8080/"
        },
        "id": "CAyuyJE6aX8d",
        "outputId": "9841eb85-2c42-4a96-c200-ffc262d5594f"
      },
      "execution_count": 153,
      "outputs": [
        {
          "output_type": "stream",
          "name": "stdout",
          "text": [
            "0.0\n",
            "98.3\n"
          ]
        }
      ]
    },
    {
      "cell_type": "code",
      "source": [
        "fig = px.choropleth(\n",
        "    data_frame=df,\n",
        "    locations=\"country\",\n",
        "    locationmode=\"country names\",\n",
        "    color=\"Threatened species (number)\",\n",
        "    title=\"Countries with threatened species\",\n",
        "    color_continuous_scale=\"plasma\"\n",
        ")\n",
        "fig.show()"
      ],
      "metadata": {
        "colab": {
          "base_uri": "https://localhost:8080/",
          "height": 542
        },
        "id": "hnCyJx5AAPQu",
        "outputId": "25242e87-4b33-4e51-c244-a3a95cc4870a"
      },
      "execution_count": 162,
      "outputs": [
        {
          "output_type": "display_data",
          "data": {
            "text/html": [
              "<html>\n",
              "<head><meta charset=\"utf-8\" /></head>\n",
              "<body>\n",
              "    <div>            <script src=\"https://cdnjs.cloudflare.com/ajax/libs/mathjax/2.7.5/MathJax.js?config=TeX-AMS-MML_SVG\"></script><script type=\"text/javascript\">if (window.MathJax && window.MathJax.Hub && window.MathJax.Hub.Config) {window.MathJax.Hub.Config({SVG: {font: \"STIX-Web\"}});}</script>                <script type=\"text/javascript\">window.PlotlyConfig = {MathJaxConfig: 'local'};</script>\n",
              "        <script charset=\"utf-8\" src=\"https://cdn.plot.ly/plotly-2.35.2.min.js\"></script>                <div id=\"1c86d00b-9aaf-4b7f-86df-e873fdd27de3\" class=\"plotly-graph-div\" style=\"height:525px; width:100%;\"></div>            <script type=\"text/javascript\">                                    window.PLOTLYENV=window.PLOTLYENV || {};                                    if (document.getElementById(\"1c86d00b-9aaf-4b7f-86df-e873fdd27de3\")) {                    Plotly.newPlot(                        \"1c86d00b-9aaf-4b7f-86df-e873fdd27de3\",                        [{\"coloraxis\":\"coloraxis\",\"geo\":\"geo\",\"hovertemplate\":\"country=%{location}\\u003cbr\\u003eThreatened species (number)=%{z}\\u003cextra\\u003e\\u003c\\u002fextra\\u003e\",\"locationmode\":\"country names\",\"locations\":[\"Afghanistan\",\"Albania\",\"Algeria\",\"Angola\",\"Argentina\",\"Armenia\",\"Aruba\",\"Australia\",\"Austria\",\"Azerbaijan\",\"Bahamas\",\"Bahrain\",\"Bangladesh\",\"Barbados\",\"Belarus\",\"Belgium\",\"Belize\",\"Benin\",\"Bermuda\",\"Bhutan\",\"Bolivia (Plurinational State of)\",\"Bosnia and Herzegovina\",\"Botswana\",\"Brazil\",\"Brunei Darussalam\",\"Bulgaria\",\"Burkina Faso\",\"Burundi\",\"Cabo Verde\",\"Cambodia\",\"Cameroon\",\"Canada\",\"Central African Republic\",\"Chad\",\"Chile\",\"China\",\"Colombia\",\"Comoros\",\"Congo\",\"Cook Islands\",\"Costa Rica\",\"Croatia\",\"Cuba\",\"Cyprus\",\"Czechia\",\"Democratic People's Republic of Korea\",\"Democratic Republic of the Congo\",\"Denmark\",\"Djibouti\",\"Dominican Republic\",\"Ecuador\",\"Egypt\",\"El Salvador\",\"Equatorial Guinea\",\"Eritrea\",\"Estonia\",\"Ethiopia\",\"Fiji\",\"Finland\",\"France\",\"French Polynesia\",\"Gabon\",\"Gambia\",\"Georgia\",\"Germany\",\"Ghana\",\"Greece\",\"Guatemala\",\"Guinea-Bissau\",\"Guinea\",\"Guyana\",\"Haiti\",\"Honduras\",\"Hungary\",\"Iceland\",\"India\",\"Indonesia\",\"Iran (Islamic Republic of)\",\"Iraq\",\"Ireland\",\"Israel\",\"Italy\",\"Jamaica\",\"Japan\",\"Jordan\",\"Kazakhstan\",\"Kenya\",\"Kuwait\",\"Kyrgyzstan\",\"Lao People's Democratic Republic\",\"Latvia\",\"Lebanon\",\"Lesotho\",\"Liberia\",\"Libya\",\"Lithuania\",\"Luxembourg\",\"Madagascar\",\"Malawi\",\"Malaysia\",\"Maldives\",\"Mali\",\"Malta\",\"Marshall Islands\",\"Mauritania\",\"Mauritius\",\"Mexico\",\"Mongolia\",\"Montenegro\",\"Morocco\",\"Mozambique\",\"Myanmar\",\"Namibia\",\"Nauru\",\"Nepal\",\"Netherlands\",\"New Caledonia\",\"New Zealand\",\"Nicaragua\",\"Niger\",\"Nigeria\",\"Norway\",\"Pakistan\",\"Panama\",\"Papua New Guinea\",\"Paraguay\",\"Peru\",\"Philippines\",\"Poland\",\"Portugal\",\"Puerto Rico\",\"Qatar\",\"Republic of Korea\",\"Republic of Moldova\",\"Romania\",\"Russian Federation\",\"Rwanda\",\"Saint Lucia\",\"Saint Vincent and the Grenadines\",\"Samoa\",\"Sao Tome and Principe\",\"Saudi Arabia\",\"Senegal\",\"Serbia\",\"Seychelles\",\"Sierra Leone\",\"Singapore\",\"Slovakia\",\"Slovenia\",\"Solomon Islands\",\"Somalia\",\"South Africa\",\"Spain\",\"Sri Lanka\",\"State of Palestine\",\"Suriname\",\"Swaziland\",\"Sweden\",\"Switzerland\",\"Syrian Arab Republic\",\"Tajikistan\",\"Thailand\",\"The former Yugoslav Republic of Macedonia\",\"Timor-Leste\",\"Togo\",\"Tonga\",\"Trinidad and Tobago\",\"Tunisia\",\"Turkey\",\"Turkmenistan\",\"Uganda\",\"Ukraine\",\"United Arab Emirates\",\"United Kingdom\",\"United Republic of Tanzania\",\"United States of America\",\"Uruguay\",\"Uzbekistan\",\"Vanuatu\",\"Venezuela (Bolivarian Republic of)\",\"Viet Nam\",\"Yemen\",\"Zambia\",\"Zimbabwe\"],\"name\":\"\",\"z\":[2.1,28.2,0.8,46.5,10.0,11.7,2.3,16.2,46.9,13.5,51.4,0.8,11.0,14.7,42.5,22.6,60.1,38.7,20.0,72.0,50.8,42.7,19.3,59.2,72.1,35.1,19.8,10.6,22.1,54.3,40.3,38.2,35.6,4.0,23.4,22.0,52.8,20.1,65.4,62.9,53.4,34.3,30.2,18.7,34.5,42.8,67.4,14.4,0.2,40.4,50.8,0.1,13.0,56.3,15.0,52.7,12.5,55.4,73.1,30.8,42.3,88.5,48.1,40.6,32.7,40.9,31.2,33.4,70.5,26.0,84.0,3.5,42.1,22.8,0.5,23.7,50.6,6.6,1.9,10.9,7.5,31.4,31.0,68.5,1.1,1.2,7.7,0.4,3.4,80.5,54.0,13.4,1.6,43.7,0.1,34.8,33.5,21.5,33.6,67.5,3.3,3.9,1.1,70.2,0.2,19.0,34.0,8.1,61.5,12.6,48.5,45.3,8.5,0.0,25.4,11.1,45.9,38.6,25.9,0.9,8.1,33.2,2.0,62.3,74.1,39.4,57.9,26.2,30.7,34.9,55.5,0.0,63.5,12.3,29.5,49.8,19.2,33.4,69.2,60.4,55.8,0.5,43.2,31.1,88.4,41.3,23.1,40.3,62.0,78.3,10.3,7.6,36.8,33.1,1.5,98.3,33.8,68.9,31.6,2.7,3.0,32.0,39.6,46.9,3.8,12.5,45.4,6.6,15.1,8.8,11.0,16.6,3.8,12.9,52.4,33.9,10.4,7.6,36.1,53.1,47.2,1.0,65.6,37.2],\"type\":\"choropleth\"}],                        {\"template\":{\"data\":{\"histogram2dcontour\":[{\"type\":\"histogram2dcontour\",\"colorbar\":{\"outlinewidth\":0,\"ticks\":\"\"},\"colorscale\":[[0.0,\"#0d0887\"],[0.1111111111111111,\"#46039f\"],[0.2222222222222222,\"#7201a8\"],[0.3333333333333333,\"#9c179e\"],[0.4444444444444444,\"#bd3786\"],[0.5555555555555556,\"#d8576b\"],[0.6666666666666666,\"#ed7953\"],[0.7777777777777778,\"#fb9f3a\"],[0.8888888888888888,\"#fdca26\"],[1.0,\"#f0f921\"]]}],\"choropleth\":[{\"type\":\"choropleth\",\"colorbar\":{\"outlinewidth\":0,\"ticks\":\"\"}}],\"histogram2d\":[{\"type\":\"histogram2d\",\"colorbar\":{\"outlinewidth\":0,\"ticks\":\"\"},\"colorscale\":[[0.0,\"#0d0887\"],[0.1111111111111111,\"#46039f\"],[0.2222222222222222,\"#7201a8\"],[0.3333333333333333,\"#9c179e\"],[0.4444444444444444,\"#bd3786\"],[0.5555555555555556,\"#d8576b\"],[0.6666666666666666,\"#ed7953\"],[0.7777777777777778,\"#fb9f3a\"],[0.8888888888888888,\"#fdca26\"],[1.0,\"#f0f921\"]]}],\"heatmap\":[{\"type\":\"heatmap\",\"colorbar\":{\"outlinewidth\":0,\"ticks\":\"\"},\"colorscale\":[[0.0,\"#0d0887\"],[0.1111111111111111,\"#46039f\"],[0.2222222222222222,\"#7201a8\"],[0.3333333333333333,\"#9c179e\"],[0.4444444444444444,\"#bd3786\"],[0.5555555555555556,\"#d8576b\"],[0.6666666666666666,\"#ed7953\"],[0.7777777777777778,\"#fb9f3a\"],[0.8888888888888888,\"#fdca26\"],[1.0,\"#f0f921\"]]}],\"heatmapgl\":[{\"type\":\"heatmapgl\",\"colorbar\":{\"outlinewidth\":0,\"ticks\":\"\"},\"colorscale\":[[0.0,\"#0d0887\"],[0.1111111111111111,\"#46039f\"],[0.2222222222222222,\"#7201a8\"],[0.3333333333333333,\"#9c179e\"],[0.4444444444444444,\"#bd3786\"],[0.5555555555555556,\"#d8576b\"],[0.6666666666666666,\"#ed7953\"],[0.7777777777777778,\"#fb9f3a\"],[0.8888888888888888,\"#fdca26\"],[1.0,\"#f0f921\"]]}],\"contourcarpet\":[{\"type\":\"contourcarpet\",\"colorbar\":{\"outlinewidth\":0,\"ticks\":\"\"}}],\"contour\":[{\"type\":\"contour\",\"colorbar\":{\"outlinewidth\":0,\"ticks\":\"\"},\"colorscale\":[[0.0,\"#0d0887\"],[0.1111111111111111,\"#46039f\"],[0.2222222222222222,\"#7201a8\"],[0.3333333333333333,\"#9c179e\"],[0.4444444444444444,\"#bd3786\"],[0.5555555555555556,\"#d8576b\"],[0.6666666666666666,\"#ed7953\"],[0.7777777777777778,\"#fb9f3a\"],[0.8888888888888888,\"#fdca26\"],[1.0,\"#f0f921\"]]}],\"surface\":[{\"type\":\"surface\",\"colorbar\":{\"outlinewidth\":0,\"ticks\":\"\"},\"colorscale\":[[0.0,\"#0d0887\"],[0.1111111111111111,\"#46039f\"],[0.2222222222222222,\"#7201a8\"],[0.3333333333333333,\"#9c179e\"],[0.4444444444444444,\"#bd3786\"],[0.5555555555555556,\"#d8576b\"],[0.6666666666666666,\"#ed7953\"],[0.7777777777777778,\"#fb9f3a\"],[0.8888888888888888,\"#fdca26\"],[1.0,\"#f0f921\"]]}],\"mesh3d\":[{\"type\":\"mesh3d\",\"colorbar\":{\"outlinewidth\":0,\"ticks\":\"\"}}],\"scatter\":[{\"fillpattern\":{\"fillmode\":\"overlay\",\"size\":10,\"solidity\":0.2},\"type\":\"scatter\"}],\"parcoords\":[{\"type\":\"parcoords\",\"line\":{\"colorbar\":{\"outlinewidth\":0,\"ticks\":\"\"}}}],\"scatterpolargl\":[{\"type\":\"scatterpolargl\",\"marker\":{\"colorbar\":{\"outlinewidth\":0,\"ticks\":\"\"}}}],\"bar\":[{\"error_x\":{\"color\":\"#2a3f5f\"},\"error_y\":{\"color\":\"#2a3f5f\"},\"marker\":{\"line\":{\"color\":\"#E5ECF6\",\"width\":0.5},\"pattern\":{\"fillmode\":\"overlay\",\"size\":10,\"solidity\":0.2}},\"type\":\"bar\"}],\"scattergeo\":[{\"type\":\"scattergeo\",\"marker\":{\"colorbar\":{\"outlinewidth\":0,\"ticks\":\"\"}}}],\"scatterpolar\":[{\"type\":\"scatterpolar\",\"marker\":{\"colorbar\":{\"outlinewidth\":0,\"ticks\":\"\"}}}],\"histogram\":[{\"marker\":{\"pattern\":{\"fillmode\":\"overlay\",\"size\":10,\"solidity\":0.2}},\"type\":\"histogram\"}],\"scattergl\":[{\"type\":\"scattergl\",\"marker\":{\"colorbar\":{\"outlinewidth\":0,\"ticks\":\"\"}}}],\"scatter3d\":[{\"type\":\"scatter3d\",\"line\":{\"colorbar\":{\"outlinewidth\":0,\"ticks\":\"\"}},\"marker\":{\"colorbar\":{\"outlinewidth\":0,\"ticks\":\"\"}}}],\"scattermapbox\":[{\"type\":\"scattermapbox\",\"marker\":{\"colorbar\":{\"outlinewidth\":0,\"ticks\":\"\"}}}],\"scatterternary\":[{\"type\":\"scatterternary\",\"marker\":{\"colorbar\":{\"outlinewidth\":0,\"ticks\":\"\"}}}],\"scattercarpet\":[{\"type\":\"scattercarpet\",\"marker\":{\"colorbar\":{\"outlinewidth\":0,\"ticks\":\"\"}}}],\"carpet\":[{\"aaxis\":{\"endlinecolor\":\"#2a3f5f\",\"gridcolor\":\"white\",\"linecolor\":\"white\",\"minorgridcolor\":\"white\",\"startlinecolor\":\"#2a3f5f\"},\"baxis\":{\"endlinecolor\":\"#2a3f5f\",\"gridcolor\":\"white\",\"linecolor\":\"white\",\"minorgridcolor\":\"white\",\"startlinecolor\":\"#2a3f5f\"},\"type\":\"carpet\"}],\"table\":[{\"cells\":{\"fill\":{\"color\":\"#EBF0F8\"},\"line\":{\"color\":\"white\"}},\"header\":{\"fill\":{\"color\":\"#C8D4E3\"},\"line\":{\"color\":\"white\"}},\"type\":\"table\"}],\"barpolar\":[{\"marker\":{\"line\":{\"color\":\"#E5ECF6\",\"width\":0.5},\"pattern\":{\"fillmode\":\"overlay\",\"size\":10,\"solidity\":0.2}},\"type\":\"barpolar\"}],\"pie\":[{\"automargin\":true,\"type\":\"pie\"}]},\"layout\":{\"autotypenumbers\":\"strict\",\"colorway\":[\"#636efa\",\"#EF553B\",\"#00cc96\",\"#ab63fa\",\"#FFA15A\",\"#19d3f3\",\"#FF6692\",\"#B6E880\",\"#FF97FF\",\"#FECB52\"],\"font\":{\"color\":\"#2a3f5f\"},\"hovermode\":\"closest\",\"hoverlabel\":{\"align\":\"left\"},\"paper_bgcolor\":\"white\",\"plot_bgcolor\":\"#E5ECF6\",\"polar\":{\"bgcolor\":\"#E5ECF6\",\"angularaxis\":{\"gridcolor\":\"white\",\"linecolor\":\"white\",\"ticks\":\"\"},\"radialaxis\":{\"gridcolor\":\"white\",\"linecolor\":\"white\",\"ticks\":\"\"}},\"ternary\":{\"bgcolor\":\"#E5ECF6\",\"aaxis\":{\"gridcolor\":\"white\",\"linecolor\":\"white\",\"ticks\":\"\"},\"baxis\":{\"gridcolor\":\"white\",\"linecolor\":\"white\",\"ticks\":\"\"},\"caxis\":{\"gridcolor\":\"white\",\"linecolor\":\"white\",\"ticks\":\"\"}},\"coloraxis\":{\"colorbar\":{\"outlinewidth\":0,\"ticks\":\"\"}},\"colorscale\":{\"sequential\":[[0.0,\"#0d0887\"],[0.1111111111111111,\"#46039f\"],[0.2222222222222222,\"#7201a8\"],[0.3333333333333333,\"#9c179e\"],[0.4444444444444444,\"#bd3786\"],[0.5555555555555556,\"#d8576b\"],[0.6666666666666666,\"#ed7953\"],[0.7777777777777778,\"#fb9f3a\"],[0.8888888888888888,\"#fdca26\"],[1.0,\"#f0f921\"]],\"sequentialminus\":[[0.0,\"#0d0887\"],[0.1111111111111111,\"#46039f\"],[0.2222222222222222,\"#7201a8\"],[0.3333333333333333,\"#9c179e\"],[0.4444444444444444,\"#bd3786\"],[0.5555555555555556,\"#d8576b\"],[0.6666666666666666,\"#ed7953\"],[0.7777777777777778,\"#fb9f3a\"],[0.8888888888888888,\"#fdca26\"],[1.0,\"#f0f921\"]],\"diverging\":[[0,\"#8e0152\"],[0.1,\"#c51b7d\"],[0.2,\"#de77ae\"],[0.3,\"#f1b6da\"],[0.4,\"#fde0ef\"],[0.5,\"#f7f7f7\"],[0.6,\"#e6f5d0\"],[0.7,\"#b8e186\"],[0.8,\"#7fbc41\"],[0.9,\"#4d9221\"],[1,\"#276419\"]]},\"xaxis\":{\"gridcolor\":\"white\",\"linecolor\":\"white\",\"ticks\":\"\",\"title\":{\"standoff\":15},\"zerolinecolor\":\"white\",\"automargin\":true,\"zerolinewidth\":2},\"yaxis\":{\"gridcolor\":\"white\",\"linecolor\":\"white\",\"ticks\":\"\",\"title\":{\"standoff\":15},\"zerolinecolor\":\"white\",\"automargin\":true,\"zerolinewidth\":2},\"scene\":{\"xaxis\":{\"backgroundcolor\":\"#E5ECF6\",\"gridcolor\":\"white\",\"linecolor\":\"white\",\"showbackground\":true,\"ticks\":\"\",\"zerolinecolor\":\"white\",\"gridwidth\":2},\"yaxis\":{\"backgroundcolor\":\"#E5ECF6\",\"gridcolor\":\"white\",\"linecolor\":\"white\",\"showbackground\":true,\"ticks\":\"\",\"zerolinecolor\":\"white\",\"gridwidth\":2},\"zaxis\":{\"backgroundcolor\":\"#E5ECF6\",\"gridcolor\":\"white\",\"linecolor\":\"white\",\"showbackground\":true,\"ticks\":\"\",\"zerolinecolor\":\"white\",\"gridwidth\":2}},\"shapedefaults\":{\"line\":{\"color\":\"#2a3f5f\"}},\"annotationdefaults\":{\"arrowcolor\":\"#2a3f5f\",\"arrowhead\":0,\"arrowwidth\":1},\"geo\":{\"bgcolor\":\"white\",\"landcolor\":\"#E5ECF6\",\"subunitcolor\":\"white\",\"showland\":true,\"showlakes\":true,\"lakecolor\":\"white\"},\"title\":{\"x\":0.05},\"mapbox\":{\"style\":\"light\"}}},\"geo\":{\"domain\":{\"x\":[0.0,1.0],\"y\":[0.0,1.0]},\"center\":{}},\"coloraxis\":{\"colorbar\":{\"title\":{\"text\":\"Threatened species (number)\"}},\"colorscale\":[[0.0,\"#0d0887\"],[0.1111111111111111,\"#46039f\"],[0.2222222222222222,\"#7201a8\"],[0.3333333333333333,\"#9c179e\"],[0.4444444444444444,\"#bd3786\"],[0.5555555555555556,\"#d8576b\"],[0.6666666666666666,\"#ed7953\"],[0.7777777777777778,\"#fb9f3a\"],[0.8888888888888888,\"#fdca26\"],[1.0,\"#f0f921\"]]},\"legend\":{\"tracegroupgap\":0},\"title\":{\"text\":\"Countries with threatened species\"}},                        {\"responsive\": true}                    ).then(function(){\n",
              "                            \n",
              "var gd = document.getElementById('1c86d00b-9aaf-4b7f-86df-e873fdd27de3');\n",
              "var x = new MutationObserver(function (mutations, observer) {{\n",
              "        var display = window.getComputedStyle(gd).display;\n",
              "        if (!display || display === 'none') {{\n",
              "            console.log([gd, 'removed!']);\n",
              "            Plotly.purge(gd);\n",
              "            observer.disconnect();\n",
              "        }}\n",
              "}});\n",
              "\n",
              "// Listen for the removal of the full notebook cells\n",
              "var notebookContainer = gd.closest('#notebook-container');\n",
              "if (notebookContainer) {{\n",
              "    x.observe(notebookContainer, {childList: true});\n",
              "}}\n",
              "\n",
              "// Listen for the clearing of the current output cell\n",
              "var outputEl = gd.closest('.output');\n",
              "if (outputEl) {{\n",
              "    x.observe(outputEl, {childList: true});\n",
              "}}\n",
              "\n",
              "                        })                };                            </script>        </div>\n",
              "</body>\n",
              "</html>"
            ]
          },
          "metadata": {}
        }
      ]
    },
    {
      "cell_type": "markdown",
      "source": [
        "**What proportion of countries have a labor force participation rate above 60%?**"
      ],
      "metadata": {
        "id": "Hey0Dq8f_1Xs"
      }
    },
    {
      "cell_type": "code",
      "source": [
        "df['Labour force participation (female/male pop. %)'].unique()"
      ],
      "metadata": {
        "colab": {
          "base_uri": "https://localhost:8080/"
        },
        "id": "nVu7uIj2TK8k",
        "outputId": "b3241087-8034-4fc5-d728-3a7d5a859053"
      },
      "execution_count": 190,
      "outputs": [
        {
          "output_type": "execute_result",
          "data": {
            "text/plain": [
              "array(['19.3/83.6', '40.2/61.0', '17.0/70.7', '59.8/77.1', '48.6/74.4',\n",
              "       '55.3/74.2', '58.8/69.6', '58.4/70.7', '54.6/65.8', '62.0/68.8',\n",
              "       '69.4/79.1', '38.5/84.9', '43.2/81.1', '61.8/70.0', '54.0/67.8',\n",
              "       '48.1/58.9', '56.7/83.8', '70.0/73.4', '72.6/80.0', '59.4/73.5',\n",
              "       '64.1/82.6', '34.3/57.5', '73.6/81.6', '56.0/78.2', '50.6/75.0',\n",
              "       '48.5/60.1', '76.5/90.5', '84.6/82.7', '53.7/84.6', '75.6/87.0',\n",
              "       '71.1/81.2', '60.7/69.9', '71.9/84.6', '64.0/79.3', '50.7/74.7',\n",
              "       '65.6/76.4', '63.0/77.7', '58.0/79.8', '35.7/79.5', '67.1/72.6',\n",
              "       '46.9/76.5', '46.3/58.4', '42.1/68.3', '57.8/70.4', '51.3/67.8',\n",
              "       '73.6/85.9', '70.4/71.8', '58.1/66.0', '36.5/68.5', '52.3/78.6',\n",
              "       '49.1/79.9', '23.1/76.2', '49.5/79.5', '71.5/91.8', '77.8/90.1',\n",
              "       '55.4/69.4', '77.1/89.1', '37.0/71.2', '54.5/61.7', '50.3/59.4',\n",
              "       '46.4/63.0', '40.7/58.3', '72.2/82.6', '57.9/79.0', '54.5/66.1',\n",
              "       '75.7/78.8', '44.1/60.1', '-99', '41.7/84.0', '67.4/78.5',\n",
              "       '79.4/85.1', '41.9/77.0', '62.0/71.7', '47.6/84.5', '46.6/62.4',\n",
              "       '70.3/77.2', '27.0/79.1', '51.0/83.7', '16.3/73.2', '15.3/69.9',\n",
              "       '51.9/67.1', '58.5/69.0', '39.2/57.8', '58.1/72.7', '48.9/69.7',\n",
              "       '14.5/64.5', '66.3/77.5', '62.4/72.4', '.../...', '47.7/83.6',\n",
              "       '49.7/77.5', '77.9/77.8', '54.5/67.7', '23.8/70.6', '59.7/74.6',\n",
              "       '57.9/64.1', '27.8/78.4', '54.1/66.1', '52.0/65.5', '83.8/89.0',\n",
              "       '81.3/81.0', '49.3/77.8', '57.8/79.6', '50.5/82.3', '39.4/65.7',\n",
              "       '29.0/53.3', '29.3/65.5', '46.9/74.3', '45.5/79.5', '56.8/69.3',\n",
              "       '41.8/55.9', '25.6/74.5', '82.2/75.6', '74.7/80.8', '56.4/64.3',\n",
              "       '49.3/78.9', '79.7/86.7', '57.3/69.7', '45.5/66.9', '62.1/72.8',\n",
              "       '49.6/80.6', '40.4/89.2', '48.5/64.3', '61.1/68.3', '30.1/85.4',\n",
              "       '24.8/82.5', '50.5/80.4', '69.6/71.2', '58.3/84.7', '66.1/82.8',\n",
              "       '50.8/78.9', '49.1/64.9', '53.3/63.7', '34.4/51.7', '53.1/93.6',\n",
              "       '50.2/71.9', '39.1/46.5', '47.3/64.5', '56.3/71.3', '86.1/83.3',\n",
              "       '63.1/76.6', '56.4/76.9', '23.3/58.2', '45.4/76.2', '20.0/78.5',\n",
              "       '45.3/70.5', '43.4/59.9', '61.9/68.3', '65.1/68.8', '57.8/76.1',\n",
              "       '51.4/68.0', '51.8/62.2', '61.1/73.5', '33.3/75.9', '46.4/61.1',\n",
              "       '52.1/64.2', '30.4/75.0', '18.4/69.7', '24.4/72.2', '40.5/68.6',\n",
              "       '40.6/65.1', '60.7/68.0', '62.5/74.5', '12.4/70.9', '59.6/77.9',\n",
              "       '62.7/79.8', '43.9/67.8', '26.9/55.6', '81.0/80.7', '52.9/73.9',\n",
              "       '52.4/73.2', '25.1/71.3', '30.4/71.4', '47.3/77.7', '82.3/87.7',\n",
              "       '52.3/67.5', '41.7/90.8', '57.0/68.6', '73.9/83.2', '55.7/68.1',\n",
              "       '55.6/76.3', '48.5/76.6', '61.7/80.5', '51.5/78.3', '73.9/83.3',\n",
              "       '26.2/73.7', '69.9/80.9', '78.0/87.5'], dtype=object)"
            ]
          },
          "metadata": {},
          "execution_count": 190
        }
      ]
    },
    {
      "cell_type": "code",
      "source": [
        "df['Labour force participation (female/male pop. %)'] = df['Labour force participation (female/male pop. %)'].replace(['-99','.../...'],np.nan)\n",
        "df.dropna(subset = ['Labour force participation (female/male pop. %)'],inplace=True)\n",
        "df['Labour force participation (female/male pop. %)'] = df['Labour force participation (female/male pop. %)'].apply(lambda x: (sum(map(float,x.split('/')))/2) if isinstance(x,str) and '/' in x else float(x))\n",
        "(df['Labour force participation (female/male pop. %)'] > 60).mean()*100"
      ],
      "metadata": {
        "colab": {
          "base_uri": "https://localhost:8080/"
        },
        "id": "qjQTJrq6aef-",
        "outputId": "9162673b-5b78-4933-f463-bf7ef11c124d"
      },
      "execution_count": 191,
      "outputs": [
        {
          "output_type": "execute_result",
          "data": {
            "text/plain": [
              "65.05376344086021"
            ]
          },
          "metadata": {},
          "execution_count": 191
        }
      ]
    },
    {
      "cell_type": "code",
      "source": [
        "fig = px.choropleth(\n",
        "    data_frame=df,\n",
        "    locations=\"country\",\n",
        "    locationmode=\"country names\",\n",
        "    color=\"Labour force participation (female/male pop. %)\",\n",
        "    title=\"Average Labour Force Participation of Countries\",\n",
        "    color_continuous_scale=\"plasma\"\n",
        ")\n",
        "fig.show()"
      ],
      "metadata": {
        "colab": {
          "base_uri": "https://localhost:8080/",
          "height": 542
        },
        "id": "pwsDRUGjEmF-",
        "outputId": "9911750a-dbb7-497e-9a68-6093bf14dbef"
      },
      "execution_count": 193,
      "outputs": [
        {
          "output_type": "display_data",
          "data": {
            "text/html": [
              "<html>\n",
              "<head><meta charset=\"utf-8\" /></head>\n",
              "<body>\n",
              "    <div>            <script src=\"https://cdnjs.cloudflare.com/ajax/libs/mathjax/2.7.5/MathJax.js?config=TeX-AMS-MML_SVG\"></script><script type=\"text/javascript\">if (window.MathJax && window.MathJax.Hub && window.MathJax.Hub.Config) {window.MathJax.Hub.Config({SVG: {font: \"STIX-Web\"}});}</script>                <script type=\"text/javascript\">window.PlotlyConfig = {MathJaxConfig: 'local'};</script>\n",
              "        <script charset=\"utf-8\" src=\"https://cdn.plot.ly/plotly-2.35.2.min.js\"></script>                <div id=\"348e76c5-8059-4b8f-bee7-f9510d6484b0\" class=\"plotly-graph-div\" style=\"height:525px; width:100%;\"></div>            <script type=\"text/javascript\">                                    window.PLOTLYENV=window.PLOTLYENV || {};                                    if (document.getElementById(\"348e76c5-8059-4b8f-bee7-f9510d6484b0\")) {                    Plotly.newPlot(                        \"348e76c5-8059-4b8f-bee7-f9510d6484b0\",                        [{\"coloraxis\":\"coloraxis\",\"geo\":\"geo\",\"hovertemplate\":\"country=%{location}\\u003cbr\\u003eLabour force participation (female\\u002fmale pop. %)=%{z}\\u003cextra\\u003e\\u003c\\u002fextra\\u003e\",\"locationmode\":\"country names\",\"locations\":[\"Afghanistan\",\"Albania\",\"Algeria\",\"Angola\",\"Argentina\",\"Armenia\",\"Aruba\",\"Australia\",\"Austria\",\"Azerbaijan\",\"Bahamas\",\"Bahrain\",\"Bangladesh\",\"Barbados\",\"Belarus\",\"Belgium\",\"Belize\",\"Benin\",\"Bermuda\",\"Bhutan\",\"Bolivia (Plurinational State of)\",\"Bosnia and Herzegovina\",\"Botswana\",\"Brazil\",\"Brunei Darussalam\",\"Bulgaria\",\"Burkina Faso\",\"Burundi\",\"Cabo Verde\",\"Cambodia\",\"Cameroon\",\"Canada\",\"Central African Republic\",\"Chad\",\"Chile\",\"China, Macao SAR\",\"China\",\"Colombia\",\"Comoros\",\"Congo\",\"Costa Rica\",\"Croatia\",\"Cuba\",\"Cyprus\",\"Czechia\",\"Democratic People's Republic of Korea\",\"Democratic Republic of the Congo\",\"Denmark\",\"Djibouti\",\"Dominican Republic\",\"Ecuador\",\"Egypt\",\"El Salvador\",\"Equatorial Guinea\",\"Eritrea\",\"Estonia\",\"Ethiopia\",\"Fiji\",\"Finland\",\"France\",\"French Polynesia\",\"Gabon\",\"Gambia\",\"Georgia\",\"Germany\",\"Ghana\",\"Greece\",\"Guatemala\",\"Guinea-Bissau\",\"Guinea\",\"Guyana\",\"Haiti\",\"Honduras\",\"Hungary\",\"Iceland\",\"India\",\"Indonesia\",\"Iran (Islamic Republic of)\",\"Iraq\",\"Ireland\",\"Israel\",\"Italy\",\"Jamaica\",\"Japan\",\"Jordan\",\"Kazakhstan\",\"Kenya\",\"Kuwait\",\"Kyrgyzstan\",\"Lao People's Democratic Republic\",\"Latvia\",\"Lebanon\",\"Lesotho\",\"Liberia\",\"Libya\",\"Lithuania\",\"Luxembourg\",\"Madagascar\",\"Malawi\",\"Malaysia\",\"Maldives\",\"Mali\",\"Malta\",\"Marshall Islands\",\"Mauritania\",\"Mauritius\",\"Mexico\",\"Mongolia\",\"Montenegro\",\"Morocco\",\"Mozambique\",\"Myanmar\",\"Namibia\",\"Nauru\",\"Nepal\",\"Netherlands\",\"New Caledonia\",\"New Zealand\",\"Nicaragua\",\"Niger\",\"Nigeria\",\"Norway\",\"Oman\",\"Pakistan\",\"Panama\",\"Papua New Guinea\",\"Paraguay\",\"Peru\",\"Philippines\",\"Poland\",\"Portugal\",\"Puerto Rico\",\"Qatar\",\"Republic of Korea\",\"Republic of Moldova\",\"Romania\",\"Russian Federation\",\"Rwanda\",\"Saint Lucia\",\"Saint Vincent and the Grenadines\",\"Samoa\",\"Sao Tome and Principe\",\"Saudi Arabia\",\"Senegal\",\"Serbia\",\"Seychelles\",\"Sierra Leone\",\"Singapore\",\"Slovakia\",\"Slovenia\",\"Solomon Islands\",\"Somalia\",\"South Africa\",\"Spain\",\"Sri Lanka\",\"State of Palestine\",\"Sudan\",\"Suriname\",\"Swaziland\",\"Sweden\",\"Switzerland\",\"Syrian Arab Republic\",\"Tajikistan\",\"Thailand\",\"The former Yugoslav Republic of Macedonia\",\"Timor-Leste\",\"Togo\",\"Tonga\",\"Trinidad and Tobago\",\"Tunisia\",\"Turkey\",\"Turkmenistan\",\"Uganda\",\"Ukraine\",\"United Arab Emirates\",\"United Kingdom\",\"United Republic of Tanzania\",\"United States of America\",\"Uruguay\",\"Uzbekistan\",\"Vanuatu\",\"Venezuela (Bolivarian Republic of)\",\"Viet Nam\",\"Yemen\",\"Zambia\",\"Zimbabwe\"],\"name\":\"\",\"z\":[51.449999999999996,50.6,43.85,68.44999999999999,61.5,64.75,64.19999999999999,64.55,60.2,65.4,74.25,61.7,62.15,65.9,60.9,53.5,70.25,71.7,76.3,66.45,73.35,45.9,77.6,67.1,62.8,54.3,83.5,83.65,69.15,81.3,76.15,65.30000000000001,78.25,71.65,62.7,71.0,70.35,68.9,57.6,69.85,61.7,52.349999999999994,55.2,64.1,59.55,79.75,71.1,62.05,52.5,65.44999999999999,64.5,49.650000000000006,64.5,81.65,83.94999999999999,62.400000000000006,83.1,54.1,58.1,54.849999999999994,54.7,49.5,77.4,68.45,60.3,77.25,52.1,62.85,72.95,82.25,59.45,66.85,66.05,54.5,73.75,53.05,67.35,44.75,42.6,59.5,63.75,48.5,65.4,59.3,39.5,71.9,67.4,65.65,63.6,77.85,61.1,47.199999999999996,67.15,61.0,53.1,60.099999999999994,58.75,86.4,81.15,63.55,68.69999999999999,66.4,52.55,41.15,47.4,60.599999999999994,62.5,63.05,48.849999999999994,50.05,78.9,77.75,60.349999999999994,64.1,83.2,63.5,56.2,67.45,65.1,64.8,56.4,64.7,57.75,53.65,65.45,70.4,71.5,74.44999999999999,64.85,57.0,58.5,43.05,73.35,61.050000000000004,42.8,55.9,63.8,84.69999999999999,69.85,66.65,40.75,60.8,49.25,57.9,51.65,65.1,66.94999999999999,66.94999999999999,59.7,57.0,67.3,54.6,53.75,58.150000000000006,52.7,44.05,48.3,54.55,52.849999999999994,64.35,68.5,41.650000000000006,68.75,71.25,55.849999999999994,41.25,80.85,63.400000000000006,62.8,48.2,50.900000000000006,62.5,85.0,59.9,66.25,62.8,78.55000000000001,61.9,65.95,62.55,71.1,64.9,78.6,49.95,75.4,82.75],\"type\":\"choropleth\"}],                        {\"template\":{\"data\":{\"histogram2dcontour\":[{\"type\":\"histogram2dcontour\",\"colorbar\":{\"outlinewidth\":0,\"ticks\":\"\"},\"colorscale\":[[0.0,\"#0d0887\"],[0.1111111111111111,\"#46039f\"],[0.2222222222222222,\"#7201a8\"],[0.3333333333333333,\"#9c179e\"],[0.4444444444444444,\"#bd3786\"],[0.5555555555555556,\"#d8576b\"],[0.6666666666666666,\"#ed7953\"],[0.7777777777777778,\"#fb9f3a\"],[0.8888888888888888,\"#fdca26\"],[1.0,\"#f0f921\"]]}],\"choropleth\":[{\"type\":\"choropleth\",\"colorbar\":{\"outlinewidth\":0,\"ticks\":\"\"}}],\"histogram2d\":[{\"type\":\"histogram2d\",\"colorbar\":{\"outlinewidth\":0,\"ticks\":\"\"},\"colorscale\":[[0.0,\"#0d0887\"],[0.1111111111111111,\"#46039f\"],[0.2222222222222222,\"#7201a8\"],[0.3333333333333333,\"#9c179e\"],[0.4444444444444444,\"#bd3786\"],[0.5555555555555556,\"#d8576b\"],[0.6666666666666666,\"#ed7953\"],[0.7777777777777778,\"#fb9f3a\"],[0.8888888888888888,\"#fdca26\"],[1.0,\"#f0f921\"]]}],\"heatmap\":[{\"type\":\"heatmap\",\"colorbar\":{\"outlinewidth\":0,\"ticks\":\"\"},\"colorscale\":[[0.0,\"#0d0887\"],[0.1111111111111111,\"#46039f\"],[0.2222222222222222,\"#7201a8\"],[0.3333333333333333,\"#9c179e\"],[0.4444444444444444,\"#bd3786\"],[0.5555555555555556,\"#d8576b\"],[0.6666666666666666,\"#ed7953\"],[0.7777777777777778,\"#fb9f3a\"],[0.8888888888888888,\"#fdca26\"],[1.0,\"#f0f921\"]]}],\"heatmapgl\":[{\"type\":\"heatmapgl\",\"colorbar\":{\"outlinewidth\":0,\"ticks\":\"\"},\"colorscale\":[[0.0,\"#0d0887\"],[0.1111111111111111,\"#46039f\"],[0.2222222222222222,\"#7201a8\"],[0.3333333333333333,\"#9c179e\"],[0.4444444444444444,\"#bd3786\"],[0.5555555555555556,\"#d8576b\"],[0.6666666666666666,\"#ed7953\"],[0.7777777777777778,\"#fb9f3a\"],[0.8888888888888888,\"#fdca26\"],[1.0,\"#f0f921\"]]}],\"contourcarpet\":[{\"type\":\"contourcarpet\",\"colorbar\":{\"outlinewidth\":0,\"ticks\":\"\"}}],\"contour\":[{\"type\":\"contour\",\"colorbar\":{\"outlinewidth\":0,\"ticks\":\"\"},\"colorscale\":[[0.0,\"#0d0887\"],[0.1111111111111111,\"#46039f\"],[0.2222222222222222,\"#7201a8\"],[0.3333333333333333,\"#9c179e\"],[0.4444444444444444,\"#bd3786\"],[0.5555555555555556,\"#d8576b\"],[0.6666666666666666,\"#ed7953\"],[0.7777777777777778,\"#fb9f3a\"],[0.8888888888888888,\"#fdca26\"],[1.0,\"#f0f921\"]]}],\"surface\":[{\"type\":\"surface\",\"colorbar\":{\"outlinewidth\":0,\"ticks\":\"\"},\"colorscale\":[[0.0,\"#0d0887\"],[0.1111111111111111,\"#46039f\"],[0.2222222222222222,\"#7201a8\"],[0.3333333333333333,\"#9c179e\"],[0.4444444444444444,\"#bd3786\"],[0.5555555555555556,\"#d8576b\"],[0.6666666666666666,\"#ed7953\"],[0.7777777777777778,\"#fb9f3a\"],[0.8888888888888888,\"#fdca26\"],[1.0,\"#f0f921\"]]}],\"mesh3d\":[{\"type\":\"mesh3d\",\"colorbar\":{\"outlinewidth\":0,\"ticks\":\"\"}}],\"scatter\":[{\"fillpattern\":{\"fillmode\":\"overlay\",\"size\":10,\"solidity\":0.2},\"type\":\"scatter\"}],\"parcoords\":[{\"type\":\"parcoords\",\"line\":{\"colorbar\":{\"outlinewidth\":0,\"ticks\":\"\"}}}],\"scatterpolargl\":[{\"type\":\"scatterpolargl\",\"marker\":{\"colorbar\":{\"outlinewidth\":0,\"ticks\":\"\"}}}],\"bar\":[{\"error_x\":{\"color\":\"#2a3f5f\"},\"error_y\":{\"color\":\"#2a3f5f\"},\"marker\":{\"line\":{\"color\":\"#E5ECF6\",\"width\":0.5},\"pattern\":{\"fillmode\":\"overlay\",\"size\":10,\"solidity\":0.2}},\"type\":\"bar\"}],\"scattergeo\":[{\"type\":\"scattergeo\",\"marker\":{\"colorbar\":{\"outlinewidth\":0,\"ticks\":\"\"}}}],\"scatterpolar\":[{\"type\":\"scatterpolar\",\"marker\":{\"colorbar\":{\"outlinewidth\":0,\"ticks\":\"\"}}}],\"histogram\":[{\"marker\":{\"pattern\":{\"fillmode\":\"overlay\",\"size\":10,\"solidity\":0.2}},\"type\":\"histogram\"}],\"scattergl\":[{\"type\":\"scattergl\",\"marker\":{\"colorbar\":{\"outlinewidth\":0,\"ticks\":\"\"}}}],\"scatter3d\":[{\"type\":\"scatter3d\",\"line\":{\"colorbar\":{\"outlinewidth\":0,\"ticks\":\"\"}},\"marker\":{\"colorbar\":{\"outlinewidth\":0,\"ticks\":\"\"}}}],\"scattermapbox\":[{\"type\":\"scattermapbox\",\"marker\":{\"colorbar\":{\"outlinewidth\":0,\"ticks\":\"\"}}}],\"scatterternary\":[{\"type\":\"scatterternary\",\"marker\":{\"colorbar\":{\"outlinewidth\":0,\"ticks\":\"\"}}}],\"scattercarpet\":[{\"type\":\"scattercarpet\",\"marker\":{\"colorbar\":{\"outlinewidth\":0,\"ticks\":\"\"}}}],\"carpet\":[{\"aaxis\":{\"endlinecolor\":\"#2a3f5f\",\"gridcolor\":\"white\",\"linecolor\":\"white\",\"minorgridcolor\":\"white\",\"startlinecolor\":\"#2a3f5f\"},\"baxis\":{\"endlinecolor\":\"#2a3f5f\",\"gridcolor\":\"white\",\"linecolor\":\"white\",\"minorgridcolor\":\"white\",\"startlinecolor\":\"#2a3f5f\"},\"type\":\"carpet\"}],\"table\":[{\"cells\":{\"fill\":{\"color\":\"#EBF0F8\"},\"line\":{\"color\":\"white\"}},\"header\":{\"fill\":{\"color\":\"#C8D4E3\"},\"line\":{\"color\":\"white\"}},\"type\":\"table\"}],\"barpolar\":[{\"marker\":{\"line\":{\"color\":\"#E5ECF6\",\"width\":0.5},\"pattern\":{\"fillmode\":\"overlay\",\"size\":10,\"solidity\":0.2}},\"type\":\"barpolar\"}],\"pie\":[{\"automargin\":true,\"type\":\"pie\"}]},\"layout\":{\"autotypenumbers\":\"strict\",\"colorway\":[\"#636efa\",\"#EF553B\",\"#00cc96\",\"#ab63fa\",\"#FFA15A\",\"#19d3f3\",\"#FF6692\",\"#B6E880\",\"#FF97FF\",\"#FECB52\"],\"font\":{\"color\":\"#2a3f5f\"},\"hovermode\":\"closest\",\"hoverlabel\":{\"align\":\"left\"},\"paper_bgcolor\":\"white\",\"plot_bgcolor\":\"#E5ECF6\",\"polar\":{\"bgcolor\":\"#E5ECF6\",\"angularaxis\":{\"gridcolor\":\"white\",\"linecolor\":\"white\",\"ticks\":\"\"},\"radialaxis\":{\"gridcolor\":\"white\",\"linecolor\":\"white\",\"ticks\":\"\"}},\"ternary\":{\"bgcolor\":\"#E5ECF6\",\"aaxis\":{\"gridcolor\":\"white\",\"linecolor\":\"white\",\"ticks\":\"\"},\"baxis\":{\"gridcolor\":\"white\",\"linecolor\":\"white\",\"ticks\":\"\"},\"caxis\":{\"gridcolor\":\"white\",\"linecolor\":\"white\",\"ticks\":\"\"}},\"coloraxis\":{\"colorbar\":{\"outlinewidth\":0,\"ticks\":\"\"}},\"colorscale\":{\"sequential\":[[0.0,\"#0d0887\"],[0.1111111111111111,\"#46039f\"],[0.2222222222222222,\"#7201a8\"],[0.3333333333333333,\"#9c179e\"],[0.4444444444444444,\"#bd3786\"],[0.5555555555555556,\"#d8576b\"],[0.6666666666666666,\"#ed7953\"],[0.7777777777777778,\"#fb9f3a\"],[0.8888888888888888,\"#fdca26\"],[1.0,\"#f0f921\"]],\"sequentialminus\":[[0.0,\"#0d0887\"],[0.1111111111111111,\"#46039f\"],[0.2222222222222222,\"#7201a8\"],[0.3333333333333333,\"#9c179e\"],[0.4444444444444444,\"#bd3786\"],[0.5555555555555556,\"#d8576b\"],[0.6666666666666666,\"#ed7953\"],[0.7777777777777778,\"#fb9f3a\"],[0.8888888888888888,\"#fdca26\"],[1.0,\"#f0f921\"]],\"diverging\":[[0,\"#8e0152\"],[0.1,\"#c51b7d\"],[0.2,\"#de77ae\"],[0.3,\"#f1b6da\"],[0.4,\"#fde0ef\"],[0.5,\"#f7f7f7\"],[0.6,\"#e6f5d0\"],[0.7,\"#b8e186\"],[0.8,\"#7fbc41\"],[0.9,\"#4d9221\"],[1,\"#276419\"]]},\"xaxis\":{\"gridcolor\":\"white\",\"linecolor\":\"white\",\"ticks\":\"\",\"title\":{\"standoff\":15},\"zerolinecolor\":\"white\",\"automargin\":true,\"zerolinewidth\":2},\"yaxis\":{\"gridcolor\":\"white\",\"linecolor\":\"white\",\"ticks\":\"\",\"title\":{\"standoff\":15},\"zerolinecolor\":\"white\",\"automargin\":true,\"zerolinewidth\":2},\"scene\":{\"xaxis\":{\"backgroundcolor\":\"#E5ECF6\",\"gridcolor\":\"white\",\"linecolor\":\"white\",\"showbackground\":true,\"ticks\":\"\",\"zerolinecolor\":\"white\",\"gridwidth\":2},\"yaxis\":{\"backgroundcolor\":\"#E5ECF6\",\"gridcolor\":\"white\",\"linecolor\":\"white\",\"showbackground\":true,\"ticks\":\"\",\"zerolinecolor\":\"white\",\"gridwidth\":2},\"zaxis\":{\"backgroundcolor\":\"#E5ECF6\",\"gridcolor\":\"white\",\"linecolor\":\"white\",\"showbackground\":true,\"ticks\":\"\",\"zerolinecolor\":\"white\",\"gridwidth\":2}},\"shapedefaults\":{\"line\":{\"color\":\"#2a3f5f\"}},\"annotationdefaults\":{\"arrowcolor\":\"#2a3f5f\",\"arrowhead\":0,\"arrowwidth\":1},\"geo\":{\"bgcolor\":\"white\",\"landcolor\":\"#E5ECF6\",\"subunitcolor\":\"white\",\"showland\":true,\"showlakes\":true,\"lakecolor\":\"white\"},\"title\":{\"x\":0.05},\"mapbox\":{\"style\":\"light\"}}},\"geo\":{\"domain\":{\"x\":[0.0,1.0],\"y\":[0.0,1.0]},\"center\":{}},\"coloraxis\":{\"colorbar\":{\"title\":{\"text\":\"Labour force participation (female\\u002fmale pop. %)\"}},\"colorscale\":[[0.0,\"#0d0887\"],[0.1111111111111111,\"#46039f\"],[0.2222222222222222,\"#7201a8\"],[0.3333333333333333,\"#9c179e\"],[0.4444444444444444,\"#bd3786\"],[0.5555555555555556,\"#d8576b\"],[0.6666666666666666,\"#ed7953\"],[0.7777777777777778,\"#fb9f3a\"],[0.8888888888888888,\"#fdca26\"],[1.0,\"#f0f921\"]]},\"legend\":{\"tracegroupgap\":0},\"title\":{\"text\":\"Average Labour Force Participation of Countries\"}},                        {\"responsive\": true}                    ).then(function(){\n",
              "                            \n",
              "var gd = document.getElementById('348e76c5-8059-4b8f-bee7-f9510d6484b0');\n",
              "var x = new MutationObserver(function (mutations, observer) {{\n",
              "        var display = window.getComputedStyle(gd).display;\n",
              "        if (!display || display === 'none') {{\n",
              "            console.log([gd, 'removed!']);\n",
              "            Plotly.purge(gd);\n",
              "            observer.disconnect();\n",
              "        }}\n",
              "}});\n",
              "\n",
              "// Listen for the removal of the full notebook cells\n",
              "var notebookContainer = gd.closest('#notebook-container');\n",
              "if (notebookContainer) {{\n",
              "    x.observe(notebookContainer, {childList: true});\n",
              "}}\n",
              "\n",
              "// Listen for the clearing of the current output cell\n",
              "var outputEl = gd.closest('.output');\n",
              "if (outputEl) {{\n",
              "    x.observe(outputEl, {childList: true});\n",
              "}}\n",
              "\n",
              "                        })                };                            </script>        </div>\n",
              "</body>\n",
              "</html>"
            ]
          },
          "metadata": {}
        }
      ]
    },
    {
      "cell_type": "markdown",
      "source": [
        "**Which region has the highest median CO₂ emissions per capita?**"
      ],
      "metadata": {
        "id": "OTCQacL_B673"
      }
    },
    {
      "cell_type": "code",
      "source": [
        "df['Region'].unique()"
      ],
      "metadata": {
        "colab": {
          "base_uri": "https://localhost:8080/"
        },
        "id": "4gneQm9HB_EM",
        "outputId": "cc175982-c218-44ef-f111-91af06947d03"
      },
      "execution_count": 167,
      "outputs": [
        {
          "output_type": "execute_result",
          "data": {
            "text/plain": [
              "array(['SouthernAsia', 'SouthernEurope', 'NorthernAfrica', 'Polynesia',\n",
              "       'MiddleAfrica', 'Caribbean', 'SouthAmerica', 'WesternAsia',\n",
              "       'Oceania', 'WesternEurope', 'EasternEurope', 'CentralAmerica',\n",
              "       'WesternAfrica', 'NorthernAmerica', 'SouthernAfrica',\n",
              "       'South-easternAsia', 'EasternAfrica', 'NorthernEurope',\n",
              "       'EasternAsia', 'Melanesia', 'Micronesia', 'CentralAsia'],\n",
              "      dtype=object)"
            ]
          },
          "metadata": {},
          "execution_count": 167
        }
      ]
    },
    {
      "cell_type": "code",
      "source": [
        "df['CO2 emission estimates (million tons/tons per capita)'].unique()"
      ],
      "metadata": {
        "colab": {
          "base_uri": "https://localhost:8080/"
        },
        "id": "b71txALHCCAV",
        "outputId": "66714ab6-979e-4210-f8bd-c83d51457e72"
      },
      "execution_count": 168,
      "outputs": [
        {
          "output_type": "execute_result",
          "data": {
            "text/plain": [
              "array([    63,     84,   5900,    -99,      1,   3902,      0,   3167,\n",
              "           48,  15282,    505,   2459,    961,   1438,      2,    155,\n",
              "          520,      9,     96,     75,    962,    252,     47,  10948,\n",
              "          679,    474,    123,     56,    178,    408,  19276,     19,\n",
              "          288,    540, 101394,   5380,      3,    648,    110,    182,\n",
              "          212,      5,   1221,    871,   1179,    666,     28,   1247,\n",
              "         3509,     86,    841,     27,    242,   1308,      8,    757,\n",
              "         5694,    559,      7,     61,   5004,    410,    368,    327,\n",
              "           25,    113,    136,    105,    423,    284,  23103,  19481,\n",
              "        13291,   6744,    313,   1539,   1114,   7091,    750,   6941,\n",
              "           80,     72,    108,     31,     73,   1505,     74,      6,\n",
              "          129,     89,   3738,     55,     10,   8514,    677,     29,\n",
              "           78,    779,   1078,    451,   2447,    783,     91,    101,\n",
              "        10851,   8204,   3101,   2202,    114,    325,   1020,    991,\n",
              "         2819,    250,   9166,   2023,     15,   1109,  54829,  25904,\n",
              "           77,    393,     53,    264,    154,   7102,    337,   1432,\n",
              "          179,    682,     44,     39,   1428,    552,    237,     76,\n",
              "         3338,    143,    111,   1663,    274,   1303,   3270,    409,\n",
              "         3203,   8642,   4482,    935,  83887,   2339,   7460,   2977,\n",
              "          668,    374,    482])"
            ]
          },
          "metadata": {},
          "execution_count": 168
        }
      ]
    },
    {
      "cell_type": "code",
      "source": [
        "df['CO2 emission estimates (million tons/tons per capita)'].replace(-99,np.nan,inplace = True)\n",
        "df.dropna(subset = ['CO2 emission estimates (million tons/tons per capita)'],inplace = True)"
      ],
      "metadata": {
        "id": "fVJkC-k6CZC_"
      },
      "execution_count": 169,
      "outputs": []
    },
    {
      "cell_type": "code",
      "source": [
        "df.groupby('Region')['CO2 emission estimates (million tons/tons per capita)'].median()"
      ],
      "metadata": {
        "colab": {
          "base_uri": "https://localhost:8080/",
          "height": 805
        },
        "id": "kB4ShKAbDOKt",
        "outputId": "77c28829-8974-499b-f2a5-433220d2c7cc"
      },
      "execution_count": 173,
      "outputs": [
        {
          "output_type": "execute_result",
          "data": {
            "text/plain": [
              "Region\n",
              "Caribbean               0.5\n",
              "CentralAmerica         98.0\n",
              "CentralAsia          2339.0\n",
              "EasternAfrica         129.0\n",
              "EasternAsia           992.5\n",
              "EasternEurope         791.5\n",
              "Melanesia               3.0\n",
              "Micronesia              0.0\n",
              "MiddleAfrica          559.0\n",
              "NorthernAfrica       1093.5\n",
              "NorthernAmerica         2.0\n",
              "NorthernEurope        263.0\n",
              "Oceania              8032.5\n",
              "Polynesia               0.5\n",
              "South-easternAsia     991.0\n",
              "SouthAmerica          751.0\n",
              "SouthernAfrica         39.0\n",
              "SouthernAsia          451.0\n",
              "SouthernEurope        182.0\n",
              "WesternAfrica          75.0\n",
              "WesternAsia           814.5\n",
              "WesternEurope         536.0\n",
              "Name: CO2 emission estimates (million tons/tons per capita), dtype: float64"
            ],
            "text/html": [
              "<div>\n",
              "<style scoped>\n",
              "    .dataframe tbody tr th:only-of-type {\n",
              "        vertical-align: middle;\n",
              "    }\n",
              "\n",
              "    .dataframe tbody tr th {\n",
              "        vertical-align: top;\n",
              "    }\n",
              "\n",
              "    .dataframe thead th {\n",
              "        text-align: right;\n",
              "    }\n",
              "</style>\n",
              "<table border=\"1\" class=\"dataframe\">\n",
              "  <thead>\n",
              "    <tr style=\"text-align: right;\">\n",
              "      <th></th>\n",
              "      <th>CO2 emission estimates (million tons/tons per capita)</th>\n",
              "    </tr>\n",
              "    <tr>\n",
              "      <th>Region</th>\n",
              "      <th></th>\n",
              "    </tr>\n",
              "  </thead>\n",
              "  <tbody>\n",
              "    <tr>\n",
              "      <th>Caribbean</th>\n",
              "      <td>0.5</td>\n",
              "    </tr>\n",
              "    <tr>\n",
              "      <th>CentralAmerica</th>\n",
              "      <td>98.0</td>\n",
              "    </tr>\n",
              "    <tr>\n",
              "      <th>CentralAsia</th>\n",
              "      <td>2339.0</td>\n",
              "    </tr>\n",
              "    <tr>\n",
              "      <th>EasternAfrica</th>\n",
              "      <td>129.0</td>\n",
              "    </tr>\n",
              "    <tr>\n",
              "      <th>EasternAsia</th>\n",
              "      <td>992.5</td>\n",
              "    </tr>\n",
              "    <tr>\n",
              "      <th>EasternEurope</th>\n",
              "      <td>791.5</td>\n",
              "    </tr>\n",
              "    <tr>\n",
              "      <th>Melanesia</th>\n",
              "      <td>3.0</td>\n",
              "    </tr>\n",
              "    <tr>\n",
              "      <th>Micronesia</th>\n",
              "      <td>0.0</td>\n",
              "    </tr>\n",
              "    <tr>\n",
              "      <th>MiddleAfrica</th>\n",
              "      <td>559.0</td>\n",
              "    </tr>\n",
              "    <tr>\n",
              "      <th>NorthernAfrica</th>\n",
              "      <td>1093.5</td>\n",
              "    </tr>\n",
              "    <tr>\n",
              "      <th>NorthernAmerica</th>\n",
              "      <td>2.0</td>\n",
              "    </tr>\n",
              "    <tr>\n",
              "      <th>NorthernEurope</th>\n",
              "      <td>263.0</td>\n",
              "    </tr>\n",
              "    <tr>\n",
              "      <th>Oceania</th>\n",
              "      <td>8032.5</td>\n",
              "    </tr>\n",
              "    <tr>\n",
              "      <th>Polynesia</th>\n",
              "      <td>0.5</td>\n",
              "    </tr>\n",
              "    <tr>\n",
              "      <th>South-easternAsia</th>\n",
              "      <td>991.0</td>\n",
              "    </tr>\n",
              "    <tr>\n",
              "      <th>SouthAmerica</th>\n",
              "      <td>751.0</td>\n",
              "    </tr>\n",
              "    <tr>\n",
              "      <th>SouthernAfrica</th>\n",
              "      <td>39.0</td>\n",
              "    </tr>\n",
              "    <tr>\n",
              "      <th>SouthernAsia</th>\n",
              "      <td>451.0</td>\n",
              "    </tr>\n",
              "    <tr>\n",
              "      <th>SouthernEurope</th>\n",
              "      <td>182.0</td>\n",
              "    </tr>\n",
              "    <tr>\n",
              "      <th>WesternAfrica</th>\n",
              "      <td>75.0</td>\n",
              "    </tr>\n",
              "    <tr>\n",
              "      <th>WesternAsia</th>\n",
              "      <td>814.5</td>\n",
              "    </tr>\n",
              "    <tr>\n",
              "      <th>WesternEurope</th>\n",
              "      <td>536.0</td>\n",
              "    </tr>\n",
              "  </tbody>\n",
              "</table>\n",
              "</div><br><label><b>dtype:</b> float64</label>"
            ]
          },
          "metadata": {},
          "execution_count": 173
        }
      ]
    },
    {
      "cell_type": "code",
      "source": [
        "df.groupby('Region')['CO2 emission estimates (million tons/tons per capita)'].median().idxmax() #index of max value"
      ],
      "metadata": {
        "colab": {
          "base_uri": "https://localhost:8080/",
          "height": 36
        },
        "id": "NGtP1C9mb2lv",
        "outputId": "6cb7e06a-e2f9-44df-8e0a-cd9a57154246"
      },
      "execution_count": 170,
      "outputs": [
        {
          "output_type": "execute_result",
          "data": {
            "text/plain": [
              "'Oceania'"
            ],
            "application/vnd.google.colaboratory.intrinsic+json": {
              "type": "string"
            }
          },
          "metadata": {},
          "execution_count": 170
        }
      ]
    },
    {
      "cell_type": "markdown",
      "source": [
        "**Which country has the highest proportion of international migrants (% of total population)?**"
      ],
      "metadata": {
        "id": "NcNQjFVAC5Q7"
      }
    },
    {
      "cell_type": "code",
      "source": [
        "df['International migrant stock (000/% of total pop.)'].unique()"
      ],
      "metadata": {
        "id": "JAFHJT6qyDnS",
        "colab": {
          "base_uri": "https://localhost:8080/"
        },
        "outputId": "2dcb56aa-bc65-4745-dc84-7122aa2431a0"
      },
      "execution_count": null,
      "outputs": [
        {
          "output_type": "execute_result",
          "data": {
            "text/plain": [
              "array(['382.4/1.2', '57.6/2.0', '242.4/0.6', '42.1/59.7', '106.8/0.4',\n",
              "       '2086.3/4.8', '191.2/6.3', '6763.7/28.2', '1492.4/17.5',\n",
              "       '264.2/2.7', '59.3/15.3', '704.1/51.1', '1422.8/0.9', '34.5/12.1',\n",
              "       '1082.9/11.4', '1387.9/12.3', '53.9/15.0', '245.4/2.3',\n",
              "       '19.1/30.8', '51.1/6.6', '143.0/1.3', '13.0/52.3', '34.8/0.9',\n",
              "       '160.6/7.1', '713.6/0.3', '102.7/24.3', '102.1/1.4', '704.7/3.9',\n",
              "       '286.8/2.6', '14.9/2.9', '74.0/0.5', '382.0/1.6', '7835.5/21.8',\n",
              "       '81.6/1.7', '517.0/3.7', '82.3/50.3', '469.4/2.6', '2838.7/38.9',\n",
              "       '342.7/58.3', '978.0/0.1', '133.1/0.3', '12.6/1.6', '393.0/8.5',\n",
              "       '4.2/19.9', '421.7/8.8', '576.9/13.6', '13.3/0.1', '196.2/16.8',\n",
              "       '405.1/3.8', '48.5/0.2', '545.7/0.7', '572.5/10.1', '112.4/12.7',\n",
              "       '415.6/3.9', '387.5/2.4', '491.6/0.5', '42.0/0.7', '10.8/1.3',\n",
              "       '15.9/0.3', '202.3/15.4', '1072.9/1.1', '1.6/54.1', '5.5/11.4',\n",
              "       '13.8/1.5', '315.9/5.7', '7784.4/12.1', '106.1/39.5', '30.1/10.6',\n",
              "       '268.4/15.6', '192.5/9.7', '168.8/4.2', '12005.7/14.9',\n",
              "       '399.5/1.5', '1242.5/11.3', '6.0/10.7', '98.5/21.0', '76.4/0.5',\n",
              "       '22.3/1.2', '228.4/1.8', '15.4/2.0', '39.5/0.4', '0.8/100.0',\n",
              "       '28.1/0.3', '449.6/4.6', '37.5/11.4', '5241.0/0.4', '328.8/0.1',\n",
              "       '2726.4/3.4', '353.9/1.0', '746.3/15.9', '45.2/51.5',\n",
              "       '2011.7/24.9', '5788.9/9.7', '23.2/0.8', '2043.9/1.6',\n",
              "       '3112.0/41.0', '3546.8/20.1', '1084.4/2.4', '2866.1/73.6',\n",
              "       '204.4/3.4', '22.2/0.3', '263.1/13.4', '1997.8/34.1', '6.6/0.3',\n",
              "       '113.8/2.5', '23.5/62.6', '136.0/4.7', '249.3/44.0', '32.1/0.1',\n",
              "       '215.2/1.2', '2514.2/8.3', '94.1/25.9', '363.1/2.1', '41.4/9.9',\n",
              "       '3.3/6.2', '61.7/15.6', '138.2/3.4', '28.6/2.2', '1193.2/0.9',\n",
              "       '2.8/2.6', '17.6/0.6', '82.5/13.2', '88.5/0.3', '222.9/0.8',\n",
              "       '73.3/0.1', '93.9/3.8', '3.2/31.1', '518.3/1.8', '1979.5/11.7',\n",
              "       '64.3/24.4', '1039.7/23.0', '40.3/0.7', '189.3/1.0', '1199.1/0.7',\n",
              "       '741.8/14.2', '1845.0/41.1', '3629.0/1.9', '184.7/4.7', '25.8/0.3',\n",
              "       '156.5/2.4', '90.9/0.3', '211.9/0.2', '619.4/1.6', '837.3/8.1',\n",
              "       '1687.6/75.5', '1327.3/2.6', '142.9/3.5', '226.9/1.2',\n",
              "       '11643.3/8.1', '441.5/3.8', '12.8/6.9', '1.0/15.7', '4.6/4.2',\n",
              "       '4.9/2.6', '2.4/1.3', '10185.9/32.3', '263.2/1.7', '807.4/9.1',\n",
              "       '12.8/13.3', '91.2/1.4', '2543.6/45.4', '27.3/70.4', '177.2/3.3',\n",
              "       '236.0/11.4', '2.6/0.4', '25.3/0.2', '3142.5/5.8', '5853.0/12.7',\n",
              "       '38.7/0.2', '255.5/5.5', '503.5/1.3', '46.8/8.6', '31.6/2.5',\n",
              "       '1639.8/16.8', '2438.7/29.4', '875.2/4.7', '275.1/3.2',\n",
              "       '3913.3/5.8', '130.7/6.3', '10.8/0.9', '276.8/3.8', '5.7/5.4',\n",
              "       '49.9/3.7', '56.7/0.5', '2964.9/3.8', '749.5/1.9', '4834.9/10.8',\n",
              "       '8095.1/88.4', '8543.1/13.2', '261.2/0.5', '46627.1/14.5',\n",
              "       '71.8/2.1', '1170.9/3.9', '3.2/1.2', '1404.4/4.5', '72.8/0.1',\n",
              "       '2.8/21.7', '5.2/0.9', '344.1/1.3', '127.9/0.8', '398.9/2.6'],\n",
              "      dtype=object)"
            ]
          },
          "metadata": {},
          "execution_count": 97
        }
      ]
    },
    {
      "cell_type": "code",
      "source": [
        "df['International migrant stock (000/% of total pop.)'] = df['International migrant stock (000/% of total pop.)'].replace(['-99','.../...'],np.nan)\n",
        "df.dropna(subset = ['International migrant stock (000/% of total pop.)'],inplace=True)\n",
        "df['International migrant stock (000/% of total pop.)'] = df['International migrant stock (000/% of total pop.)'] = df['International migrant stock (000/% of total pop.)'].apply(lambda x: (sum(map(float,x.split('/')))/2) if isinstance(x,str) and '/' in x else float(x))"
      ],
      "metadata": {
        "id": "w8InKujqWdSs"
      },
      "execution_count": 174,
      "outputs": []
    },
    {
      "cell_type": "code",
      "source": [
        "df.groupby('country')['International migrant stock (000/% of total pop.)'].mean().idxmax()"
      ],
      "metadata": {
        "colab": {
          "base_uri": "https://localhost:8080/",
          "height": 36
        },
        "id": "_Egd07vCWzZl",
        "outputId": "7ed0e4c7-fb2d-40ca-ea6a-c3e132379b61"
      },
      "execution_count": 175,
      "outputs": [
        {
          "output_type": "execute_result",
          "data": {
            "text/plain": [
              "'United States of America'"
            ],
            "application/vnd.google.colaboratory.intrinsic+json": {
              "type": "string"
            }
          },
          "metadata": {},
          "execution_count": 175
        }
      ]
    },
    {
      "cell_type": "code",
      "source": [],
      "metadata": {
        "id": "q51ciW1QW2C7"
      },
      "execution_count": null,
      "outputs": []
    }
  ]
}